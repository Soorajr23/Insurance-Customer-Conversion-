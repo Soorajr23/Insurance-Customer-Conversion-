{
 "cells": [
  {
   "attachments": {
    "Insurance%20Image.jpg": {
     "image/jpeg": "[encoded data removed]"
    }
   },
   "cell_type": "markdown",
   "id": "8b601b73",
   "metadata": {},
   "source": [
    "# Insurance Customer Conversion Model\n",
    "![Insurance%20Image.jpg](attachment:Insurance%20Image.jpg)"
   ]
  },
  {
   "cell_type": "code",
   "execution_count": 60,
   "id": "77abd6ac",
   "metadata": {},
   "outputs": [],
   "source": [
    "import pandas as pd\n",
    "import numpy as np\n",
    "import seaborn as sns\n",
    "import matplotlib.pyplot as plt"
   ]
  },
  {
   "cell_type": "code",
   "execution_count": 61,
   "id": "b73570d3",
   "metadata": {},
   "outputs": [],
   "source": [
    "df = pd.read_csv('train_insurance.csv')"
   ]
  },
  {
   "cell_type": "code",
   "execution_count": 62,
   "id": "ca0ea9f3",
   "metadata": {},
   "outputs": [
    {
     "data": {
      "text/html": [
       "<div>\n",
       "<style scoped>\n",
       "    .dataframe tbody tr th:only-of-type {\n",
       "        vertical-align: middle;\n",
       "    }\n",
       "\n",
       "    .dataframe tbody tr th {\n",
       "        vertical-align: top;\n",
       "    }\n",
       "\n",
       "    .dataframe thead th {\n",
       "        text-align: right;\n",
       "    }\n",
       "</style>\n",
       "<table border=\"1\" class=\"dataframe\">\n",
       "  <thead>\n",
       "    <tr style=\"text-align: right;\">\n",
       "      <th></th>\n",
       "      <th>age</th>\n",
       "      <th>job</th>\n",
       "      <th>marital</th>\n",
       "      <th>education_qual</th>\n",
       "      <th>call_type</th>\n",
       "      <th>day</th>\n",
       "      <th>mon</th>\n",
       "      <th>dur</th>\n",
       "      <th>num_calls</th>\n",
       "      <th>prev_outcome</th>\n",
       "      <th>y</th>\n",
       "    </tr>\n",
       "  </thead>\n",
       "  <tbody>\n",
       "    <tr>\n",
       "      <th>0</th>\n",
       "      <td>58</td>\n",
       "      <td>management</td>\n",
       "      <td>married</td>\n",
       "      <td>tertiary</td>\n",
       "      <td>unknown</td>\n",
       "      <td>5</td>\n",
       "      <td>may</td>\n",
       "      <td>261</td>\n",
       "      <td>1</td>\n",
       "      <td>unknown</td>\n",
       "      <td>no</td>\n",
       "    </tr>\n",
       "    <tr>\n",
       "      <th>1</th>\n",
       "      <td>44</td>\n",
       "      <td>technician</td>\n",
       "      <td>single</td>\n",
       "      <td>secondary</td>\n",
       "      <td>unknown</td>\n",
       "      <td>5</td>\n",
       "      <td>may</td>\n",
       "      <td>151</td>\n",
       "      <td>1</td>\n",
       "      <td>unknown</td>\n",
       "      <td>no</td>\n",
       "    </tr>\n",
       "    <tr>\n",
       "      <th>2</th>\n",
       "      <td>33</td>\n",
       "      <td>entrepreneur</td>\n",
       "      <td>married</td>\n",
       "      <td>secondary</td>\n",
       "      <td>unknown</td>\n",
       "      <td>5</td>\n",
       "      <td>may</td>\n",
       "      <td>76</td>\n",
       "      <td>1</td>\n",
       "      <td>unknown</td>\n",
       "      <td>no</td>\n",
       "    </tr>\n",
       "    <tr>\n",
       "      <th>3</th>\n",
       "      <td>47</td>\n",
       "      <td>blue-collar</td>\n",
       "      <td>married</td>\n",
       "      <td>unknown</td>\n",
       "      <td>unknown</td>\n",
       "      <td>5</td>\n",
       "      <td>may</td>\n",
       "      <td>92</td>\n",
       "      <td>1</td>\n",
       "      <td>unknown</td>\n",
       "      <td>no</td>\n",
       "    </tr>\n",
       "    <tr>\n",
       "      <th>4</th>\n",
       "      <td>33</td>\n",
       "      <td>unknown</td>\n",
       "      <td>single</td>\n",
       "      <td>unknown</td>\n",
       "      <td>unknown</td>\n",
       "      <td>5</td>\n",
       "      <td>may</td>\n",
       "      <td>198</td>\n",
       "      <td>1</td>\n",
       "      <td>unknown</td>\n",
       "      <td>no</td>\n",
       "    </tr>\n",
       "  </tbody>\n",
       "</table>\n",
       "</div>"
      ],
      "text/plain": [
       "   age           job  marital education_qual call_type  day  mon  dur  \\\n",
       "0   58    management  married       tertiary   unknown    5  may  261   \n",
       "1   44    technician   single      secondary   unknown    5  may  151   \n",
       "2   33  entrepreneur  married      secondary   unknown    5  may   76   \n",
       "3   47   blue-collar  married        unknown   unknown    5  may   92   \n",
       "4   33       unknown   single        unknown   unknown    5  may  198   \n",
       "\n",
       "   num_calls prev_outcome   y  \n",
       "0          1      unknown  no  \n",
       "1          1      unknown  no  \n",
       "2          1      unknown  no  \n",
       "3          1      unknown  no  \n",
       "4          1      unknown  no  "
      ]
     },
     "execution_count": 62,
     "metadata": {},
     "output_type": "execute_result"
    }
   ],
   "source": [
    "df.head()"
   ]
  },
  {
   "cell_type": "markdown",
   "id": "2edf8c55",
   "metadata": {},
   "source": [
    "# Data Cleaning"
   ]
  },
  {
   "cell_type": "code",
   "execution_count": 63,
   "id": "665ce5c3",
   "metadata": {},
   "outputs": [
    {
     "name": "stdout",
     "output_type": "stream",
     "text": [
      "<class 'pandas.core.frame.DataFrame'>\n",
      "RangeIndex: 45211 entries, 0 to 45210\n",
      "Data columns (total 11 columns):\n",
      " #   Column          Non-Null Count  Dtype \n",
      "---  ------          --------------  ----- \n",
      " 0   age             45211 non-null  int64 \n",
      " 1   job             45211 non-null  object\n",
      " 2   marital         45211 non-null  object\n",
      " 3   education_qual  45211 non-null  object\n",
      " 4   call_type       45211 non-null  object\n",
      " 5   day             45211 non-null  int64 \n",
      " 6   mon             45211 non-null  object\n",
      " 7   dur             45211 non-null  int64 \n",
      " 8   num_calls       45211 non-null  int64 \n",
      " 9   prev_outcome    45211 non-null  object\n",
      " 10  y               45211 non-null  object\n",
      "dtypes: int64(4), object(7)\n",
      "memory usage: 3.8+ MB\n"
     ]
    }
   ],
   "source": [
    "df.info()"
   ]
  },
  {
   "cell_type": "code",
   "execution_count": 64,
   "id": "50f9fe9e",
   "metadata": {},
   "outputs": [
    {
     "data": {
      "text/plain": [
       "age               0\n",
       "job               0\n",
       "marital           0\n",
       "education_qual    0\n",
       "call_type         0\n",
       "day               0\n",
       "mon               0\n",
       "dur               0\n",
       "num_calls         0\n",
       "prev_outcome      0\n",
       "y                 0\n",
       "dtype: int64"
      ]
     },
     "execution_count": 64,
     "metadata": {},
     "output_type": "execute_result"
    }
   ],
   "source": [
    "df.isnull().sum()"
   ]
  },
  {
   "cell_type": "code",
   "execution_count": 65,
   "id": "a480d9e5",
   "metadata": {},
   "outputs": [
    {
     "data": {
      "text/plain": [
       "6"
      ]
     },
     "execution_count": 65,
     "metadata": {},
     "output_type": "execute_result"
    }
   ],
   "source": [
    "df.duplicated().sum()"
   ]
  },
  {
   "cell_type": "code",
   "execution_count": 66,
   "id": "42705af9",
   "metadata": {},
   "outputs": [],
   "source": [
    "df.drop_duplicates(inplace=True)"
   ]
  },
  {
   "cell_type": "code",
   "execution_count": 67,
   "id": "ec953ae5",
   "metadata": {},
   "outputs": [
    {
     "data": {
      "text/plain": [
       "0"
      ]
     },
     "execution_count": 67,
     "metadata": {},
     "output_type": "execute_result"
    }
   ],
   "source": [
    "df.duplicated().sum()"
   ]
  },
  {
   "cell_type": "code",
   "execution_count": 68,
   "id": "133c80f1",
   "metadata": {},
   "outputs": [
    {
     "data": {
      "text/html": [
       "<div>\n",
       "<style scoped>\n",
       "    .dataframe tbody tr th:only-of-type {\n",
       "        vertical-align: middle;\n",
       "    }\n",
       "\n",
       "    .dataframe tbody tr th {\n",
       "        vertical-align: top;\n",
       "    }\n",
       "\n",
       "    .dataframe thead th {\n",
       "        text-align: right;\n",
       "    }\n",
       "</style>\n",
       "<table border=\"1\" class=\"dataframe\">\n",
       "  <thead>\n",
       "    <tr style=\"text-align: right;\">\n",
       "      <th></th>\n",
       "      <th>age</th>\n",
       "      <th>day</th>\n",
       "      <th>dur</th>\n",
       "      <th>num_calls</th>\n",
       "    </tr>\n",
       "  </thead>\n",
       "  <tbody>\n",
       "    <tr>\n",
       "      <th>count</th>\n",
       "      <td>45205.000000</td>\n",
       "      <td>45205.00000</td>\n",
       "      <td>45205.000000</td>\n",
       "      <td>45205.000000</td>\n",
       "    </tr>\n",
       "    <tr>\n",
       "      <th>mean</th>\n",
       "      <td>40.937087</td>\n",
       "      <td>15.80688</td>\n",
       "      <td>258.183055</td>\n",
       "      <td>2.763898</td>\n",
       "    </tr>\n",
       "    <tr>\n",
       "      <th>std</th>\n",
       "      <td>10.619130</td>\n",
       "      <td>8.32234</td>\n",
       "      <td>257.538504</td>\n",
       "      <td>3.098189</td>\n",
       "    </tr>\n",
       "    <tr>\n",
       "      <th>min</th>\n",
       "      <td>18.000000</td>\n",
       "      <td>1.00000</td>\n",
       "      <td>0.000000</td>\n",
       "      <td>1.000000</td>\n",
       "    </tr>\n",
       "    <tr>\n",
       "      <th>25%</th>\n",
       "      <td>33.000000</td>\n",
       "      <td>8.00000</td>\n",
       "      <td>103.000000</td>\n",
       "      <td>1.000000</td>\n",
       "    </tr>\n",
       "    <tr>\n",
       "      <th>50%</th>\n",
       "      <td>39.000000</td>\n",
       "      <td>16.00000</td>\n",
       "      <td>180.000000</td>\n",
       "      <td>2.000000</td>\n",
       "    </tr>\n",
       "    <tr>\n",
       "      <th>75%</th>\n",
       "      <td>48.000000</td>\n",
       "      <td>21.00000</td>\n",
       "      <td>319.000000</td>\n",
       "      <td>3.000000</td>\n",
       "    </tr>\n",
       "    <tr>\n",
       "      <th>max</th>\n",
       "      <td>95.000000</td>\n",
       "      <td>31.00000</td>\n",
       "      <td>4918.000000</td>\n",
       "      <td>63.000000</td>\n",
       "    </tr>\n",
       "  </tbody>\n",
       "</table>\n",
       "</div>"
      ],
      "text/plain": [
       "                age          day           dur     num_calls\n",
       "count  45205.000000  45205.00000  45205.000000  45205.000000\n",
       "mean      40.937087     15.80688    258.183055      2.763898\n",
       "std       10.619130      8.32234    257.538504      3.098189\n",
       "min       18.000000      1.00000      0.000000      1.000000\n",
       "25%       33.000000      8.00000    103.000000      1.000000\n",
       "50%       39.000000     16.00000    180.000000      2.000000\n",
       "75%       48.000000     21.00000    319.000000      3.000000\n",
       "max       95.000000     31.00000   4918.000000     63.000000"
      ]
     },
     "execution_count": 68,
     "metadata": {},
     "output_type": "execute_result"
    }
   ],
   "source": [
    "df.describe()"
   ]
  },
  {
   "cell_type": "code",
   "execution_count": 69,
   "id": "18d6efba",
   "metadata": {},
   "outputs": [
    {
     "data": {
      "text/plain": [
       "<AxesSubplot:xlabel='y', ylabel='count'>"
      ]
     },
     "execution_count": 69,
     "metadata": {},
     "output_type": "execute_result"
    },
    {
     "data": {
      "image/png": "[encoded data removed]",
      "text/plain": [
       "<Figure size 432x288 with 1 Axes>"
      ]
     },
     "metadata": {
      "needs_background": "light"
     },
     "output_type": "display_data"
    }
   ],
   "source": [
    "sns.countplot(data=df, x=df['y'])"
   ]
  },
  {
   "cell_type": "code",
   "execution_count": 70,
   "id": "f8ebf1bd",
   "metadata": {},
   "outputs": [
    {
     "data": {
      "text/plain": [
       "<AxesSubplot:xlabel='marital', ylabel='count'>"
      ]
     },
     "execution_count": 70,
     "metadata": {},
     "output_type": "execute_result"
    },
    {
     "data": {
      "image/png": "[encoded data removed]",
      "text/plain": [
       "<Figure size 432x288 with 1 Axes>"
      ]
     },
     "metadata": {
      "needs_background": "light"
     },
     "output_type": "display_data"
    }
   ],
   "source": [
    "sns.countplot(data=df, x=df['marital'], hue=df['y'])"
   ]
  },
  {
   "cell_type": "code",
   "execution_count": 71,
   "id": "dad3a8c7",
   "metadata": {},
   "outputs": [
    {
     "data": {
      "text/plain": [
       "<AxesSubplot:xlabel='education_qual', ylabel='count'>"
      ]
     },
     "execution_count": 71,
     "metadata": {},
     "output_type": "execute_result"
    },
    {
     "data": {
      "image/png": "[encoded data removed]",
      "text/plain": [
       "<Figure size 432x288 with 1 Axes>"
      ]
     },
     "metadata": {
      "needs_background": "light"
     },
     "output_type": "display_data"
    }
   ],
   "source": [
    "sns.countplot(data=df, x=df['education_qual'], hue=df['y'])"
   ]
  },
  {
   "cell_type": "code",
   "execution_count": 72,
   "id": "c8ea9329",
   "metadata": {},
   "outputs": [
    {
     "data": {
      "image/png": "[encoded data removed]",
      "text/plain": [
       "<Figure size 1080x576 with 1 Axes>"
      ]
     },
     "metadata": {
      "needs_background": "light"
     },
     "output_type": "display_data"
    }
   ],
   "source": [
    "plt.figure(figsize = (15,8))\n",
    "sns.countplot(data=df, x=df['job'], hue=df['y'])\n",
    "plt.show()"
   ]
  },
  {
   "cell_type": "code",
   "execution_count": 73,
   "id": "da5ee167",
   "metadata": {},
   "outputs": [
    {
     "data": {
      "text/plain": [
       "cellular     29282\n",
       "unknown      13017\n",
       "telephone     2906\n",
       "Name: call_type, dtype: int64"
      ]
     },
     "execution_count": 73,
     "metadata": {},
     "output_type": "execute_result"
    }
   ],
   "source": [
    "df.call_type.value_counts() #Imputing doesn't make sense as there is more unknown"
   ]
  },
  {
   "cell_type": "code",
   "execution_count": 74,
   "id": "5df785bb",
   "metadata": {},
   "outputs": [
    {
     "data": {
      "text/plain": [
       "secondary    23199\n",
       "tertiary     13299\n",
       "primary       6850\n",
       "unknown       1857\n",
       "Name: education_qual, dtype: int64"
      ]
     },
     "execution_count": 74,
     "metadata": {},
     "output_type": "execute_result"
    }
   ],
   "source": [
    "df.education_qual.value_counts() #Impute with mode as unknown percentage is less"
   ]
  },
  {
   "cell_type": "code",
   "execution_count": 75,
   "id": "4a717f36",
   "metadata": {},
   "outputs": [
    {
     "data": {
      "text/plain": [
       "blue-collar      9730\n",
       "management       9457\n",
       "technician       7596\n",
       "admin.           5170\n",
       "services         4153\n",
       "retired          2264\n",
       "self-employed    1579\n",
       "entrepreneur     1487\n",
       "unemployed       1303\n",
       "housemaid        1240\n",
       "student           938\n",
       "unknown           288\n",
       "Name: job, dtype: int64"
      ]
     },
     "execution_count": 75,
     "metadata": {},
     "output_type": "execute_result"
    }
   ],
   "source": [
    "df.job.value_counts() #Impute with mode as unknown percentage is less"
   ]
  },
  {
   "cell_type": "code",
   "execution_count": 76,
   "id": "ec00206f",
   "metadata": {},
   "outputs": [
    {
     "data": {
      "text/plain": [
       "married     27210\n",
       "single      12788\n",
       "divorced     5207\n",
       "Name: marital, dtype: int64"
      ]
     },
     "execution_count": 76,
     "metadata": {},
     "output_type": "execute_result"
    }
   ],
   "source": [
    "df.marital.value_counts() "
   ]
  },
  {
   "cell_type": "code",
   "execution_count": 77,
   "id": "8d42df00",
   "metadata": {},
   "outputs": [
    {
     "data": {
      "text/plain": [
       "may    13765\n",
       "jul     6894\n",
       "aug     6245\n",
       "jun     5339\n",
       "nov     3970\n",
       "apr     2932\n",
       "feb     2649\n",
       "jan     1403\n",
       "oct      738\n",
       "sep      579\n",
       "mar      477\n",
       "dec      214\n",
       "Name: mon, dtype: int64"
      ]
     },
     "execution_count": 77,
     "metadata": {},
     "output_type": "execute_result"
    }
   ],
   "source": [
    "df.mon.value_counts()"
   ]
  },
  {
   "cell_type": "code",
   "execution_count": 78,
   "id": "9beed2f1",
   "metadata": {},
   "outputs": [
    {
     "data": {
      "text/plain": [
       "unknown    36953\n",
       "failure     4901\n",
       "other       1840\n",
       "success     1511\n",
       "Name: prev_outcome, dtype: int64"
      ]
     },
     "execution_count": 78,
     "metadata": {},
     "output_type": "execute_result"
    }
   ],
   "source": [
    "df.prev_outcome.value_counts() #Imputing doesn't make sense as there is more unknown"
   ]
  },
  {
   "cell_type": "code",
   "execution_count": 79,
   "id": "9d102f43",
   "metadata": {},
   "outputs": [],
   "source": [
    "df['education_qual'] = df['education_qual'].replace('unknown', df.education_qual.mode()[0])"
   ]
  },
  {
   "cell_type": "code",
   "execution_count": 80,
   "id": "098f1a3c",
   "metadata": {},
   "outputs": [
    {
     "data": {
      "text/plain": [
       "secondary    25056\n",
       "tertiary     13299\n",
       "primary       6850\n",
       "Name: education_qual, dtype: int64"
      ]
     },
     "execution_count": 80,
     "metadata": {},
     "output_type": "execute_result"
    }
   ],
   "source": [
    "df.education_qual.value_counts()"
   ]
  },
  {
   "cell_type": "code",
   "execution_count": 81,
   "id": "7cba767e",
   "metadata": {},
   "outputs": [],
   "source": [
    "df['job'] = df['job'].replace('unknown', df.job.mode()[0])"
   ]
  },
  {
   "cell_type": "code",
   "execution_count": 82,
   "id": "59c8f305",
   "metadata": {},
   "outputs": [
    {
     "data": {
      "text/plain": [
       "blue-collar      10018\n",
       "management        9457\n",
       "technician        7596\n",
       "admin.            5170\n",
       "services          4153\n",
       "retired           2264\n",
       "self-employed     1579\n",
       "entrepreneur      1487\n",
       "unemployed        1303\n",
       "housemaid         1240\n",
       "student            938\n",
       "Name: job, dtype: int64"
      ]
     },
     "execution_count": 82,
     "metadata": {},
     "output_type": "execute_result"
    }
   ],
   "source": [
    "df.job.value_counts()"
   ]
  },
  {
   "cell_type": "code",
   "execution_count": 83,
   "id": "333b7695",
   "metadata": {},
   "outputs": [],
   "source": [
    "# IQR Claculation for age\n",
    "iqr_age = df.age.quantile(0.75) - df.age.quantile(0.25)\n",
    "upper_threshold_age = df.age.quantile(0.75) + (1.5 * iqr_age) # q3 + 1.5iqr\n",
    "lower_threshold_age = df.age.quantile(0.25) - (1.5 * iqr_age) # q1 - 1.5iqr"
   ]
  },
  {
   "cell_type": "code",
   "execution_count": 84,
   "id": "00ac20df",
   "metadata": {},
   "outputs": [],
   "source": [
    "# IQR Claculation for duration\n",
    "iqr_dur = df.dur.quantile(0.75) - df.dur.quantile(0.25)\n",
    "upper_threshold_dur = df.dur.quantile(0.75) + (1.5 * iqr_dur) # q3 + 1.5iqr\n",
    "lower_threshold_dur = df.dur.quantile(0.25) - (1.5 * iqr_dur) # q1 - 1.5iqr"
   ]
  },
  {
   "cell_type": "code",
   "execution_count": 85,
   "id": "b80a677e",
   "metadata": {},
   "outputs": [],
   "source": [
    "# IQR Claculation for number of calls\n",
    "iqr_num_call = df.num_calls.quantile(0.75) - df.num_calls.quantile(0.25)\n",
    "upper_threshold_num_call = df.num_calls.quantile(0.75) + (1.5 * iqr_num_call) # q3 + 1.5iqr\n",
    "lower_threshold_num_call = df.num_calls.quantile(0.25) - (1.5 * iqr_num_call) # q1 - 1.5iqr"
   ]
  },
  {
   "cell_type": "code",
   "execution_count": 86,
   "id": "a5305a78",
   "metadata": {},
   "outputs": [],
   "source": [
    "# Creating a new dataframe for the outlier content\n",
    "df1 = df\n",
    "df1.age = df.age.clip(lower_threshold_age, upper_threshold_age, axis=0)\n",
    "df1.dur = df.dur.clip(lower_threshold_dur, upper_threshold_dur, axis=0)\n",
    "df1.num_calls = df.num_calls.clip(lower_threshold_num_call, upper_threshold_num_call, axis=0)"
   ]
  },
  {
   "cell_type": "code",
   "execution_count": 87,
   "id": "c881523c",
   "metadata": {},
   "outputs": [
    {
     "data": {
      "text/html": [
       "<div>\n",
       "<style scoped>\n",
       "    .dataframe tbody tr th:only-of-type {\n",
       "        vertical-align: middle;\n",
       "    }\n",
       "\n",
       "    .dataframe tbody tr th {\n",
       "        vertical-align: top;\n",
       "    }\n",
       "\n",
       "    .dataframe thead th {\n",
       "        text-align: right;\n",
       "    }\n",
       "</style>\n",
       "<table border=\"1\" class=\"dataframe\">\n",
       "  <thead>\n",
       "    <tr style=\"text-align: right;\">\n",
       "      <th></th>\n",
       "      <th>age</th>\n",
       "      <th>day</th>\n",
       "      <th>dur</th>\n",
       "      <th>num_calls</th>\n",
       "    </tr>\n",
       "  </thead>\n",
       "  <tbody>\n",
       "    <tr>\n",
       "      <th>count</th>\n",
       "      <td>45205.000000</td>\n",
       "      <td>45205.00000</td>\n",
       "      <td>45205.00000</td>\n",
       "      <td>45205.000000</td>\n",
       "    </tr>\n",
       "    <tr>\n",
       "      <th>mean</th>\n",
       "      <td>40.869052</td>\n",
       "      <td>15.80688</td>\n",
       "      <td>234.95620</td>\n",
       "      <td>2.392235</td>\n",
       "    </tr>\n",
       "    <tr>\n",
       "      <th>std</th>\n",
       "      <td>10.395247</td>\n",
       "      <td>8.32234</td>\n",
       "      <td>176.75476</td>\n",
       "      <td>1.600152</td>\n",
       "    </tr>\n",
       "    <tr>\n",
       "      <th>min</th>\n",
       "      <td>18.000000</td>\n",
       "      <td>1.00000</td>\n",
       "      <td>0.00000</td>\n",
       "      <td>1.000000</td>\n",
       "    </tr>\n",
       "    <tr>\n",
       "      <th>25%</th>\n",
       "      <td>33.000000</td>\n",
       "      <td>8.00000</td>\n",
       "      <td>103.00000</td>\n",
       "      <td>1.000000</td>\n",
       "    </tr>\n",
       "    <tr>\n",
       "      <th>50%</th>\n",
       "      <td>39.000000</td>\n",
       "      <td>16.00000</td>\n",
       "      <td>180.00000</td>\n",
       "      <td>2.000000</td>\n",
       "    </tr>\n",
       "    <tr>\n",
       "      <th>75%</th>\n",
       "      <td>48.000000</td>\n",
       "      <td>21.00000</td>\n",
       "      <td>319.00000</td>\n",
       "      <td>3.000000</td>\n",
       "    </tr>\n",
       "    <tr>\n",
       "      <th>max</th>\n",
       "      <td>70.500000</td>\n",
       "      <td>31.00000</td>\n",
       "      <td>643.00000</td>\n",
       "      <td>6.000000</td>\n",
       "    </tr>\n",
       "  </tbody>\n",
       "</table>\n",
       "</div>"
      ],
      "text/plain": [
       "                age          day          dur     num_calls\n",
       "count  45205.000000  45205.00000  45205.00000  45205.000000\n",
       "mean      40.869052     15.80688    234.95620      2.392235\n",
       "std       10.395247      8.32234    176.75476      1.600152\n",
       "min       18.000000      1.00000      0.00000      1.000000\n",
       "25%       33.000000      8.00000    103.00000      1.000000\n",
       "50%       39.000000     16.00000    180.00000      2.000000\n",
       "75%       48.000000     21.00000    319.00000      3.000000\n",
       "max       70.500000     31.00000    643.00000      6.000000"
      ]
     },
     "execution_count": 87,
     "metadata": {},
     "output_type": "execute_result"
    }
   ],
   "source": [
    "df.describe()"
   ]
  },
  {
   "cell_type": "code",
   "execution_count": 88,
   "id": "7b16c602",
   "metadata": {},
   "outputs": [],
   "source": [
    "df['target'] = df.y.map({'yes':1, 'no':0})"
   ]
  },
  {
   "cell_type": "code",
   "execution_count": 89,
   "id": "0e7242f4",
   "metadata": {},
   "outputs": [
    {
     "data": {
      "text/plain": [
       "prev_outcome\n",
       "failure    0.126097\n",
       "other      0.166848\n",
       "success    0.647253\n",
       "unknown    0.091630\n",
       "Name: target, dtype: float64"
      ]
     },
     "execution_count": 89,
     "metadata": {},
     "output_type": "execute_result"
    }
   ],
   "source": [
    "df.groupby('prev_outcome')['target'].mean()"
   ]
  },
  {
   "cell_type": "code",
   "execution_count": 90,
   "id": "da3d4798",
   "metadata": {},
   "outputs": [
    {
     "data": {
      "text/plain": [
       "day\n",
       "1     0.279503\n",
       "10    0.230916\n",
       "30    0.173052\n",
       "22    0.170166\n",
       "3     0.164968\n",
       "4     0.159170\n",
       "25    0.158333\n",
       "12    0.152215\n",
       "13    0.152050\n",
       "2     0.140867\n",
       "15    0.139753\n",
       "24    0.138702\n",
       "16    0.135689\n",
       "23    0.134185\n",
       "27    0.133809\n",
       "11    0.122380\n",
       "9     0.114744\n",
       "14    0.113636\n",
       "5     0.112565\n",
       "26    0.112077\n",
       "8     0.109239\n",
       "21    0.099210\n",
       "18    0.098787\n",
       "6     0.093685\n",
       "17    0.090768\n",
       "7     0.086406\n",
       "28    0.078185\n",
       "29    0.073926\n",
       "31    0.071540\n",
       "20    0.069767\n",
       "19    0.069476\n",
       "Name: target, dtype: float64"
      ]
     },
     "execution_count": 90,
     "metadata": {},
     "output_type": "execute_result"
    }
   ],
   "source": [
    "df.groupby('day')['target'].mean().sort_values(ascending=False)"
   ]
  },
  {
   "cell_type": "code",
   "execution_count": 91,
   "id": "e7d81d07",
   "metadata": {},
   "outputs": [
    {
     "data": {
      "text/plain": [
       "<AxesSubplot:ylabel='mon'>"
      ]
     },
     "execution_count": 91,
     "metadata": {},
     "output_type": "execute_result"
    },
    {
     "data": {
      "image/png": "[encoded data removed]",
      "text/plain": [
       "<Figure size 432x288 with 1 Axes>"
      ]
     },
     "metadata": {
      "needs_background": "light"
     },
     "output_type": "display_data"
    }
   ],
   "source": [
    "(df.groupby('mon')['target'].mean()*100).sort_values().plot(kind='barh')"
   ]
  },
  {
   "cell_type": "code",
   "execution_count": 92,
   "id": "c145e843",
   "metadata": {},
   "outputs": [
    {
     "data": {
      "text/plain": [
       "<AxesSubplot:ylabel='job'>"
      ]
     },
     "execution_count": 92,
     "metadata": {},
     "output_type": "execute_result"
    },
    {
     "data": {
      "image/png": "[encoded data removed]",
      "text/plain": [
       "<Figure size 432x288 with 1 Axes>"
      ]
     },
     "metadata": {
      "needs_background": "light"
     },
     "output_type": "display_data"
    }
   ],
   "source": [
    "(df.groupby('job')['target'].mean()*100).sort_values().plot(kind='barh')"
   ]
  },
  {
   "cell_type": "code",
   "execution_count": 93,
   "id": "db847614",
   "metadata": {},
   "outputs": [
    {
     "data": {
      "text/plain": [
       "<AxesSubplot:ylabel='call_type'>"
      ]
     },
     "execution_count": 93,
     "metadata": {},
     "output_type": "execute_result"
    },
    {
     "data": {
      "image/png": "[encoded data removed]",
      "text/plain": [
       "<Figure size 432x288 with 1 Axes>"
      ]
     },
     "metadata": {
      "needs_background": "light"
     },
     "output_type": "display_data"
    }
   ],
   "source": [
    "(df.groupby('call_type')['target'].mean()*100).sort_values().plot(kind='barh')"
   ]
  },
  {
   "cell_type": "code",
   "execution_count": 94,
   "id": "9bf14275",
   "metadata": {},
   "outputs": [
    {
     "data": {
      "text/plain": [
       "<AxesSubplot:ylabel='education_qual'>"
      ]
     },
     "execution_count": 94,
     "metadata": {},
     "output_type": "execute_result"
    },
    {
     "data": {
      "image/png": "[encoded data removed]",
      "text/plain": [
       "<Figure size 432x288 with 1 Axes>"
      ]
     },
     "metadata": {
      "needs_background": "light"
     },
     "output_type": "display_data"
    }
   ],
   "source": [
    "(df.groupby('education_qual')['target'].mean()*100).sort_values().plot(kind='barh')"
   ]
  },
  {
   "cell_type": "code",
   "execution_count": 95,
   "id": "d84d493c",
   "metadata": {},
   "outputs": [
    {
     "data": {
      "text/plain": [
       "<AxesSubplot:ylabel='marital'>"
      ]
     },
     "execution_count": 95,
     "metadata": {},
     "output_type": "execute_result"
    },
    {
     "data": {
      "image/png": "[encoded data removed]",
      "text/plain": [
       "<Figure size 432x288 with 1 Axes>"
      ]
     },
     "metadata": {
      "needs_background": "light"
     },
     "output_type": "display_data"
    }
   ],
   "source": [
    "(df.groupby('marital')['target'].mean()*100).sort_values().plot(kind='barh')"
   ]
  },
  {
   "cell_type": "code",
   "execution_count": 96,
   "id": "4b4ec5d9",
   "metadata": {},
   "outputs": [
    {
     "data": {
      "text/plain": [
       "<AxesSubplot:ylabel='prev_outcome'>"
      ]
     },
     "execution_count": 96,
     "metadata": {},
     "output_type": "execute_result"
    },
    {
     "data": {
      "image/png": "[encoded data removed]",
      "text/plain": [
       "<Figure size 432x288 with 1 Axes>"
      ]
     },
     "metadata": {
      "needs_background": "light"
     },
     "output_type": "display_data"
    }
   ],
   "source": [
    "(df.groupby('prev_outcome')['target'].mean()*100).sort_values().plot(kind='barh')"
   ]
  },
  {
   "cell_type": "code",
   "execution_count": 97,
   "id": "42414727",
   "metadata": {},
   "outputs": [
    {
     "data": {
      "image/png": "[encoded data removed]",
      "text/plain": [
       "<Figure size 432x288 with 1 Axes>"
      ]
     },
     "metadata": {
      "needs_background": "light"
     },
     "output_type": "display_data"
    }
   ],
   "source": [
    "# boxplot\n",
    "ax = sns.boxplot(x=df.y, y=df.age, data=df)\n",
    "\n",
    "# add title\n",
    "plt.title(\"Boxplot of age\", loc=\"left\")\n",
    "\n",
    "# show the graph\n",
    "plt.show()"
   ]
  },
  {
   "cell_type": "code",
   "execution_count": 98,
   "id": "98600b35",
   "metadata": {},
   "outputs": [
    {
     "data": {
      "image/png": "[encoded data removed]",
      "text/plain": [
       "<Figure size 432x288 with 1 Axes>"
      ]
     },
     "metadata": {
      "needs_background": "light"
     },
     "output_type": "display_data"
    }
   ],
   "source": [
    "# boxplot\n",
    "ax = sns.boxplot(x=df.y, y=df.num_calls, data=df)\n",
    "\n",
    "# add title\n",
    "plt.title(\"Boxplot of Number of Calls\", loc=\"left\")\n",
    "\n",
    "# show the graph\n",
    "plt.show()"
   ]
  },
  {
   "cell_type": "code",
   "execution_count": 99,
   "id": "d1492882",
   "metadata": {},
   "outputs": [
    {
     "data": {
      "image/png": "[encoded data removed]",
      "text/plain": [
       "<Figure size 432x288 with 1 Axes>"
      ]
     },
     "metadata": {
      "needs_background": "light"
     },
     "output_type": "display_data"
    }
   ],
   "source": [
    "# boxplot\n",
    "ax = sns.barplot(x=df.y, y=df.day, data=df)\n",
    "\n",
    "# add title\n",
    "plt.title(\"Boxplot of Day\", loc=\"left\")\n",
    "\n",
    "# show the graph\n",
    "plt.show()"
   ]
  },
  {
   "cell_type": "code",
   "execution_count": 100,
   "id": "600c39a4",
   "metadata": {},
   "outputs": [],
   "source": [
    "df['prev_outcome'] = df['prev_outcome'].map({'unknown':0,'failure':1,'other':2,'success':3})"
   ]
  },
  {
   "cell_type": "code",
   "execution_count": 101,
   "id": "bcc0545e",
   "metadata": {},
   "outputs": [],
   "source": [
    "df['marital'] = df['marital'].map({'married':0,'divorced':1,'single':2})"
   ]
  },
  {
   "cell_type": "code",
   "execution_count": 102,
   "id": "0e45807f",
   "metadata": {},
   "outputs": [],
   "source": [
    "df['education_qual'] = df['education_qual'].map({'primary':0,'secondary':1,'tertiary':2})"
   ]
  },
  {
   "cell_type": "code",
   "execution_count": 103,
   "id": "da2e012b",
   "metadata": {},
   "outputs": [],
   "source": [
    "df['call_type'] = df['call_type'].map({'unknown':0,'telephone':1,'cellular':2})"
   ]
  },
  {
   "cell_type": "code",
   "execution_count": 104,
   "id": "d4f15b24",
   "metadata": {},
   "outputs": [],
   "source": [
    "df['job'] = df['job'].map({'blue-collar':0,'entrepreneur':1,'housemaid':2,'services':3,'technician':4,'self-employed':5,'admin.':6,'management':7,'unemployed':8,'retired':9,'student':10})"
   ]
  },
  {
   "cell_type": "code",
   "execution_count": 105,
   "id": "19761457",
   "metadata": {},
   "outputs": [],
   "source": [
    "df['mon'] = df['mon'].map({'may':0,'jul':1,'jan':2,'nov':3,'jun':4,'aug':5,'feb':6,'apr':7,'oct':8,'sep':9,'dec':10,'mar':11})"
   ]
  },
  {
   "cell_type": "code",
   "execution_count": 106,
   "id": "351ddf49",
   "metadata": {},
   "outputs": [
    {
     "data": {
      "text/plain": [
       "array([ 7,  4,  1,  0,  9,  6,  3,  5,  8,  2, 10], dtype=int64)"
      ]
     },
     "execution_count": 106,
     "metadata": {},
     "output_type": "execute_result"
    }
   ],
   "source": [
    "df.job.unique()"
   ]
  },
  {
   "cell_type": "code",
   "execution_count": 107,
   "id": "6fe03f19",
   "metadata": {},
   "outputs": [
    {
     "data": {
      "text/plain": [
       "array([0, 2, 1], dtype=int64)"
      ]
     },
     "execution_count": 107,
     "metadata": {},
     "output_type": "execute_result"
    }
   ],
   "source": [
    "df.marital.unique()"
   ]
  },
  {
   "cell_type": "code",
   "execution_count": 108,
   "id": "0dfb2259",
   "metadata": {},
   "outputs": [
    {
     "data": {
      "text/plain": [
       "Index(['age', 'job', 'marital', 'education_qual', 'call_type', 'day', 'mon',\n",
       "       'dur', 'num_calls', 'prev_outcome', 'y', 'target'],\n",
       "      dtype='object')"
      ]
     },
     "execution_count": 108,
     "metadata": {},
     "output_type": "execute_result"
    }
   ],
   "source": [
    "df.columns"
   ]
  },
  {
   "cell_type": "code",
   "execution_count": 109,
   "id": "294a24b5",
   "metadata": {},
   "outputs": [],
   "source": [
    "X = df.drop(columns = ['y', 'target'])"
   ]
  },
  {
   "cell_type": "code",
   "execution_count": 110,
   "id": "f3e93eff",
   "metadata": {},
   "outputs": [
    {
     "data": {
      "text/plain": [
       "(45205, 10)"
      ]
     },
     "execution_count": 110,
     "metadata": {},
     "output_type": "execute_result"
    }
   ],
   "source": [
    "X.shape"
   ]
  },
  {
   "cell_type": "code",
   "execution_count": 111,
   "id": "8d963b84",
   "metadata": {},
   "outputs": [],
   "source": [
    "y = df['target'].to_frame()"
   ]
  },
  {
   "cell_type": "code",
   "execution_count": 112,
   "id": "c32d73ac",
   "metadata": {},
   "outputs": [
    {
     "data": {
      "text/plain": [
       "(45205, 1)"
      ]
     },
     "execution_count": 112,
     "metadata": {},
     "output_type": "execute_result"
    }
   ],
   "source": [
    "y.shape"
   ]
  },
  {
   "cell_type": "code",
   "execution_count": 113,
   "id": "7db1fbb8",
   "metadata": {},
   "outputs": [
    {
     "data": {
      "text/plain": [
       "RandomForestClassifier()"
      ]
     },
     "execution_count": 113,
     "metadata": {},
     "output_type": "execute_result"
    }
   ],
   "source": [
    "from sklearn.ensemble import RandomForestClassifier\n",
    "rf = RandomForestClassifier()\n",
    "rf.fit(X,y.values.ravel())"
   ]
  },
  {
   "cell_type": "code",
   "execution_count": 114,
   "id": "d94cf5da",
   "metadata": {},
   "outputs": [
    {
     "data": {
      "image/png": "[encoded data removed]",
      "text/plain": [
       "<Figure size 720x720 with 1 Axes>"
      ]
     },
     "metadata": {
      "needs_background": "light"
     },
     "output_type": "display_data"
    }
   ],
   "source": [
    "# Plot the feature importance\n",
    "\n",
    "feat_scores= pd.DataFrame({\"Fraction of variables affected\" : rf.feature_importances_},index = X.columns)\n",
    "feat_scores= feat_scores.sort_values(by = \"Fraction of variables affected\")\n",
    "feat_scores.plot(kind = \"barh\", figsize = (10, 10))\n",
    "sns.despine()"
   ]
  },
  {
   "cell_type": "code",
   "execution_count": 115,
   "id": "3c1bd41d",
   "metadata": {},
   "outputs": [
    {
     "data": {
      "text/plain": [
       "age               0\n",
       "job               0\n",
       "marital           0\n",
       "education_qual    0\n",
       "call_type         0\n",
       "day               0\n",
       "mon               0\n",
       "dur               0\n",
       "num_calls         0\n",
       "prev_outcome      0\n",
       "y                 0\n",
       "target            0\n",
       "dtype: int64"
      ]
     },
     "execution_count": 115,
     "metadata": {},
     "output_type": "execute_result"
    }
   ],
   "source": [
    "df.isnull().sum()"
   ]
  },
  {
   "cell_type": "code",
   "execution_count": 116,
   "id": "ac8b5a0a",
   "metadata": {},
   "outputs": [],
   "source": [
    "from sklearn.model_selection import train_test_split\n",
    "X_train, X_test, y_train, y_test = train_test_split(X, y, test_size = 0.25)"
   ]
  },
  {
   "cell_type": "code",
   "execution_count": 117,
   "id": "608edaab",
   "metadata": {},
   "outputs": [],
   "source": [
    "from imblearn.combine import SMOTEENN\n",
    "\n",
    "smt = SMOTEENN(sampling_strategy = 'all')\n",
    "\n",
    "Xt_smt, yt_smt = smt.fit_resample(X_train,y_train)"
   ]
  },
  {
   "cell_type": "code",
   "execution_count": 118,
   "id": "31b2f8d2",
   "metadata": {},
   "outputs": [
    {
     "data": {
      "text/plain": [
       "target\n",
       "1         28843\n",
       "0         22667\n",
       "dtype: int64"
      ]
     },
     "execution_count": 118,
     "metadata": {},
     "output_type": "execute_result"
    }
   ],
   "source": [
    "yt_smt.value_counts()"
   ]
  },
  {
   "cell_type": "markdown",
   "id": "ae8039b3",
   "metadata": {},
   "source": [
    "# Logistic Regression"
   ]
  },
  {
   "cell_type": "code",
   "execution_count": 119,
   "id": "7961c9a2",
   "metadata": {},
   "outputs": [],
   "source": [
    "from sklearn.preprocessing import StandardScaler ## standrard scalig \n",
    "scaler = StandardScaler() #initialise to a variable\n",
    "scaler.fit(Xt_smt) # we are finding the values of mean and sd from the td\n",
    "X_train_scaled = scaler.transform(Xt_smt) # fit (mean, sd) and then transform the training data\n",
    "X_test_scaled = scaler.transform(X_test) # transform the test data "
   ]
  },
  {
   "cell_type": "code",
   "execution_count": 120,
   "id": "1366c679",
   "metadata": {},
   "outputs": [
    {
     "name": "stderr",
     "output_type": "stream",
     "text": [
      "E:\\New folder\\lib\\site-packages\\sklearn\\utils\\validation.py:993: DataConversionWarning: A column-vector y was passed when a 1d array was expected. Please change the shape of y to (n_samples, ), for example using ravel().\n",
      "  y = column_or_1d(y, warn=True)\n"
     ]
    },
    {
     "data": {
      "text/plain": [
       "LogisticRegression()"
      ]
     },
     "execution_count": 120,
     "metadata": {},
     "output_type": "execute_result"
    }
   ],
   "source": [
    "from sklearn.linear_model import LogisticRegression\n",
    "from sklearn.metrics import classification_report, confusion_matrix\n",
    "\n",
    "model_LR = LogisticRegression()\n",
    "model_LR.fit(X_train_scaled, yt_smt)"
   ]
  },
  {
   "cell_type": "code",
   "execution_count": 121,
   "id": "429761d7",
   "metadata": {},
   "outputs": [],
   "source": [
    "y_predict = model_LR.predict(X_test_scaled)"
   ]
  },
  {
   "cell_type": "code",
   "execution_count": 122,
   "id": "91dbb0c2",
   "metadata": {},
   "outputs": [
    {
     "name": "stdout",
     "output_type": "stream",
     "text": [
      "              precision    recall  f1-score   support\n",
      "\n",
      "           0       0.98      0.73      0.83      9978\n",
      "           1       0.30      0.87      0.44      1324\n",
      "\n",
      "    accuracy                           0.74     11302\n",
      "   macro avg       0.64      0.80      0.64     11302\n",
      "weighted avg       0.90      0.74      0.79     11302\n",
      "\n"
     ]
    }
   ],
   "source": [
    "print(classification_report(y_test, y_predict))"
   ]
  },
  {
   "cell_type": "code",
   "execution_count": 123,
   "id": "363c4c94",
   "metadata": {},
   "outputs": [
    {
     "data": {
      "text/plain": [
       "<AxesSubplot:>"
      ]
     },
     "execution_count": 123,
     "metadata": {},
     "output_type": "execute_result"
    },
    {
     "data": {
      "image/png": "[encoded data removed]",
      "text/plain": [
       "<Figure size 504x360 with 2 Axes>"
      ]
     },
     "metadata": {
      "needs_background": "light"
     },
     "output_type": "display_data"
    }
   ],
   "source": [
    "cm = confusion_matrix(y_test, y_predict)\n",
    "fig, ax = plt.subplots(figsize =(7,5))\n",
    "sns.heatmap(cm, annot=True, fmt = '.1f')"
   ]
  },
  {
   "cell_type": "code",
   "execution_count": 124,
   "id": "54e27e21",
   "metadata": {},
   "outputs": [
    {
     "name": "stdout",
     "output_type": "stream",
     "text": [
      "The AUCROC Score for Logistic Regression is:  79.776 %\n"
     ]
    }
   ],
   "source": [
    "from sklearn.metrics import roc_auc_score\n",
    "auc_score_1 = (roc_auc_score(y_test,y_predict))*100\n",
    "print(\"The AUCROC Score for Logistic Regression is: \", round(auc_score_1,3),\"%\")"
   ]
  },
  {
   "cell_type": "code",
   "execution_count": 125,
   "id": "6ab638d9",
   "metadata": {},
   "outputs": [
    {
     "name": "stdout",
     "output_type": "stream",
     "text": [
      "The AUCROC Score for Logistic Regression is:  87.784 %\n"
     ]
    }
   ],
   "source": [
    "from sklearn.metrics import roc_auc_score\n",
    "auc_score_1 = (roc_auc_score(y_test, model_LR.predict_proba(X_test_scaled)[:, 1]))*100\n",
    "print(\"The AUCROC Score for Logistic Regression is: \", round(auc_score_1,3),\"%\")"
   ]
  },
  {
   "cell_type": "markdown",
   "id": "453f7a5e",
   "metadata": {},
   "source": [
    "# Random Forest Classifier"
   ]
  },
  {
   "cell_type": "code",
   "execution_count": 127,
   "id": "27c74048",
   "metadata": {},
   "outputs": [
    {
     "name": "stderr",
     "output_type": "stream",
     "text": [
      "E:\\New folder\\lib\\site-packages\\sklearn\\utils\\validation.py:993: DataConversionWarning: A column-vector y was passed when a 1d array was expected. Please change the shape of y to (n_samples, ), for example using ravel().\n",
      "  y = column_or_1d(y, warn=True)\n",
      "E:\\New folder\\lib\\site-packages\\sklearn\\model_selection\\_search.py:292: UserWarning: The total space of parameters 144 is smaller than n_iter=2575. Running 144 iterations. For exhaustive searches, use GridSearchCV.\n",
      "  warnings.warn(\n",
      "E:\\New folder\\lib\\site-packages\\sklearn\\model_selection\\_search.py:926: DataConversionWarning: A column-vector y was passed when a 1d array was expected. Please change the shape of y to (n_samples,), for example using ravel().\n",
      "  self.best_estimator_.fit(X, y, **fit_params)\n"
     ]
    },
    {
     "name": "stdout",
     "output_type": "stream",
     "text": [
      "Best hyperparameters:  {'n_estimators': 200, 'min_samples_split': 5, 'min_samples_leaf': 1, 'max_depth': 20}\n",
      "Best score:  0.9182771535580525\n",
      "Test score:  0.8430704649927726\n"
     ]
    }
   ],
   "source": [
    "from sklearn.experimental import enable_halving_search_cv\n",
    "from sklearn.model_selection import HalvingGridSearchCV\n",
    "from sklearn.ensemble import RandomForestClassifier\n",
    "from sklearn.model_selection import HalvingRandomSearchCV, train_test_split, StratifiedKFold\n",
    "from sklearn.datasets import make_classification\n",
    "from sklearn.metrics import roc_auc_score, make_scorer\n",
    "\n",
    "\n",
    "# Define the hyperparameter grid to search over\n",
    "param_grid = {'n_estimators': [10, 50, 100, 200],\n",
    "              'max_depth': [None, 5, 10, 20],\n",
    "              'min_samples_split': [2, 5, 10],\n",
    "              'min_samples_leaf': [1, 2, 4]}\n",
    "\n",
    "# Create a Random Forest classifier\n",
    "rfc = RandomForestClassifier(random_state=42)\n",
    "\n",
    "# Define the cross-validation strategy\n",
    "cv = StratifiedKFold(n_splits=5, shuffle=True, random_state=42)\n",
    "\n",
    "# Define the scoring metric\n",
    "scoring = make_scorer(roc_auc_score, greater_is_better=True)\n",
    "\n",
    "# Define the halving search object\n",
    "halving_search = HalvingRandomSearchCV(\n",
    "    rfc, \n",
    "    param_grid, \n",
    "    factor=2, \n",
    "    random_state=42, \n",
    "    scoring=scoring, \n",
    "    n_jobs=-1, \n",
    "    cv=cv)\n",
    "\n",
    "# Fit the halving search object on the training data\n",
    "halving_search.fit(X_train_scaled, yt_smt)\n",
    "\n",
    "# Print the best hyperparameters and score\n",
    "print(\"Best hyperparameters: \", halving_search.best_params_)\n",
    "print(\"Best score: \", halving_search.best_score_)\n",
    "\n",
    "# Evaluate the final model on the testing set\n",
    "y_pred = halving_search.predict(X_test_scaled)\n",
    "test_score = roc_auc_score(y_test, y_pred)\n",
    "print(\"Test score: \", test_score)"
   ]
  },
  {
   "cell_type": "code",
   "execution_count": 128,
   "id": "e6f715ff",
   "metadata": {},
   "outputs": [
    {
     "name": "stderr",
     "output_type": "stream",
     "text": [
      "C:\\Users\\R K\\AppData\\Local\\Temp\\ipykernel_13492\\3208209393.py:3: DataConversionWarning: A column-vector y was passed when a 1d array was expected. Please change the shape of y to (n_samples,), for example using ravel().\n",
      "  model_RF.fit(X_train_scaled, yt_smt)\n"
     ]
    },
    {
     "data": {
      "text/plain": [
       "RandomForestClassifier(max_depth=20, min_samples_split=5, n_estimators=200)"
      ]
     },
     "execution_count": 128,
     "metadata": {},
     "output_type": "execute_result"
    }
   ],
   "source": [
    "from sklearn.ensemble import RandomForestClassifier\n",
    "model_RF = RandomForestClassifier(n_estimators = 200, min_samples_split = 5, min_samples_leaf = 1, max_depth = 20)\n",
    "model_RF.fit(X_train_scaled, yt_smt)"
   ]
  },
  {
   "cell_type": "code",
   "execution_count": 129,
   "id": "398a5056",
   "metadata": {},
   "outputs": [],
   "source": [
    "y_predict = model_RF.predict(X_test_scaled)"
   ]
  },
  {
   "cell_type": "code",
   "execution_count": 130,
   "id": "5bb67d49",
   "metadata": {},
   "outputs": [
    {
     "name": "stdout",
     "output_type": "stream",
     "text": [
      "              precision    recall  f1-score   support\n",
      "\n",
      "           0       0.98      0.84      0.90      9978\n",
      "           1       0.42      0.84      0.56      1324\n",
      "\n",
      "    accuracy                           0.84     11302\n",
      "   macro avg       0.70      0.84      0.73     11302\n",
      "weighted avg       0.91      0.84      0.86     11302\n",
      "\n"
     ]
    }
   ],
   "source": [
    "print(classification_report(y_test, y_predict))"
   ]
  },
  {
   "cell_type": "code",
   "execution_count": 131,
   "id": "f3b16bcd",
   "metadata": {},
   "outputs": [
    {
     "data": {
      "text/plain": [
       "<AxesSubplot:>"
      ]
     },
     "execution_count": 131,
     "metadata": {},
     "output_type": "execute_result"
    },
    {
     "data": {
      "image/png": "[encoded data removed]",
      "text/plain": [
       "<Figure size 504x360 with 2 Axes>"
      ]
     },
     "metadata": {
      "needs_background": "light"
     },
     "output_type": "display_data"
    }
   ],
   "source": [
    "cm = confusion_matrix(y_test, y_predict)\n",
    "fig, ax = plt.subplots(figsize =(7,5))\n",
    "sns.heatmap(cm, annot=True, fmt = '.1f')"
   ]
  },
  {
   "cell_type": "code",
   "execution_count": 132,
   "id": "7b806e67",
   "metadata": {},
   "outputs": [
    {
     "name": "stdout",
     "output_type": "stream",
     "text": [
      "The AUCROC Score for Random Forest Classifier is:  91.133 %\n"
     ]
    }
   ],
   "source": [
    "from sklearn.metrics import roc_auc_score\n",
    "auc_score_2 = (roc_auc_score(y_test, model_RF.predict_proba(X_test_scaled)[:, 1]))*100\n",
    "print(\"The AUCROC Score for Random Forest Classifier is: \", round(auc_score_2,3),\"%\")"
   ]
  },
  {
   "cell_type": "markdown",
   "id": "edc36b40",
   "metadata": {},
   "source": [
    "# Support Vector Machines"
   ]
  },
  {
   "cell_type": "code",
   "execution_count": null,
   "id": "93c264ce",
   "metadata": {},
   "outputs": [],
   "source": [
    "from sklearn.datasets import make_classification\n",
    "from sklearn.model_selection import HalvingRandomSearchCV, train_test_split, StratifiedKFold\n",
    "from sklearn.svm import SVC\n",
    "from sklearn.metrics import accuracy_score, make_scorer\n",
    "\n",
    "\n",
    "# Define the hyperparameter grid to search over\n",
    "param_grid = {'C': [0.1, 1, 10],\n",
    "              'kernel': ['linear', 'rbf', 'poly'],\n",
    "              'gamma': ['scale', 'auto']}\n",
    "\n",
    "# Create an SVM classifier\n",
    "svc = SVC(random_state=42)\n",
    "\n",
    "# Define the cross-validation strategy\n",
    "cv = StratifiedKFold(n_splits=5, shuffle=True, random_state=42)\n",
    "\n",
    "# Define the halving search object\n",
    "halving_search = HalvingRandomSearchCV(\n",
    "    svc, \n",
    "    param_grid, \n",
    "    factor=2, \n",
    "    random_state=42, \n",
    "    scoring=make_scorer(roc_auc_score), \n",
    "    n_jobs=-1, \n",
    "    cv=cv)\n",
    "\n",
    "# Fit the halving search object on the training data\n",
    "halving_search.fit(X_train_scaled, yt_smt)\n",
    "\n",
    "# Print the best hyperparameters and score\n",
    "print(\"Best hyperparameters: \", halving_search.best_params_)\n",
    "print(\"Best score: \", halving_search.best_score_)\n",
    "\n",
    "# Evaluate the final model on the testing set\n",
    "y_pred = halving_search.predict(X_train_scaled)\n",
    "test_score = roc_auc_score(y_test, y_pred)\n",
    "print(\"Test score: \", test_score)"
   ]
  },
  {
   "cell_type": "code",
   "execution_count": 135,
   "id": "3be0ecad",
   "metadata": {},
   "outputs": [
    {
     "data": {
      "text/plain": [
       "CalibratedClassifierCV(base_estimator=LinearSVC(C=1))"
      ]
     },
     "execution_count": 135,
     "metadata": {},
     "output_type": "execute_result"
    }
   ],
   "source": [
    "from sklearn.calibration import CalibratedClassifierCV # For probability score output\n",
    "from sklearn.svm import LinearSVC\n",
    "\n",
    "model_svm = LinearSVC(max_iter = 1000, C =1)\n",
    "model_svm = CalibratedClassifierCV(model_svm)\n",
    "model_svm.fit(X_train_scaled, yt_smt.values.ravel())"
   ]
  },
  {
   "cell_type": "code",
   "execution_count": 136,
   "id": "d3fcac24",
   "metadata": {},
   "outputs": [],
   "source": [
    "y_predict = model_svm.predict(X_test_scaled)"
   ]
  },
  {
   "cell_type": "code",
   "execution_count": 137,
   "id": "cd2ff0df",
   "metadata": {},
   "outputs": [
    {
     "name": "stdout",
     "output_type": "stream",
     "text": [
      "              precision    recall  f1-score   support\n",
      "\n",
      "           0       0.98      0.73      0.83      9978\n",
      "           1       0.30      0.87      0.44      1324\n",
      "\n",
      "    accuracy                           0.75     11302\n",
      "   macro avg       0.64      0.80      0.64     11302\n",
      "weighted avg       0.90      0.75      0.79     11302\n",
      "\n"
     ]
    }
   ],
   "source": [
    "print(classification_report(y_test, y_predict))"
   ]
  },
  {
   "cell_type": "code",
   "execution_count": 138,
   "id": "80c3c2a3",
   "metadata": {},
   "outputs": [
    {
     "data": {
      "text/plain": [
       "<AxesSubplot:>"
      ]
     },
     "execution_count": 138,
     "metadata": {},
     "output_type": "execute_result"
    },
    {
     "data": {
      "image/png": "[encoded data removed]",
      "text/plain": [
       "<Figure size 504x360 with 2 Axes>"
      ]
     },
     "metadata": {
      "needs_background": "light"
     },
     "output_type": "display_data"
    }
   ],
   "source": [
    "cm = confusion_matrix(y_test, y_predict)\n",
    "fig, ax = plt.subplots(figsize =(7,5))\n",
    "sns.heatmap(cm, annot=True, fmt = '.1f')"
   ]
  },
  {
   "cell_type": "code",
   "execution_count": 139,
   "id": "ffd1c9fd",
   "metadata": {},
   "outputs": [
    {
     "name": "stdout",
     "output_type": "stream",
     "text": [
      "The AUCROC Score for Decision Tree is:  87.801 %\n"
     ]
    }
   ],
   "source": [
    "from sklearn.metrics import roc_auc_score\n",
    "auc_score_3 = (roc_auc_score(y_test, model_svm.predict_proba(X_test_scaled)[:, 1]))*100\n",
    "print(\"The AUCROC Score for Decision Tree is: \", round(auc_score_3,3),\"%\")"
   ]
  },
  {
   "cell_type": "markdown",
   "id": "25a6b9b6",
   "metadata": {},
   "source": [
    "# Decision Tree"
   ]
  },
  {
   "cell_type": "code",
   "execution_count": 141,
   "id": "8bc0feb9",
   "metadata": {},
   "outputs": [
    {
     "name": "stderr",
     "output_type": "stream",
     "text": [
      "E:\\New folder\\lib\\site-packages\\sklearn\\utils\\validation.py:993: DataConversionWarning: A column-vector y was passed when a 1d array was expected. Please change the shape of y to (n_samples, ), for example using ravel().\n",
      "  y = column_or_1d(y, warn=True)\n",
      "E:\\New folder\\lib\\site-packages\\sklearn\\model_selection\\_search.py:292: UserWarning: The total space of parameters 36 is smaller than n_iter=2575. Running 36 iterations. For exhaustive searches, use GridSearchCV.\n",
      "  warnings.warn(\n"
     ]
    },
    {
     "name": "stdout",
     "output_type": "stream",
     "text": [
      "Best hyperparameters:  {'min_samples_split': 2, 'min_samples_leaf': 1, 'max_depth': 5}\n",
      "Best score:  0.8587472473697089\n",
      "Test score:  0.8108321691406897\n"
     ]
    }
   ],
   "source": [
    "from sklearn.tree import DecisionTreeClassifier\n",
    "from sklearn.model_selection import HalvingRandomSearchCV, train_test_split, StratifiedKFold\n",
    "from sklearn.datasets import make_classification\n",
    "from sklearn.metrics import accuracy_score, make_scorer\n",
    "\n",
    "\n",
    "# Define the hyperparameter grid to search over\n",
    "param_grid = {'max_depth': [None, 5, 10, 20],\n",
    "              'min_samples_split': [2, 5, 10],\n",
    "              'min_samples_leaf': [1, 2, 4]}\n",
    "\n",
    "# Create a Decision Tree classifier\n",
    "dtc = DecisionTreeClassifier(random_state=42)\n",
    "\n",
    "# Define the cross-validation strategy\n",
    "cv = StratifiedKFold(n_splits=5, shuffle=True, random_state=42)\n",
    "\n",
    "# Define the scoring metric\n",
    "scoring = make_scorer(roc_auc_score, greater_is_better=True)\n",
    "\n",
    "# Define the halving search object\n",
    "halving_search = HalvingRandomSearchCV(\n",
    "    dtc, \n",
    "    param_grid, \n",
    "    factor=2, \n",
    "    random_state=42, \n",
    "    scoring=scoring, \n",
    "    n_jobs=-1, \n",
    "    cv=cv)\n",
    "\n",
    "# Fit the halving search object on the training data\n",
    "halving_search.fit(X_train_scaled, yt_smt)\n",
    "\n",
    "# Print the best hyperparameters and score\n",
    "print(\"Best hyperparameters: \", halving_search.best_params_)\n",
    "print(\"Best score: \", halving_search.best_score_)\n",
    "\n",
    "# Evaluate the final model on the testing set\n",
    "y_pred = halving_search.predict(X_test_scaled)\n",
    "test_score = roc_auc_score(y_test, y_pred)\n",
    "print(\"Test score: \", test_score)"
   ]
  },
  {
   "cell_type": "code",
   "execution_count": 208,
   "id": "fb0d63ed",
   "metadata": {},
   "outputs": [
    {
     "name": "stdout",
     "output_type": "stream",
     "text": [
      "Depth  :  1  Training Accuracy :  0.7832528555083678  Cross val score :  0.7832138086729901\n",
      "Depth  :  3  Training Accuracy :  0.8551786995559175  Cross val score :  0.8542866407526702\n",
      "Depth  :  5  Training Accuracy :  0.880408012876452  Cross val score :  0.8777319175560029\n",
      "Depth  :  7  Training Accuracy :  0.905889425407722  Cross val score :  0.9021080620870832\n",
      "Depth  :  9  Training Accuracy :  0.928597746620901  Cross val score :  0.919852037789966\n",
      "Depth  :  10  Training Accuracy :  0.9354238175577404  Cross val score :  0.9231099262821569\n",
      "Depth  :  20  Training Accuracy :  0.9988752496751798  Cross val score :  0.9491733087642291\n",
      "Depth  :  25  Training Accuracy :  1.0  Cross val score :  0.9498131931215534\n",
      "Depth  :  30  Training Accuracy :  1.0  Cross val score :  0.9491344776349996\n",
      "Depth  :  40  Training Accuracy :  1.0  Cross val score :  0.9505694881271143\n",
      "Depth  :  50  Training Accuracy :  1.0  Cross val score :  0.9503174487124463\n"
     ]
    }
   ],
   "source": [
    "from sklearn.tree import DecisionTreeClassifier\n",
    "model_DT = DecisionTreeClassifier()\n",
    "\n",
    "from sklearn.model_selection import cross_val_score \n",
    "from sklearn.metrics import accuracy_score\n",
    "\n",
    "for depth in [1,3,5,7,9,10,20,25,30,40,50]:\n",
    "    dt = DecisionTreeClassifier(max_depth=depth) \n",
    "    dt.fit(X_train_scaled, yt_smt) \n",
    "    trainAccuracy = accuracy_score(yt_smt, dt.predict(X_train_scaled)) \n",
    "    dt = DecisionTreeClassifier(max_depth=depth) # a fresh model which is not trained yet\n",
    "    valAccuracy = cross_val_score(dt, X_train_scaled, yt_smt, cv=10) # syntax : cross_val_Score(freshModel,fts, target, cv= 10/5)\n",
    "    print(\"Depth  : \", depth, \" Training Accuracy : \", trainAccuracy, \" Cross val score : \" ,np.mean(valAccuracy))"
   ]
  },
  {
   "cell_type": "code",
   "execution_count": 148,
   "id": "faf5eedf",
   "metadata": {},
   "outputs": [
    {
     "data": {
      "text/plain": [
       "DecisionTreeClassifier(max_depth=20, min_samples_leaf=4)"
      ]
     },
     "execution_count": 148,
     "metadata": {},
     "output_type": "execute_result"
    }
   ],
   "source": [
    "# Depth after tuning is better at '20' where auroc & cross val score are fitting well\n",
    "from sklearn.tree import DecisionTreeClassifier\n",
    "\n",
    "from sklearn.model_selection import cross_val_score \n",
    "from sklearn.metrics import accuracy_score\n",
    "\n",
    "model_DT = DecisionTreeClassifier(max_depth = 20, min_samples_split = 2, min_samples_leaf = 4)\n",
    "model_DT.fit(X_train_scaled, yt_smt)"
   ]
  },
  {
   "cell_type": "code",
   "execution_count": 149,
   "id": "ef7c0407",
   "metadata": {},
   "outputs": [],
   "source": [
    "y_predict = model_DT.predict(X_test_scaled)"
   ]
  },
  {
   "cell_type": "code",
   "execution_count": 150,
   "id": "9b169f38",
   "metadata": {},
   "outputs": [
    {
     "name": "stdout",
     "output_type": "stream",
     "text": [
      "              precision    recall  f1-score   support\n",
      "\n",
      "           0       0.96      0.85      0.90      9978\n",
      "           1       0.39      0.73      0.51      1324\n",
      "\n",
      "    accuracy                           0.84     11302\n",
      "   macro avg       0.68      0.79      0.71     11302\n",
      "weighted avg       0.89      0.84      0.86     11302\n",
      "\n"
     ]
    }
   ],
   "source": [
    "print(classification_report(y_test, y_predict))"
   ]
  },
  {
   "cell_type": "code",
   "execution_count": 151,
   "id": "0d04f255",
   "metadata": {},
   "outputs": [
    {
     "data": {
      "text/plain": [
       "<AxesSubplot:>"
      ]
     },
     "execution_count": 151,
     "metadata": {},
     "output_type": "execute_result"
    },
    {
     "data": {
      "image/png": "[encoded data removed]",
      "text/plain": [
       "<Figure size 504x360 with 2 Axes>"
      ]
     },
     "metadata": {
      "needs_background": "light"
     },
     "output_type": "display_data"
    }
   ],
   "source": [
    "cm = confusion_matrix(y_test, y_predict)\n",
    "fig, ax = plt.subplots(figsize =(7,5))\n",
    "sns.heatmap(cm, annot=True, fmt = '.1f')"
   ]
  },
  {
   "cell_type": "code",
   "execution_count": 152,
   "id": "0bc6dcaa",
   "metadata": {},
   "outputs": [
    {
     "name": "stdout",
     "output_type": "stream",
     "text": [
      "The AUCROC Score for Decision Tree is:  83.872 %\n"
     ]
    }
   ],
   "source": [
    "from sklearn.metrics import roc_auc_score\n",
    "auc_score_4 = (roc_auc_score(y_test, model_DT.predict_proba(X_test_scaled)[:, 1]))*100\n",
    "print(\"The AUCROC Score for Decision Tree is: \", round(auc_score_4,3),\"%\")"
   ]
  },
  {
   "cell_type": "markdown",
   "id": "8fc2939d",
   "metadata": {},
   "source": [
    "# KNN"
   ]
  },
  {
   "cell_type": "code",
   "execution_count": 153,
   "id": "b59cf76f",
   "metadata": {},
   "outputs": [
    {
     "name": "stderr",
     "output_type": "stream",
     "text": [
      "E:\\New folder\\lib\\site-packages\\sklearn\\utils\\validation.py:993: DataConversionWarning: A column-vector y was passed when a 1d array was expected. Please change the shape of y to (n_samples, ), for example using ravel().\n",
      "  y = column_or_1d(y, warn=True)\n",
      "E:\\New folder\\lib\\site-packages\\sklearn\\model_selection\\_search.py:292: UserWarning: The total space of parameters 360 is smaller than n_iter=2575. Running 360 iterations. For exhaustive searches, use GridSearchCV.\n",
      "  warnings.warn(\n",
      "E:\\New folder\\lib\\site-packages\\sklearn\\model_selection\\_search.py:969: UserWarning: One or more of the test scores are non-finite: [0.83333333 0.83333333 0.9        0.9        0.73333333 0.83333333\n",
      " 0.73333333 0.9        0.7        0.8        0.83333333 0.83333333\n",
      " 0.83333333 0.9        0.86666667 0.93333333 1.         1.\n",
      " 0.96666667 0.96666667 0.93333333 0.96666667 0.93333333 0.96666667\n",
      " 0.9        0.9        0.76666667 0.76666667 0.9        1.\n",
      " 0.93333333 0.96666667 0.76666667 0.9        0.86666667 0.86666667\n",
      " 0.73333333 0.8        0.86666667 0.86666667 0.66666667 0.86666667\n",
      " 0.6        0.7        0.7        0.8        0.63333333 0.66666667\n",
      " 0.53333333 0.76666667 0.53333333 0.53333333 0.7        0.8\n",
      " 0.8        0.86666667 0.5        0.9        0.5        0.6\n",
      " 0.5        0.6        0.5        0.6               nan        nan\n",
      "        nan        nan        nan        nan        nan        nan\n",
      "        nan        nan        nan        nan        nan        nan\n",
      "        nan        nan        nan        nan        nan        nan\n",
      "        nan        nan        nan        nan        nan        nan\n",
      "        nan        nan        nan        nan        nan        nan\n",
      "        nan        nan        nan        nan        nan        nan\n",
      "        nan        nan        nan        nan        nan        nan\n",
      "        nan        nan        nan        nan        nan        nan\n",
      "        nan        nan        nan        nan        nan        nan\n",
      " 0.83333333 0.83333333 0.9        0.9        0.73333333 0.83333333\n",
      " 0.73333333 0.9        0.7        0.8        0.83333333 0.83333333\n",
      " 0.83333333 0.9        0.86666667 0.93333333 1.         1.\n",
      " 0.96666667 0.96666667 0.93333333 0.96666667 0.93333333 0.96666667\n",
      " 0.9        0.9        0.76666667 0.76666667 0.9        1.\n",
      " 0.93333333 0.96666667 0.76666667 0.9        0.86666667 0.86666667\n",
      " 0.73333333 0.8        0.86666667 0.86666667 0.66666667 0.86666667\n",
      " 0.6        0.7        0.7        0.8        0.63333333 0.66666667\n",
      " 0.53333333 0.76666667 0.53333333 0.53333333 0.7        0.8\n",
      " 0.8        0.86666667 0.5        0.9        0.5        0.6\n",
      " 0.5        0.6        0.5        0.6               nan        nan\n",
      "        nan        nan        nan        nan        nan        nan\n",
      "        nan        nan        nan        nan        nan        nan\n",
      "        nan        nan        nan        nan        nan        nan\n",
      "        nan        nan        nan        nan        nan        nan\n",
      "        nan        nan        nan        nan        nan        nan\n",
      "        nan        nan        nan        nan        nan        nan\n",
      "        nan        nan        nan        nan        nan        nan\n",
      "        nan        nan        nan        nan        nan        nan\n",
      "        nan        nan        nan        nan        nan        nan\n",
      " 0.83333333 0.83333333 0.9        0.9        0.73333333 0.83333333\n",
      " 0.73333333 0.9        0.7        0.8        0.83333333 0.83333333\n",
      " 0.83333333 0.9        0.86666667 0.93333333 1.         1.\n",
      " 0.96666667 0.96666667 0.93333333 0.96666667 0.93333333 0.96666667\n",
      " 0.9        0.9        0.76666667 0.76666667 0.9        1.\n",
      " 0.93333333 0.96666667 0.76666667 0.9        0.86666667 0.86666667\n",
      " 0.73333333 0.8        0.86666667 0.86666667 0.66666667 0.86666667\n",
      " 0.6        0.7        0.7        0.8        0.63333333 0.66666667\n",
      " 0.53333333 0.76666667 0.53333333 0.53333333 0.7        0.8\n",
      " 0.8        0.86666667 0.5        0.9        0.5        0.6\n",
      " 0.5        0.6        0.5        0.6               nan        nan\n",
      "        nan        nan        nan        nan        nan        nan\n",
      "        nan        nan        nan        nan        nan        nan\n",
      "        nan        nan        nan        nan        nan        nan\n",
      "        nan        nan        nan        nan        nan        nan\n",
      "        nan        nan        nan        nan        nan        nan\n",
      "        nan        nan        nan        nan        nan        nan\n",
      "        nan        nan        nan        nan        nan        nan\n",
      "        nan        nan        nan        nan        nan        nan\n",
      "        nan        nan        nan        nan        nan        nan]\n",
      "  warnings.warn(\n",
      "E:\\New folder\\lib\\site-packages\\sklearn\\model_selection\\_search.py:969: UserWarning: One or more of the train scores are non-finite: [1.         1.         1.         1.         0.9        1.\n",
      " 0.93333333 1.         0.86349206 1.         0.88095238 1.\n",
      " 0.82380952 1.         0.82380952 1.         0.82063492 1.\n",
      " 0.81269841 1.         0.85714286 1.         0.82539683 1.\n",
      " 0.6984127  1.         0.72380952 1.         0.79047619 1.\n",
      " 0.76190476 1.         0.67777778 1.         0.72380952 1.\n",
      " 0.72539683 1.         0.77301587 1.         0.66984127 1.\n",
      " 0.66349206 1.         0.68253968 1.         0.71269841 1.\n",
      " 0.62380952 1.         0.60634921 1.         0.71904762 1.\n",
      " 0.66984127 1.         0.5        1.         0.5        1.\n",
      " 0.5        1.         0.5        1.                nan        nan\n",
      "        nan        nan        nan        nan        nan        nan\n",
      "        nan        nan        nan        nan        nan        nan\n",
      "        nan        nan        nan        nan        nan        nan\n",
      "        nan        nan        nan        nan        nan        nan\n",
      "        nan        nan        nan        nan        nan        nan\n",
      "        nan        nan        nan        nan        nan        nan\n",
      "        nan        nan        nan        nan        nan        nan\n",
      "        nan        nan        nan        nan        nan        nan\n",
      "        nan        nan        nan        nan        nan        nan\n",
      " 1.         1.         1.         1.         0.9        1.\n",
      " 0.93333333 1.         0.86349206 1.         0.88095238 1.\n",
      " 0.82380952 1.         0.82380952 1.         0.82063492 1.\n",
      " 0.81269841 1.         0.85714286 1.         0.82539683 1.\n",
      " 0.6984127  1.         0.72380952 1.         0.79047619 1.\n",
      " 0.76190476 1.         0.67777778 1.         0.72380952 1.\n",
      " 0.72539683 1.         0.77301587 1.         0.66984127 1.\n",
      " 0.66349206 1.         0.68253968 1.         0.71269841 1.\n",
      " 0.62380952 1.         0.60634921 1.         0.71904762 1.\n",
      " 0.66984127 1.         0.5        1.         0.5        1.\n",
      " 0.5        1.         0.5        1.                nan        nan\n",
      "        nan        nan        nan        nan        nan        nan\n",
      "        nan        nan        nan        nan        nan        nan\n",
      "        nan        nan        nan        nan        nan        nan\n",
      "        nan        nan        nan        nan        nan        nan\n",
      "        nan        nan        nan        nan        nan        nan\n",
      "        nan        nan        nan        nan        nan        nan\n",
      "        nan        nan        nan        nan        nan        nan\n",
      "        nan        nan        nan        nan        nan        nan\n",
      "        nan        nan        nan        nan        nan        nan\n",
      " 1.         1.         1.         1.         0.9        1.\n",
      " 0.93333333 1.         0.86349206 1.         0.88095238 1.\n",
      " 0.82380952 1.         0.82380952 1.         0.82063492 1.\n",
      " 0.81269841 1.         0.85714286 1.         0.82539683 1.\n",
      " 0.6984127  1.         0.72380952 1.         0.79047619 1.\n",
      " 0.76190476 1.         0.67777778 1.         0.72380952 1.\n",
      " 0.72539683 1.         0.77301587 1.         0.66984127 1.\n",
      " 0.66349206 1.         0.68253968 1.         0.71269841 1.\n",
      " 0.62380952 1.         0.60634921 1.         0.71904762 1.\n",
      " 0.66984127 1.         0.5        1.         0.5        1.\n",
      " 0.5        1.         0.5        1.                nan        nan\n",
      "        nan        nan        nan        nan        nan        nan\n",
      "        nan        nan        nan        nan        nan        nan\n",
      "        nan        nan        nan        nan        nan        nan\n",
      "        nan        nan        nan        nan        nan        nan\n",
      "        nan        nan        nan        nan        nan        nan\n",
      "        nan        nan        nan        nan        nan        nan\n",
      "        nan        nan        nan        nan        nan        nan\n",
      "        nan        nan        nan        nan        nan        nan\n",
      "        nan        nan        nan        nan        nan        nan]\n",
      "  warnings.warn(\n",
      "E:\\New folder\\lib\\site-packages\\sklearn\\model_selection\\_search.py:969: UserWarning: One or more of the test scores are non-finite: [0.83333333 0.83333333 0.9        0.9        0.73333333 0.83333333\n",
      " 0.73333333 0.9        0.7        0.8        0.83333333 0.83333333\n",
      " 0.83333333 0.9        0.86666667 0.93333333 1.         1.\n",
      " 0.96666667 0.96666667 0.93333333 0.96666667 0.93333333 0.96666667\n",
      " 0.9        0.9        0.76666667 0.76666667 0.9        1.\n",
      " 0.93333333 0.96666667 0.76666667 0.9        0.86666667 0.86666667\n",
      " 0.73333333 0.8        0.86666667 0.86666667 0.66666667 0.86666667\n",
      " 0.6        0.7        0.7        0.8        0.63333333 0.66666667\n",
      " 0.53333333 0.76666667 0.53333333 0.53333333 0.7        0.8\n",
      " 0.8        0.86666667 0.5        0.9        0.5        0.6\n",
      " 0.5        0.6        0.5        0.6               nan        nan\n",
      "        nan        nan        nan        nan        nan        nan\n",
      "        nan        nan        nan        nan        nan        nan\n",
      "        nan        nan        nan        nan        nan        nan\n",
      "        nan        nan        nan        nan        nan        nan\n",
      "        nan        nan        nan        nan        nan        nan\n",
      "        nan        nan        nan        nan        nan        nan\n",
      "        nan        nan        nan        nan        nan        nan\n",
      "        nan        nan        nan        nan        nan        nan\n",
      "        nan        nan        nan        nan        nan        nan\n",
      " 0.83333333 0.83333333 0.9        0.9        0.73333333 0.83333333\n",
      " 0.73333333 0.9        0.7        0.8        0.83333333 0.83333333\n",
      " 0.83333333 0.9        0.86666667 0.93333333 1.         1.\n",
      " 0.96666667 0.96666667 0.93333333 0.96666667 0.93333333 0.96666667\n",
      " 0.9        0.9        0.76666667 0.76666667 0.9        1.\n",
      " 0.93333333 0.96666667 0.76666667 0.9        0.86666667 0.86666667\n",
      " 0.73333333 0.8        0.86666667 0.86666667 0.66666667 0.86666667\n",
      " 0.6        0.7        0.7        0.8        0.63333333 0.66666667\n",
      " 0.53333333 0.76666667 0.53333333 0.53333333 0.7        0.8\n",
      " 0.8        0.86666667 0.5        0.9        0.5        0.6\n",
      " 0.5        0.6        0.5        0.6               nan        nan\n",
      "        nan        nan        nan        nan        nan        nan\n",
      "        nan        nan        nan        nan        nan        nan\n",
      "        nan        nan        nan        nan        nan        nan\n",
      "        nan        nan        nan        nan        nan        nan\n",
      "        nan        nan        nan        nan        nan        nan\n",
      "        nan        nan        nan        nan        nan        nan\n",
      "        nan        nan        nan        nan        nan        nan\n",
      "        nan        nan        nan        nan        nan        nan\n",
      "        nan        nan        nan        nan        nan        nan\n",
      " 0.83333333 0.83333333 0.9        0.9        0.73333333 0.83333333\n",
      " 0.73333333 0.9        0.7        0.8        0.83333333 0.83333333\n",
      " 0.83333333 0.9        0.86666667 0.93333333 1.         1.\n",
      " 0.96666667 0.96666667 0.93333333 0.96666667 0.93333333 0.96666667\n",
      " 0.9        0.9        0.76666667 0.76666667 0.9        1.\n",
      " 0.93333333 0.96666667 0.76666667 0.9        0.86666667 0.86666667\n",
      " 0.73333333 0.8        0.86666667 0.86666667 0.66666667 0.86666667\n",
      " 0.6        0.7        0.7        0.8        0.63333333 0.66666667\n",
      " 0.53333333 0.76666667 0.53333333 0.53333333 0.7        0.8\n",
      " 0.8        0.86666667 0.5        0.9        0.5        0.6\n",
      " 0.5        0.6        0.5        0.6               nan        nan\n",
      "        nan        nan        nan        nan        nan        nan\n",
      "        nan        nan        nan        nan        nan        nan\n",
      "        nan        nan        nan        nan        nan        nan\n",
      "        nan        nan        nan        nan        nan        nan\n",
      "        nan        nan        nan        nan        nan        nan\n",
      "        nan        nan        nan        nan        nan        nan\n",
      "        nan        nan        nan        nan        nan        nan\n",
      "        nan        nan        nan        nan        nan        nan\n",
      "        nan        nan        nan        nan        nan        nan\n",
      " 0.88       0.9        0.92       0.92       0.86       0.88\n",
      " 0.86       0.92       0.92       0.88       0.86       0.88\n",
      " 0.74       0.8        0.76666667 0.64666667 0.7        0.62666667\n",
      " 0.74666667 0.62       0.72       0.56       0.74       0.62666667\n",
      " 0.7        0.56666667 0.68666667 0.56       0.74       0.50666667\n",
      " 0.66666667 0.6        0.74       0.52666667 0.70666667 0.5\n",
      " 0.78       0.56666667 0.74       0.64       0.74666667 0.76666667\n",
      " 0.80666667 0.68       0.8        0.72       0.82       0.76\n",
      " 0.74666667 0.74666667 0.62       0.8        0.74666667 0.64666667\n",
      " 0.70666667 0.8        0.68666667 0.74666667 0.66       0.76\n",
      " 0.58666667 0.76666667 0.72       0.76       0.64666667 0.72666667\n",
      " 0.78       0.66666667 0.8        0.76       0.72       0.76666667\n",
      " 0.58666667 0.76       0.66       0.74666667 0.68666667 0.8\n",
      " 0.70666667 0.72666667 0.64666667 0.64666667 0.62       0.74666667\n",
      " 0.74666667 0.78       0.76       0.82       0.5        0.72\n",
      " 0.8        0.68       0.80666667 0.8        0.74666667 0.74666667\n",
      " 0.74       0.62666667 0.7        0.56666667 0.68666667 0.56\n",
      " 0.74       0.50666667 0.66666667 0.6        0.74       0.52666667\n",
      " 0.64       0.70666667 0.78       0.5        0.74       0.72\n",
      " 0.62       0.74666667 0.62666667 0.7        0.64666667 0.76666667\n",
      " 0.56666667 0.5        0.8        0.76666667 0.80666667 0.7\n",
      " 0.62666667 0.74666667 0.62       0.72       0.56       0.74\n",
      " 0.62666667 0.7        0.56666667 0.68666667 0.64666667 0.56\n",
      " 0.50666667 0.56       0.6        0.74       0.52666667 0.70666667\n",
      " 0.5        0.78       0.5        0.74       0.76666667 0.74\n",
      " 0.76666667 0.56666667 0.74       0.68       0.8        0.72\n",
      " 0.82       0.76       0.78       0.74666667 0.74666667 0.62\n",
      " 0.8        0.64666667 0.72666667 0.70666667 0.8        0.68666667\n",
      " 0.74666667 0.66       0.76       0.58666667 0.76666667 0.72\n",
      " 0.76       0.64666667 0.74666667 0.64       0.74666667 0.74      ]\n",
      "  warnings.warn(\n",
      "E:\\New folder\\lib\\site-packages\\sklearn\\model_selection\\_search.py:969: UserWarning: One or more of the train scores are non-finite: [1.         1.         1.         1.         0.9        1.\n",
      " 0.93333333 1.         0.86349206 1.         0.88095238 1.\n",
      " 0.82380952 1.         0.82380952 1.         0.82063492 1.\n",
      " 0.81269841 1.         0.85714286 1.         0.82539683 1.\n",
      " 0.6984127  1.         0.72380952 1.         0.79047619 1.\n",
      " 0.76190476 1.         0.67777778 1.         0.72380952 1.\n",
      " 0.72539683 1.         0.77301587 1.         0.66984127 1.\n",
      " 0.66349206 1.         0.68253968 1.         0.71269841 1.\n",
      " 0.62380952 1.         0.60634921 1.         0.71904762 1.\n",
      " 0.66984127 1.         0.5        1.         0.5        1.\n",
      " 0.5        1.         0.5        1.                nan        nan\n",
      "        nan        nan        nan        nan        nan        nan\n",
      "        nan        nan        nan        nan        nan        nan\n",
      "        nan        nan        nan        nan        nan        nan\n",
      "        nan        nan        nan        nan        nan        nan\n",
      "        nan        nan        nan        nan        nan        nan\n",
      "        nan        nan        nan        nan        nan        nan\n",
      "        nan        nan        nan        nan        nan        nan\n",
      "        nan        nan        nan        nan        nan        nan\n",
      "        nan        nan        nan        nan        nan        nan\n",
      " 1.         1.         1.         1.         0.9        1.\n",
      " 0.93333333 1.         0.86349206 1.         0.88095238 1.\n",
      " 0.82380952 1.         0.82380952 1.         0.82063492 1.\n",
      " 0.81269841 1.         0.85714286 1.         0.82539683 1.\n",
      " 0.6984127  1.         0.72380952 1.         0.79047619 1.\n",
      " 0.76190476 1.         0.67777778 1.         0.72380952 1.\n",
      " 0.72539683 1.         0.77301587 1.         0.66984127 1.\n",
      " 0.66349206 1.         0.68253968 1.         0.71269841 1.\n",
      " 0.62380952 1.         0.60634921 1.         0.71904762 1.\n",
      " 0.66984127 1.         0.5        1.         0.5        1.\n",
      " 0.5        1.         0.5        1.                nan        nan\n",
      "        nan        nan        nan        nan        nan        nan\n",
      "        nan        nan        nan        nan        nan        nan\n",
      "        nan        nan        nan        nan        nan        nan\n",
      "        nan        nan        nan        nan        nan        nan\n",
      "        nan        nan        nan        nan        nan        nan\n",
      "        nan        nan        nan        nan        nan        nan\n",
      "        nan        nan        nan        nan        nan        nan\n",
      "        nan        nan        nan        nan        nan        nan\n",
      "        nan        nan        nan        nan        nan        nan\n",
      " 1.         1.         1.         1.         0.9        1.\n",
      " 0.93333333 1.         0.86349206 1.         0.88095238 1.\n",
      " 0.82380952 1.         0.82380952 1.         0.82063492 1.\n",
      " 0.81269841 1.         0.85714286 1.         0.82539683 1.\n",
      " 0.6984127  1.         0.72380952 1.         0.79047619 1.\n",
      " 0.76190476 1.         0.67777778 1.         0.72380952 1.\n",
      " 0.72539683 1.         0.77301587 1.         0.66984127 1.\n",
      " 0.66349206 1.         0.68253968 1.         0.71269841 1.\n",
      " 0.62380952 1.         0.60634921 1.         0.71904762 1.\n",
      " 0.66984127 1.         0.5        1.         0.5        1.\n",
      " 0.5        1.         0.5        1.                nan        nan\n",
      "        nan        nan        nan        nan        nan        nan\n",
      "        nan        nan        nan        nan        nan        nan\n",
      "        nan        nan        nan        nan        nan        nan\n",
      "        nan        nan        nan        nan        nan        nan\n",
      "        nan        nan        nan        nan        nan        nan\n",
      "        nan        nan        nan        nan        nan        nan\n",
      "        nan        nan        nan        nan        nan        nan\n",
      "        nan        nan        nan        nan        nan        nan\n",
      "        nan        nan        nan        nan        nan        nan\n",
      " 1.         1.         1.         1.         0.81882353 1.\n",
      " 0.81882353 1.         1.         1.         0.81882353 1.\n",
      " 1.         1.         1.         0.6972549  1.         0.60901961\n",
      " 1.         0.57411765 1.         0.53333333 1.         0.62078431\n",
      " 1.         0.54156863 1.         0.52666667 1.         0.50666667\n",
      " 1.         0.54078431 1.         0.54745098 1.         0.5\n",
      " 1.         0.56078431 1.         0.62901961 1.         0.79019608\n",
      " 1.         0.75215686 1.         0.7254902  1.         0.77529412\n",
      " 0.69921569 1.         0.67803922 1.         0.78941176 0.67803922\n",
      " 0.72117647 1.         0.68352941 1.         0.67137255 1.\n",
      " 0.59803922 1.         0.71372549 1.         0.6654902  1.\n",
      " 1.         1.         1.         1.         0.71372549 1.\n",
      " 0.59803922 1.         0.67137255 1.         0.68352941 1.\n",
      " 0.72117647 1.         0.6654902  0.67803922 0.67803922 1.\n",
      " 0.69921569 1.         0.77529412 1.         0.5        0.7254902\n",
      " 1.         0.75215686 1.         1.         0.78941176 1.\n",
      " 1.         0.62078431 1.         0.54156863 1.         0.52666667\n",
      " 1.         0.50666667 1.         0.54078431 1.         0.54745098\n",
      " 0.62901961 1.         1.         0.5        1.         1.\n",
      " 0.57411765 1.         0.60901961 1.         0.6972549  1.\n",
      " 0.56078431 0.5        1.         0.79019608 1.         1.\n",
      " 0.60901961 1.         0.57411765 1.         0.53333333 1.\n",
      " 0.62078431 1.         0.54156863 1.         0.6972549  0.52666667\n",
      " 0.50666667 0.53333333 0.54078431 1.         0.54745098 1.\n",
      " 0.5        1.         0.5        1.         0.79019608 1.\n",
      " 1.         0.56078431 1.         0.75215686 1.         0.7254902\n",
      " 1.         0.77529412 1.         0.69921569 1.         0.67803922\n",
      " 1.         0.67803922 1.         0.72117647 1.         0.68352941\n",
      " 1.         0.67137255 1.         0.59803922 1.         0.71372549\n",
      " 1.         0.6654902  1.         0.62901961 0.78941176 1.        ]\n",
      "  warnings.warn(\n",
      "E:\\New folder\\lib\\site-packages\\sklearn\\model_selection\\_search.py:969: UserWarning: One or more of the test scores are non-finite: [0.83333333 0.83333333 0.9        0.9        0.73333333 0.83333333\n",
      " 0.73333333 0.9        0.7        0.8        0.83333333 0.83333333\n",
      " 0.83333333 0.9        0.86666667 0.93333333 1.         1.\n",
      " 0.96666667 0.96666667 0.93333333 0.96666667 0.93333333 0.96666667\n",
      " 0.9        0.9        0.76666667 0.76666667 0.9        1.\n",
      " 0.93333333 0.96666667 0.76666667 0.9        0.86666667 0.86666667\n",
      " 0.73333333 0.8        0.86666667 0.86666667 0.66666667 0.86666667\n",
      " 0.6        0.7        0.7        0.8        0.63333333 0.66666667\n",
      " 0.53333333 0.76666667 0.53333333 0.53333333 0.7        0.8\n",
      " 0.8        0.86666667 0.5        0.9        0.5        0.6\n",
      " 0.5        0.6        0.5        0.6               nan        nan\n",
      "        nan        nan        nan        nan        nan        nan\n",
      "        nan        nan        nan        nan        nan        nan\n",
      "        nan        nan        nan        nan        nan        nan\n",
      "        nan        nan        nan        nan        nan        nan\n",
      "        nan        nan        nan        nan        nan        nan\n",
      "        nan        nan        nan        nan        nan        nan\n",
      "        nan        nan        nan        nan        nan        nan\n",
      "        nan        nan        nan        nan        nan        nan\n",
      "        nan        nan        nan        nan        nan        nan\n",
      " 0.83333333 0.83333333 0.9        0.9        0.73333333 0.83333333\n",
      " 0.73333333 0.9        0.7        0.8        0.83333333 0.83333333\n",
      " 0.83333333 0.9        0.86666667 0.93333333 1.         1.\n",
      " 0.96666667 0.96666667 0.93333333 0.96666667 0.93333333 0.96666667\n",
      " 0.9        0.9        0.76666667 0.76666667 0.9        1.\n",
      " 0.93333333 0.96666667 0.76666667 0.9        0.86666667 0.86666667\n",
      " 0.73333333 0.8        0.86666667 0.86666667 0.66666667 0.86666667\n",
      " 0.6        0.7        0.7        0.8        0.63333333 0.66666667\n",
      " 0.53333333 0.76666667 0.53333333 0.53333333 0.7        0.8\n",
      " 0.8        0.86666667 0.5        0.9        0.5        0.6\n",
      " 0.5        0.6        0.5        0.6               nan        nan\n",
      "        nan        nan        nan        nan        nan        nan\n",
      "        nan        nan        nan        nan        nan        nan\n",
      "        nan        nan        nan        nan        nan        nan\n",
      "        nan        nan        nan        nan        nan        nan\n",
      "        nan        nan        nan        nan        nan        nan\n",
      "        nan        nan        nan        nan        nan        nan\n",
      "        nan        nan        nan        nan        nan        nan\n",
      "        nan        nan        nan        nan        nan        nan\n",
      "        nan        nan        nan        nan        nan        nan\n",
      " 0.83333333 0.83333333 0.9        0.9        0.73333333 0.83333333\n",
      " 0.73333333 0.9        0.7        0.8        0.83333333 0.83333333\n",
      " 0.83333333 0.9        0.86666667 0.93333333 1.         1.\n",
      " 0.96666667 0.96666667 0.93333333 0.96666667 0.93333333 0.96666667\n",
      " 0.9        0.9        0.76666667 0.76666667 0.9        1.\n",
      " 0.93333333 0.96666667 0.76666667 0.9        0.86666667 0.86666667\n",
      " 0.73333333 0.8        0.86666667 0.86666667 0.66666667 0.86666667\n",
      " 0.6        0.7        0.7        0.8        0.63333333 0.66666667\n",
      " 0.53333333 0.76666667 0.53333333 0.53333333 0.7        0.8\n",
      " 0.8        0.86666667 0.5        0.9        0.5        0.6\n",
      " 0.5        0.6        0.5        0.6               nan        nan\n",
      "        nan        nan        nan        nan        nan        nan\n",
      "        nan        nan        nan        nan        nan        nan\n",
      "        nan        nan        nan        nan        nan        nan\n",
      "        nan        nan        nan        nan        nan        nan\n",
      "        nan        nan        nan        nan        nan        nan\n",
      "        nan        nan        nan        nan        nan        nan\n",
      "        nan        nan        nan        nan        nan        nan\n",
      "        nan        nan        nan        nan        nan        nan\n",
      "        nan        nan        nan        nan        nan        nan\n",
      " 0.88       0.9        0.92       0.92       0.86       0.88\n",
      " 0.86       0.92       0.92       0.88       0.86       0.88\n",
      " 0.74       0.8        0.76666667 0.64666667 0.7        0.62666667\n",
      " 0.74666667 0.62       0.72       0.56       0.74       0.62666667\n",
      " 0.7        0.56666667 0.68666667 0.56       0.74       0.50666667\n",
      " 0.66666667 0.6        0.74       0.52666667 0.70666667 0.5\n",
      " 0.78       0.56666667 0.74       0.64       0.74666667 0.76666667\n",
      " 0.80666667 0.68       0.8        0.72       0.82       0.76\n",
      " 0.74666667 0.74666667 0.62       0.8        0.74666667 0.64666667\n",
      " 0.70666667 0.8        0.68666667 0.74666667 0.66       0.76\n",
      " 0.58666667 0.76666667 0.72       0.76       0.64666667 0.72666667\n",
      " 0.78       0.66666667 0.8        0.76       0.72       0.76666667\n",
      " 0.58666667 0.76       0.66       0.74666667 0.68666667 0.8\n",
      " 0.70666667 0.72666667 0.64666667 0.64666667 0.62       0.74666667\n",
      " 0.74666667 0.78       0.76       0.82       0.5        0.72\n",
      " 0.8        0.68       0.80666667 0.8        0.74666667 0.74666667\n",
      " 0.74       0.62666667 0.7        0.56666667 0.68666667 0.56\n",
      " 0.74       0.50666667 0.66666667 0.6        0.74       0.52666667\n",
      " 0.64       0.70666667 0.78       0.5        0.74       0.72\n",
      " 0.62       0.74666667 0.62666667 0.7        0.64666667 0.76666667\n",
      " 0.56666667 0.5        0.8        0.76666667 0.80666667 0.7\n",
      " 0.62666667 0.74666667 0.62       0.72       0.56       0.74\n",
      " 0.62666667 0.7        0.56666667 0.68666667 0.64666667 0.56\n",
      " 0.50666667 0.56       0.6        0.74       0.52666667 0.70666667\n",
      " 0.5        0.78       0.5        0.74       0.76666667 0.74\n",
      " 0.76666667 0.56666667 0.74       0.68       0.8        0.72\n",
      " 0.82       0.76       0.78       0.74666667 0.74666667 0.62\n",
      " 0.8        0.64666667 0.72666667 0.70666667 0.8        0.68666667\n",
      " 0.74666667 0.66       0.76       0.58666667 0.76666667 0.72\n",
      " 0.76       0.64666667 0.74666667 0.64       0.74666667 0.74\n",
      " 0.83809524 0.83809524 0.83809524 0.80952381 0.80952381 0.79206349\n",
      " 0.80952381 0.79206349 0.79206349 0.83174603 0.83174603 0.83174603\n",
      " 0.83174603 0.83174603 0.83492063 0.83492063 0.83174603 0.83492063\n",
      " 0.83492063 0.86349206 0.85238095 0.82063492 0.85238095 0.86349206\n",
      " 0.83492063 0.83492063 0.82063492 0.83492063 0.83492063 0.86349206\n",
      " 0.85238095 0.82063492 0.83492063 0.84126984 0.84126984 0.84126984\n",
      " 0.82380952 0.82380952 0.84603175 0.84603175 0.82380952 0.84603175\n",
      " 0.84603175 0.84603175 0.84603175 0.81746032 0.81746032 0.81746032\n",
      " 0.8047619  0.8047619  0.8047619  0.82380952 0.82380952 0.82380952\n",
      " 0.85238095 0.85238095 0.85238095 0.83492063 0.83492063 0.83492063\n",
      " 0.83809524 0.83492063 0.83492063 0.85238095 0.85238095 0.85238095\n",
      " 0.87777778 0.83492063 0.83809524 0.87777778 0.87777778 0.83809524\n",
      " 0.82698413 0.82698413 0.82698413 0.85238095 0.85238095 0.85238095\n",
      " 0.78571429 0.78571429 0.78571429 0.78571429 0.78571429 0.78571429\n",
      " 0.8015873  0.8047619  0.81111111 0.81111111 0.8047619  0.81111111]\n",
      "  warnings.warn(\n",
      "E:\\New folder\\lib\\site-packages\\sklearn\\model_selection\\_search.py:969: UserWarning: One or more of the train scores are non-finite: [1.         1.         1.         1.         0.9        1.\n",
      " 0.93333333 1.         0.86349206 1.         0.88095238 1.\n",
      " 0.82380952 1.         0.82380952 1.         0.82063492 1.\n",
      " 0.81269841 1.         0.85714286 1.         0.82539683 1.\n",
      " 0.6984127  1.         0.72380952 1.         0.79047619 1.\n",
      " 0.76190476 1.         0.67777778 1.         0.72380952 1.\n",
      " 0.72539683 1.         0.77301587 1.         0.66984127 1.\n",
      " 0.66349206 1.         0.68253968 1.         0.71269841 1.\n",
      " 0.62380952 1.         0.60634921 1.         0.71904762 1.\n",
      " 0.66984127 1.         0.5        1.         0.5        1.\n",
      " 0.5        1.         0.5        1.                nan        nan\n",
      "        nan        nan        nan        nan        nan        nan\n",
      "        nan        nan        nan        nan        nan        nan\n",
      "        nan        nan        nan        nan        nan        nan\n",
      "        nan        nan        nan        nan        nan        nan\n",
      "        nan        nan        nan        nan        nan        nan\n",
      "        nan        nan        nan        nan        nan        nan\n",
      "        nan        nan        nan        nan        nan        nan\n",
      "        nan        nan        nan        nan        nan        nan\n",
      "        nan        nan        nan        nan        nan        nan\n",
      " 1.         1.         1.         1.         0.9        1.\n",
      " 0.93333333 1.         0.86349206 1.         0.88095238 1.\n",
      " 0.82380952 1.         0.82380952 1.         0.82063492 1.\n",
      " 0.81269841 1.         0.85714286 1.         0.82539683 1.\n",
      " 0.6984127  1.         0.72380952 1.         0.79047619 1.\n",
      " 0.76190476 1.         0.67777778 1.         0.72380952 1.\n",
      " 0.72539683 1.         0.77301587 1.         0.66984127 1.\n",
      " 0.66349206 1.         0.68253968 1.         0.71269841 1.\n",
      " 0.62380952 1.         0.60634921 1.         0.71904762 1.\n",
      " 0.66984127 1.         0.5        1.         0.5        1.\n",
      " 0.5        1.         0.5        1.                nan        nan\n",
      "        nan        nan        nan        nan        nan        nan\n",
      "        nan        nan        nan        nan        nan        nan\n",
      "        nan        nan        nan        nan        nan        nan\n",
      "        nan        nan        nan        nan        nan        nan\n",
      "        nan        nan        nan        nan        nan        nan\n",
      "        nan        nan        nan        nan        nan        nan\n",
      "        nan        nan        nan        nan        nan        nan\n",
      "        nan        nan        nan        nan        nan        nan\n",
      "        nan        nan        nan        nan        nan        nan\n",
      " 1.         1.         1.         1.         0.9        1.\n",
      " 0.93333333 1.         0.86349206 1.         0.88095238 1.\n",
      " 0.82380952 1.         0.82380952 1.         0.82063492 1.\n",
      " 0.81269841 1.         0.85714286 1.         0.82539683 1.\n",
      " 0.6984127  1.         0.72380952 1.         0.79047619 1.\n",
      " 0.76190476 1.         0.67777778 1.         0.72380952 1.\n",
      " 0.72539683 1.         0.77301587 1.         0.66984127 1.\n",
      " 0.66349206 1.         0.68253968 1.         0.71269841 1.\n",
      " 0.62380952 1.         0.60634921 1.         0.71904762 1.\n",
      " 0.66984127 1.         0.5        1.         0.5        1.\n",
      " 0.5        1.         0.5        1.                nan        nan\n",
      "        nan        nan        nan        nan        nan        nan\n",
      "        nan        nan        nan        nan        nan        nan\n",
      "        nan        nan        nan        nan        nan        nan\n",
      "        nan        nan        nan        nan        nan        nan\n",
      "        nan        nan        nan        nan        nan        nan\n",
      "        nan        nan        nan        nan        nan        nan\n",
      "        nan        nan        nan        nan        nan        nan\n",
      "        nan        nan        nan        nan        nan        nan\n",
      "        nan        nan        nan        nan        nan        nan\n",
      " 1.         1.         1.         1.         0.81882353 1.\n",
      " 0.81882353 1.         1.         1.         0.81882353 1.\n",
      " 1.         1.         1.         0.6972549  1.         0.60901961\n",
      " 1.         0.57411765 1.         0.53333333 1.         0.62078431\n",
      " 1.         0.54156863 1.         0.52666667 1.         0.50666667\n",
      " 1.         0.54078431 1.         0.54745098 1.         0.5\n",
      " 1.         0.56078431 1.         0.62901961 1.         0.79019608\n",
      " 1.         0.75215686 1.         0.7254902  1.         0.77529412\n",
      " 0.69921569 1.         0.67803922 1.         0.78941176 0.67803922\n",
      " 0.72117647 1.         0.68352941 1.         0.67137255 1.\n",
      " 0.59803922 1.         0.71372549 1.         0.6654902  1.\n",
      " 1.         1.         1.         1.         0.71372549 1.\n",
      " 0.59803922 1.         0.67137255 1.         0.68352941 1.\n",
      " 0.72117647 1.         0.6654902  0.67803922 0.67803922 1.\n",
      " 0.69921569 1.         0.77529412 1.         0.5        0.7254902\n",
      " 1.         0.75215686 1.         1.         0.78941176 1.\n",
      " 1.         0.62078431 1.         0.54156863 1.         0.52666667\n",
      " 1.         0.50666667 1.         0.54078431 1.         0.54745098\n",
      " 0.62901961 1.         1.         0.5        1.         1.\n",
      " 0.57411765 1.         0.60901961 1.         0.6972549  1.\n",
      " 0.56078431 0.5        1.         0.79019608 1.         1.\n",
      " 0.60901961 1.         0.57411765 1.         0.53333333 1.\n",
      " 0.62078431 1.         0.54156863 1.         0.6972549  0.52666667\n",
      " 0.50666667 0.53333333 0.54078431 1.         0.54745098 1.\n",
      " 0.5        1.         0.5        1.         0.79019608 1.\n",
      " 1.         0.56078431 1.         0.75215686 1.         0.7254902\n",
      " 1.         0.77529412 1.         0.69921569 1.         0.67803922\n",
      " 1.         0.67803922 1.         0.72117647 1.         0.68352941\n",
      " 1.         0.67137255 1.         0.59803922 1.         0.71372549\n",
      " 1.         0.6654902  1.         0.62901961 0.78941176 1.\n",
      " 1.         1.         1.         1.         1.         1.\n",
      " 1.         1.         1.         1.         1.         1.\n",
      " 1.         1.         1.         1.         1.         1.\n",
      " 1.         1.         0.84729064 1.         0.84729064 1.\n",
      " 1.         1.         1.         1.         1.         1.\n",
      " 0.84729064 1.         1.         0.85014778 0.85014778 0.85014778\n",
      " 0.84955665 0.84955665 1.         1.         0.84955665 1.\n",
      " 1.         1.         1.         1.         1.         1.\n",
      " 0.82610837 0.82610837 0.82610837 1.         1.         1.\n",
      " 1.         1.         1.         1.         1.         1.\n",
      " 1.         1.         1.         1.         1.         1.\n",
      " 1.         1.         1.         1.         1.         1.\n",
      " 1.         1.         1.         1.         1.         1.\n",
      " 0.91330049 0.91330049 0.91330049 1.         1.         1.\n",
      " 1.         1.         1.         1.         1.         1.        ]\n",
      "  warnings.warn(\n",
      "E:\\New folder\\lib\\site-packages\\sklearn\\model_selection\\_search.py:969: UserWarning: One or more of the test scores are non-finite: [0.83333333 0.83333333 0.9        0.9        0.73333333 0.83333333\n",
      " 0.73333333 0.9        0.7        0.8        0.83333333 0.83333333\n",
      " 0.83333333 0.9        0.86666667 0.93333333 1.         1.\n",
      " 0.96666667 0.96666667 0.93333333 0.96666667 0.93333333 0.96666667\n",
      " 0.9        0.9        0.76666667 0.76666667 0.9        1.\n",
      " 0.93333333 0.96666667 0.76666667 0.9        0.86666667 0.86666667\n",
      " 0.73333333 0.8        0.86666667 0.86666667 0.66666667 0.86666667\n",
      " 0.6        0.7        0.7        0.8        0.63333333 0.66666667\n",
      " 0.53333333 0.76666667 0.53333333 0.53333333 0.7        0.8\n",
      " 0.8        0.86666667 0.5        0.9        0.5        0.6\n",
      " 0.5        0.6        0.5        0.6               nan        nan\n",
      "        nan        nan        nan        nan        nan        nan\n",
      "        nan        nan        nan        nan        nan        nan\n",
      "        nan        nan        nan        nan        nan        nan\n",
      "        nan        nan        nan        nan        nan        nan\n",
      "        nan        nan        nan        nan        nan        nan\n",
      "        nan        nan        nan        nan        nan        nan\n",
      "        nan        nan        nan        nan        nan        nan\n",
      "        nan        nan        nan        nan        nan        nan\n",
      "        nan        nan        nan        nan        nan        nan\n",
      " 0.83333333 0.83333333 0.9        0.9        0.73333333 0.83333333\n",
      " 0.73333333 0.9        0.7        0.8        0.83333333 0.83333333\n",
      " 0.83333333 0.9        0.86666667 0.93333333 1.         1.\n",
      " 0.96666667 0.96666667 0.93333333 0.96666667 0.93333333 0.96666667\n",
      " 0.9        0.9        0.76666667 0.76666667 0.9        1.\n",
      " 0.93333333 0.96666667 0.76666667 0.9        0.86666667 0.86666667\n",
      " 0.73333333 0.8        0.86666667 0.86666667 0.66666667 0.86666667\n",
      " 0.6        0.7        0.7        0.8        0.63333333 0.66666667\n",
      " 0.53333333 0.76666667 0.53333333 0.53333333 0.7        0.8\n",
      " 0.8        0.86666667 0.5        0.9        0.5        0.6\n",
      " 0.5        0.6        0.5        0.6               nan        nan\n",
      "        nan        nan        nan        nan        nan        nan\n",
      "        nan        nan        nan        nan        nan        nan\n",
      "        nan        nan        nan        nan        nan        nan\n",
      "        nan        nan        nan        nan        nan        nan\n",
      "        nan        nan        nan        nan        nan        nan\n",
      "        nan        nan        nan        nan        nan        nan\n",
      "        nan        nan        nan        nan        nan        nan\n",
      "        nan        nan        nan        nan        nan        nan\n",
      "        nan        nan        nan        nan        nan        nan\n",
      " 0.83333333 0.83333333 0.9        0.9        0.73333333 0.83333333\n",
      " 0.73333333 0.9        0.7        0.8        0.83333333 0.83333333\n",
      " 0.83333333 0.9        0.86666667 0.93333333 1.         1.\n",
      " 0.96666667 0.96666667 0.93333333 0.96666667 0.93333333 0.96666667\n",
      " 0.9        0.9        0.76666667 0.76666667 0.9        1.\n",
      " 0.93333333 0.96666667 0.76666667 0.9        0.86666667 0.86666667\n",
      " 0.73333333 0.8        0.86666667 0.86666667 0.66666667 0.86666667\n",
      " 0.6        0.7        0.7        0.8        0.63333333 0.66666667\n",
      " 0.53333333 0.76666667 0.53333333 0.53333333 0.7        0.8\n",
      " 0.8        0.86666667 0.5        0.9        0.5        0.6\n",
      " 0.5        0.6        0.5        0.6               nan        nan\n",
      "        nan        nan        nan        nan        nan        nan\n",
      "        nan        nan        nan        nan        nan        nan\n",
      "        nan        nan        nan        nan        nan        nan\n",
      "        nan        nan        nan        nan        nan        nan\n",
      "        nan        nan        nan        nan        nan        nan\n",
      "        nan        nan        nan        nan        nan        nan\n",
      "        nan        nan        nan        nan        nan        nan\n",
      "        nan        nan        nan        nan        nan        nan\n",
      "        nan        nan        nan        nan        nan        nan\n",
      " 0.88       0.9        0.92       0.92       0.86       0.88\n",
      " 0.86       0.92       0.92       0.88       0.86       0.88\n",
      " 0.74       0.8        0.76666667 0.64666667 0.7        0.62666667\n",
      " 0.74666667 0.62       0.72       0.56       0.74       0.62666667\n",
      " 0.7        0.56666667 0.68666667 0.56       0.74       0.50666667\n",
      " 0.66666667 0.6        0.74       0.52666667 0.70666667 0.5\n",
      " 0.78       0.56666667 0.74       0.64       0.74666667 0.76666667\n",
      " 0.80666667 0.68       0.8        0.72       0.82       0.76\n",
      " 0.74666667 0.74666667 0.62       0.8        0.74666667 0.64666667\n",
      " 0.70666667 0.8        0.68666667 0.74666667 0.66       0.76\n",
      " 0.58666667 0.76666667 0.72       0.76       0.64666667 0.72666667\n",
      " 0.78       0.66666667 0.8        0.76       0.72       0.76666667\n",
      " 0.58666667 0.76       0.66       0.74666667 0.68666667 0.8\n",
      " 0.70666667 0.72666667 0.64666667 0.64666667 0.62       0.74666667\n",
      " 0.74666667 0.78       0.76       0.82       0.5        0.72\n",
      " 0.8        0.68       0.80666667 0.8        0.74666667 0.74666667\n",
      " 0.74       0.62666667 0.7        0.56666667 0.68666667 0.56\n",
      " 0.74       0.50666667 0.66666667 0.6        0.74       0.52666667\n",
      " 0.64       0.70666667 0.78       0.5        0.74       0.72\n",
      " 0.62       0.74666667 0.62666667 0.7        0.64666667 0.76666667\n",
      " 0.56666667 0.5        0.8        0.76666667 0.80666667 0.7\n",
      " 0.62666667 0.74666667 0.62       0.72       0.56       0.74\n",
      " 0.62666667 0.7        0.56666667 0.68666667 0.64666667 0.56\n",
      " 0.50666667 0.56       0.6        0.74       0.52666667 0.70666667\n",
      " 0.5        0.78       0.5        0.74       0.76666667 0.74\n",
      " 0.76666667 0.56666667 0.74       0.68       0.8        0.72\n",
      " 0.82       0.76       0.78       0.74666667 0.74666667 0.62\n",
      " 0.8        0.64666667 0.72666667 0.70666667 0.8        0.68666667\n",
      " 0.74666667 0.66       0.76       0.58666667 0.76666667 0.72\n",
      " 0.76       0.64666667 0.74666667 0.64       0.74666667 0.74\n",
      " 0.83809524 0.83809524 0.83809524 0.80952381 0.80952381 0.79206349\n",
      " 0.80952381 0.79206349 0.79206349 0.83174603 0.83174603 0.83174603\n",
      " 0.83174603 0.83174603 0.83492063 0.83492063 0.83174603 0.83492063\n",
      " 0.83492063 0.86349206 0.85238095 0.82063492 0.85238095 0.86349206\n",
      " 0.83492063 0.83492063 0.82063492 0.83492063 0.83492063 0.86349206\n",
      " 0.85238095 0.82063492 0.83492063 0.84126984 0.84126984 0.84126984\n",
      " 0.82380952 0.82380952 0.84603175 0.84603175 0.82380952 0.84603175\n",
      " 0.84603175 0.84603175 0.84603175 0.81746032 0.81746032 0.81746032\n",
      " 0.8047619  0.8047619  0.8047619  0.82380952 0.82380952 0.82380952\n",
      " 0.85238095 0.85238095 0.85238095 0.83492063 0.83492063 0.83492063\n",
      " 0.83809524 0.83492063 0.83492063 0.85238095 0.85238095 0.85238095\n",
      " 0.87777778 0.83492063 0.83809524 0.87777778 0.87777778 0.83809524\n",
      " 0.82698413 0.82698413 0.82698413 0.85238095 0.85238095 0.85238095\n",
      " 0.78571429 0.78571429 0.78571429 0.78571429 0.78571429 0.78571429\n",
      " 0.8015873  0.8047619  0.81111111 0.81111111 0.8047619  0.81111111\n",
      " 0.82627451 0.8145098  0.82627451 0.85568627 0.85568627 0.84039216\n",
      " 0.84627451 0.84039216 0.84627451 0.84627451 0.85568627 0.84039216\n",
      " 0.84470588 0.84470588 0.84470588 0.81372549 0.81372549 0.81372549\n",
      " 0.86666667 0.86666667 0.86666667 0.84392157 0.84392157 0.84392157\n",
      " 0.84392157 0.84392157 0.84392157 0.81960784 0.81960784 0.81960784\n",
      " 0.86666667 0.86666667 0.86666667 0.84980392 0.8372549  0.8372549\n",
      " 0.8372549  0.84980392 0.84980392 0.8372549  0.8372549  0.8372549\n",
      " 0.86235294 0.86235294 0.86235294]\n",
      "  warnings.warn(\n",
      "E:\\New folder\\lib\\site-packages\\sklearn\\model_selection\\_search.py:969: UserWarning: One or more of the train scores are non-finite: [1.         1.         1.         1.         0.9        1.\n",
      " 0.93333333 1.         0.86349206 1.         0.88095238 1.\n",
      " 0.82380952 1.         0.82380952 1.         0.82063492 1.\n",
      " 0.81269841 1.         0.85714286 1.         0.82539683 1.\n",
      " 0.6984127  1.         0.72380952 1.         0.79047619 1.\n",
      " 0.76190476 1.         0.67777778 1.         0.72380952 1.\n",
      " 0.72539683 1.         0.77301587 1.         0.66984127 1.\n",
      " 0.66349206 1.         0.68253968 1.         0.71269841 1.\n",
      " 0.62380952 1.         0.60634921 1.         0.71904762 1.\n",
      " 0.66984127 1.         0.5        1.         0.5        1.\n",
      " 0.5        1.         0.5        1.                nan        nan\n",
      "        nan        nan        nan        nan        nan        nan\n",
      "        nan        nan        nan        nan        nan        nan\n",
      "        nan        nan        nan        nan        nan        nan\n",
      "        nan        nan        nan        nan        nan        nan\n",
      "        nan        nan        nan        nan        nan        nan\n",
      "        nan        nan        nan        nan        nan        nan\n",
      "        nan        nan        nan        nan        nan        nan\n",
      "        nan        nan        nan        nan        nan        nan\n",
      "        nan        nan        nan        nan        nan        nan\n",
      " 1.         1.         1.         1.         0.9        1.\n",
      " 0.93333333 1.         0.86349206 1.         0.88095238 1.\n",
      " 0.82380952 1.         0.82380952 1.         0.82063492 1.\n",
      " 0.81269841 1.         0.85714286 1.         0.82539683 1.\n",
      " 0.6984127  1.         0.72380952 1.         0.79047619 1.\n",
      " 0.76190476 1.         0.67777778 1.         0.72380952 1.\n",
      " 0.72539683 1.         0.77301587 1.         0.66984127 1.\n",
      " 0.66349206 1.         0.68253968 1.         0.71269841 1.\n",
      " 0.62380952 1.         0.60634921 1.         0.71904762 1.\n",
      " 0.66984127 1.         0.5        1.         0.5        1.\n",
      " 0.5        1.         0.5        1.                nan        nan\n",
      "        nan        nan        nan        nan        nan        nan\n",
      "        nan        nan        nan        nan        nan        nan\n",
      "        nan        nan        nan        nan        nan        nan\n",
      "        nan        nan        nan        nan        nan        nan\n",
      "        nan        nan        nan        nan        nan        nan\n",
      "        nan        nan        nan        nan        nan        nan\n",
      "        nan        nan        nan        nan        nan        nan\n",
      "        nan        nan        nan        nan        nan        nan\n",
      "        nan        nan        nan        nan        nan        nan\n",
      " 1.         1.         1.         1.         0.9        1.\n",
      " 0.93333333 1.         0.86349206 1.         0.88095238 1.\n",
      " 0.82380952 1.         0.82380952 1.         0.82063492 1.\n",
      " 0.81269841 1.         0.85714286 1.         0.82539683 1.\n",
      " 0.6984127  1.         0.72380952 1.         0.79047619 1.\n",
      " 0.76190476 1.         0.67777778 1.         0.72380952 1.\n",
      " 0.72539683 1.         0.77301587 1.         0.66984127 1.\n",
      " 0.66349206 1.         0.68253968 1.         0.71269841 1.\n",
      " 0.62380952 1.         0.60634921 1.         0.71904762 1.\n",
      " 0.66984127 1.         0.5        1.         0.5        1.\n",
      " 0.5        1.         0.5        1.                nan        nan\n",
      "        nan        nan        nan        nan        nan        nan\n",
      "        nan        nan        nan        nan        nan        nan\n",
      "        nan        nan        nan        nan        nan        nan\n",
      "        nan        nan        nan        nan        nan        nan\n",
      "        nan        nan        nan        nan        nan        nan\n",
      "        nan        nan        nan        nan        nan        nan\n",
      "        nan        nan        nan        nan        nan        nan\n",
      "        nan        nan        nan        nan        nan        nan\n",
      "        nan        nan        nan        nan        nan        nan\n",
      " 1.         1.         1.         1.         0.81882353 1.\n",
      " 0.81882353 1.         1.         1.         0.81882353 1.\n",
      " 1.         1.         1.         0.6972549  1.         0.60901961\n",
      " 1.         0.57411765 1.         0.53333333 1.         0.62078431\n",
      " 1.         0.54156863 1.         0.52666667 1.         0.50666667\n",
      " 1.         0.54078431 1.         0.54745098 1.         0.5\n",
      " 1.         0.56078431 1.         0.62901961 1.         0.79019608\n",
      " 1.         0.75215686 1.         0.7254902  1.         0.77529412\n",
      " 0.69921569 1.         0.67803922 1.         0.78941176 0.67803922\n",
      " 0.72117647 1.         0.68352941 1.         0.67137255 1.\n",
      " 0.59803922 1.         0.71372549 1.         0.6654902  1.\n",
      " 1.         1.         1.         1.         0.71372549 1.\n",
      " 0.59803922 1.         0.67137255 1.         0.68352941 1.\n",
      " 0.72117647 1.         0.6654902  0.67803922 0.67803922 1.\n",
      " 0.69921569 1.         0.77529412 1.         0.5        0.7254902\n",
      " 1.         0.75215686 1.         1.         0.78941176 1.\n",
      " 1.         0.62078431 1.         0.54156863 1.         0.52666667\n",
      " 1.         0.50666667 1.         0.54078431 1.         0.54745098\n",
      " 0.62901961 1.         1.         0.5        1.         1.\n",
      " 0.57411765 1.         0.60901961 1.         0.6972549  1.\n",
      " 0.56078431 0.5        1.         0.79019608 1.         1.\n",
      " 0.60901961 1.         0.57411765 1.         0.53333333 1.\n",
      " 0.62078431 1.         0.54156863 1.         0.6972549  0.52666667\n",
      " 0.50666667 0.53333333 0.54078431 1.         0.54745098 1.\n",
      " 0.5        1.         0.5        1.         0.79019608 1.\n",
      " 1.         0.56078431 1.         0.75215686 1.         0.7254902\n",
      " 1.         0.77529412 1.         0.69921569 1.         0.67803922\n",
      " 1.         0.67803922 1.         0.72117647 1.         0.68352941\n",
      " 1.         0.67137255 1.         0.59803922 1.         0.71372549\n",
      " 1.         0.6654902  1.         0.62901961 0.78941176 1.\n",
      " 1.         1.         1.         1.         1.         1.\n",
      " 1.         1.         1.         1.         1.         1.\n",
      " 1.         1.         1.         1.         1.         1.\n",
      " 1.         1.         0.84729064 1.         0.84729064 1.\n",
      " 1.         1.         1.         1.         1.         1.\n",
      " 0.84729064 1.         1.         0.85014778 0.85014778 0.85014778\n",
      " 0.84955665 0.84955665 1.         1.         0.84955665 1.\n",
      " 1.         1.         1.         1.         1.         1.\n",
      " 0.82610837 0.82610837 0.82610837 1.         1.         1.\n",
      " 1.         1.         1.         1.         1.         1.\n",
      " 1.         1.         1.         1.         1.         1.\n",
      " 1.         1.         1.         1.         1.         1.\n",
      " 1.         1.         1.         1.         1.         1.\n",
      " 0.91330049 0.91330049 0.91330049 1.         1.         1.\n",
      " 1.         1.         1.         1.         1.         1.\n",
      " 1.         1.         1.         1.         1.         1.\n",
      " 1.         1.         1.         1.         1.         1.\n",
      " 1.         1.         1.         1.         1.         1.\n",
      " 0.85931174 0.85931174 0.85931174 1.         1.         1.\n",
      " 1.         1.         1.         1.         1.         1.\n",
      " 1.         1.         1.         1.         0.86619433 0.86619433\n",
      " 0.86619433 1.         1.         1.         1.         1.\n",
      " 1.         1.         1.        ]\n",
      "  warnings.warn(\n",
      "E:\\New folder\\lib\\site-packages\\sklearn\\model_selection\\_search.py:969: UserWarning: One or more of the test scores are non-finite: [0.83333333 0.83333333 0.9        0.9        0.73333333 0.83333333\n",
      " 0.73333333 0.9        0.7        0.8        0.83333333 0.83333333\n",
      " 0.83333333 0.9        0.86666667 0.93333333 1.         1.\n",
      " 0.96666667 0.96666667 0.93333333 0.96666667 0.93333333 0.96666667\n",
      " 0.9        0.9        0.76666667 0.76666667 0.9        1.\n",
      " 0.93333333 0.96666667 0.76666667 0.9        0.86666667 0.86666667\n",
      " 0.73333333 0.8        0.86666667 0.86666667 0.66666667 0.86666667\n",
      " 0.6        0.7        0.7        0.8        0.63333333 0.66666667\n",
      " 0.53333333 0.76666667 0.53333333 0.53333333 0.7        0.8\n",
      " 0.8        0.86666667 0.5        0.9        0.5        0.6\n",
      " 0.5        0.6        0.5        0.6               nan        nan\n",
      "        nan        nan        nan        nan        nan        nan\n",
      "        nan        nan        nan        nan        nan        nan\n",
      "        nan        nan        nan        nan        nan        nan\n",
      "        nan        nan        nan        nan        nan        nan\n",
      "        nan        nan        nan        nan        nan        nan\n",
      "        nan        nan        nan        nan        nan        nan\n",
      "        nan        nan        nan        nan        nan        nan\n",
      "        nan        nan        nan        nan        nan        nan\n",
      "        nan        nan        nan        nan        nan        nan\n",
      " 0.83333333 0.83333333 0.9        0.9        0.73333333 0.83333333\n",
      " 0.73333333 0.9        0.7        0.8        0.83333333 0.83333333\n",
      " 0.83333333 0.9        0.86666667 0.93333333 1.         1.\n",
      " 0.96666667 0.96666667 0.93333333 0.96666667 0.93333333 0.96666667\n",
      " 0.9        0.9        0.76666667 0.76666667 0.9        1.\n",
      " 0.93333333 0.96666667 0.76666667 0.9        0.86666667 0.86666667\n",
      " 0.73333333 0.8        0.86666667 0.86666667 0.66666667 0.86666667\n",
      " 0.6        0.7        0.7        0.8        0.63333333 0.66666667\n",
      " 0.53333333 0.76666667 0.53333333 0.53333333 0.7        0.8\n",
      " 0.8        0.86666667 0.5        0.9        0.5        0.6\n",
      " 0.5        0.6        0.5        0.6               nan        nan\n",
      "        nan        nan        nan        nan        nan        nan\n",
      "        nan        nan        nan        nan        nan        nan\n",
      "        nan        nan        nan        nan        nan        nan\n",
      "        nan        nan        nan        nan        nan        nan\n",
      "        nan        nan        nan        nan        nan        nan\n",
      "        nan        nan        nan        nan        nan        nan\n",
      "        nan        nan        nan        nan        nan        nan\n",
      "        nan        nan        nan        nan        nan        nan\n",
      "        nan        nan        nan        nan        nan        nan\n",
      " 0.83333333 0.83333333 0.9        0.9        0.73333333 0.83333333\n",
      " 0.73333333 0.9        0.7        0.8        0.83333333 0.83333333\n",
      " 0.83333333 0.9        0.86666667 0.93333333 1.         1.\n",
      " 0.96666667 0.96666667 0.93333333 0.96666667 0.93333333 0.96666667\n",
      " 0.9        0.9        0.76666667 0.76666667 0.9        1.\n",
      " 0.93333333 0.96666667 0.76666667 0.9        0.86666667 0.86666667\n",
      " 0.73333333 0.8        0.86666667 0.86666667 0.66666667 0.86666667\n",
      " 0.6        0.7        0.7        0.8        0.63333333 0.66666667\n",
      " 0.53333333 0.76666667 0.53333333 0.53333333 0.7        0.8\n",
      " 0.8        0.86666667 0.5        0.9        0.5        0.6\n",
      " 0.5        0.6        0.5        0.6               nan        nan\n",
      "        nan        nan        nan        nan        nan        nan\n",
      "        nan        nan        nan        nan        nan        nan\n",
      "        nan        nan        nan        nan        nan        nan\n",
      "        nan        nan        nan        nan        nan        nan\n",
      "        nan        nan        nan        nan        nan        nan\n",
      "        nan        nan        nan        nan        nan        nan\n",
      "        nan        nan        nan        nan        nan        nan\n",
      "        nan        nan        nan        nan        nan        nan\n",
      "        nan        nan        nan        nan        nan        nan\n",
      " 0.88       0.9        0.92       0.92       0.86       0.88\n",
      " 0.86       0.92       0.92       0.88       0.86       0.88\n",
      " 0.74       0.8        0.76666667 0.64666667 0.7        0.62666667\n",
      " 0.74666667 0.62       0.72       0.56       0.74       0.62666667\n",
      " 0.7        0.56666667 0.68666667 0.56       0.74       0.50666667\n",
      " 0.66666667 0.6        0.74       0.52666667 0.70666667 0.5\n",
      " 0.78       0.56666667 0.74       0.64       0.74666667 0.76666667\n",
      " 0.80666667 0.68       0.8        0.72       0.82       0.76\n",
      " 0.74666667 0.74666667 0.62       0.8        0.74666667 0.64666667\n",
      " 0.70666667 0.8        0.68666667 0.74666667 0.66       0.76\n",
      " 0.58666667 0.76666667 0.72       0.76       0.64666667 0.72666667\n",
      " 0.78       0.66666667 0.8        0.76       0.72       0.76666667\n",
      " 0.58666667 0.76       0.66       0.74666667 0.68666667 0.8\n",
      " 0.70666667 0.72666667 0.64666667 0.64666667 0.62       0.74666667\n",
      " 0.74666667 0.78       0.76       0.82       0.5        0.72\n",
      " 0.8        0.68       0.80666667 0.8        0.74666667 0.74666667\n",
      " 0.74       0.62666667 0.7        0.56666667 0.68666667 0.56\n",
      " 0.74       0.50666667 0.66666667 0.6        0.74       0.52666667\n",
      " 0.64       0.70666667 0.78       0.5        0.74       0.72\n",
      " 0.62       0.74666667 0.62666667 0.7        0.64666667 0.76666667\n",
      " 0.56666667 0.5        0.8        0.76666667 0.80666667 0.7\n",
      " 0.62666667 0.74666667 0.62       0.72       0.56       0.74\n",
      " 0.62666667 0.7        0.56666667 0.68666667 0.64666667 0.56\n",
      " 0.50666667 0.56       0.6        0.74       0.52666667 0.70666667\n",
      " 0.5        0.78       0.5        0.74       0.76666667 0.74\n",
      " 0.76666667 0.56666667 0.74       0.68       0.8        0.72\n",
      " 0.82       0.76       0.78       0.74666667 0.74666667 0.62\n",
      " 0.8        0.64666667 0.72666667 0.70666667 0.8        0.68666667\n",
      " 0.74666667 0.66       0.76       0.58666667 0.76666667 0.72\n",
      " 0.76       0.64666667 0.74666667 0.64       0.74666667 0.74\n",
      " 0.83809524 0.83809524 0.83809524 0.80952381 0.80952381 0.79206349\n",
      " 0.80952381 0.79206349 0.79206349 0.83174603 0.83174603 0.83174603\n",
      " 0.83174603 0.83174603 0.83492063 0.83492063 0.83174603 0.83492063\n",
      " 0.83492063 0.86349206 0.85238095 0.82063492 0.85238095 0.86349206\n",
      " 0.83492063 0.83492063 0.82063492 0.83492063 0.83492063 0.86349206\n",
      " 0.85238095 0.82063492 0.83492063 0.84126984 0.84126984 0.84126984\n",
      " 0.82380952 0.82380952 0.84603175 0.84603175 0.82380952 0.84603175\n",
      " 0.84603175 0.84603175 0.84603175 0.81746032 0.81746032 0.81746032\n",
      " 0.8047619  0.8047619  0.8047619  0.82380952 0.82380952 0.82380952\n",
      " 0.85238095 0.85238095 0.85238095 0.83492063 0.83492063 0.83492063\n",
      " 0.83809524 0.83492063 0.83492063 0.85238095 0.85238095 0.85238095\n",
      " 0.87777778 0.83492063 0.83809524 0.87777778 0.87777778 0.83809524\n",
      " 0.82698413 0.82698413 0.82698413 0.85238095 0.85238095 0.85238095\n",
      " 0.78571429 0.78571429 0.78571429 0.78571429 0.78571429 0.78571429\n",
      " 0.8015873  0.8047619  0.81111111 0.81111111 0.8047619  0.81111111\n",
      " 0.82627451 0.8145098  0.82627451 0.85568627 0.85568627 0.84039216\n",
      " 0.84627451 0.84039216 0.84627451 0.84627451 0.85568627 0.84039216\n",
      " 0.84470588 0.84470588 0.84470588 0.81372549 0.81372549 0.81372549\n",
      " 0.86666667 0.86666667 0.86666667 0.84392157 0.84392157 0.84392157\n",
      " 0.84392157 0.84392157 0.84392157 0.81960784 0.81960784 0.81960784\n",
      " 0.86666667 0.86666667 0.86666667 0.84980392 0.8372549  0.8372549\n",
      " 0.8372549  0.84980392 0.84980392 0.8372549  0.8372549  0.8372549\n",
      " 0.86235294 0.86235294 0.86235294 0.8547619  0.8547619  0.86587302\n",
      " 0.86587302 0.86587302 0.8484127  0.8484127  0.8484127  0.85753968\n",
      " 0.85753968 0.85753968 0.85753968 0.85753968 0.85753968 0.86587302\n",
      " 0.86587302 0.86587302 0.85873016 0.85873016 0.8531746  0.8531746\n",
      " 0.8531746  0.85873016]\n",
      "  warnings.warn(\n",
      "E:\\New folder\\lib\\site-packages\\sklearn\\model_selection\\_search.py:969: UserWarning: One or more of the train scores are non-finite: [1.         1.         1.         1.         0.9        1.\n",
      " 0.93333333 1.         0.86349206 1.         0.88095238 1.\n",
      " 0.82380952 1.         0.82380952 1.         0.82063492 1.\n",
      " 0.81269841 1.         0.85714286 1.         0.82539683 1.\n",
      " 0.6984127  1.         0.72380952 1.         0.79047619 1.\n",
      " 0.76190476 1.         0.67777778 1.         0.72380952 1.\n",
      " 0.72539683 1.         0.77301587 1.         0.66984127 1.\n",
      " 0.66349206 1.         0.68253968 1.         0.71269841 1.\n",
      " 0.62380952 1.         0.60634921 1.         0.71904762 1.\n",
      " 0.66984127 1.         0.5        1.         0.5        1.\n",
      " 0.5        1.         0.5        1.                nan        nan\n",
      "        nan        nan        nan        nan        nan        nan\n",
      "        nan        nan        nan        nan        nan        nan\n",
      "        nan        nan        nan        nan        nan        nan\n",
      "        nan        nan        nan        nan        nan        nan\n",
      "        nan        nan        nan        nan        nan        nan\n",
      "        nan        nan        nan        nan        nan        nan\n",
      "        nan        nan        nan        nan        nan        nan\n",
      "        nan        nan        nan        nan        nan        nan\n",
      "        nan        nan        nan        nan        nan        nan\n",
      " 1.         1.         1.         1.         0.9        1.\n",
      " 0.93333333 1.         0.86349206 1.         0.88095238 1.\n",
      " 0.82380952 1.         0.82380952 1.         0.82063492 1.\n",
      " 0.81269841 1.         0.85714286 1.         0.82539683 1.\n",
      " 0.6984127  1.         0.72380952 1.         0.79047619 1.\n",
      " 0.76190476 1.         0.67777778 1.         0.72380952 1.\n",
      " 0.72539683 1.         0.77301587 1.         0.66984127 1.\n",
      " 0.66349206 1.         0.68253968 1.         0.71269841 1.\n",
      " 0.62380952 1.         0.60634921 1.         0.71904762 1.\n",
      " 0.66984127 1.         0.5        1.         0.5        1.\n",
      " 0.5        1.         0.5        1.                nan        nan\n",
      "        nan        nan        nan        nan        nan        nan\n",
      "        nan        nan        nan        nan        nan        nan\n",
      "        nan        nan        nan        nan        nan        nan\n",
      "        nan        nan        nan        nan        nan        nan\n",
      "        nan        nan        nan        nan        nan        nan\n",
      "        nan        nan        nan        nan        nan        nan\n",
      "        nan        nan        nan        nan        nan        nan\n",
      "        nan        nan        nan        nan        nan        nan\n",
      "        nan        nan        nan        nan        nan        nan\n",
      " 1.         1.         1.         1.         0.9        1.\n",
      " 0.93333333 1.         0.86349206 1.         0.88095238 1.\n",
      " 0.82380952 1.         0.82380952 1.         0.82063492 1.\n",
      " 0.81269841 1.         0.85714286 1.         0.82539683 1.\n",
      " 0.6984127  1.         0.72380952 1.         0.79047619 1.\n",
      " 0.76190476 1.         0.67777778 1.         0.72380952 1.\n",
      " 0.72539683 1.         0.77301587 1.         0.66984127 1.\n",
      " 0.66349206 1.         0.68253968 1.         0.71269841 1.\n",
      " 0.62380952 1.         0.60634921 1.         0.71904762 1.\n",
      " 0.66984127 1.         0.5        1.         0.5        1.\n",
      " 0.5        1.         0.5        1.                nan        nan\n",
      "        nan        nan        nan        nan        nan        nan\n",
      "        nan        nan        nan        nan        nan        nan\n",
      "        nan        nan        nan        nan        nan        nan\n",
      "        nan        nan        nan        nan        nan        nan\n",
      "        nan        nan        nan        nan        nan        nan\n",
      "        nan        nan        nan        nan        nan        nan\n",
      "        nan        nan        nan        nan        nan        nan\n",
      "        nan        nan        nan        nan        nan        nan\n",
      "        nan        nan        nan        nan        nan        nan\n",
      " 1.         1.         1.         1.         0.81882353 1.\n",
      " 0.81882353 1.         1.         1.         0.81882353 1.\n",
      " 1.         1.         1.         0.6972549  1.         0.60901961\n",
      " 1.         0.57411765 1.         0.53333333 1.         0.62078431\n",
      " 1.         0.54156863 1.         0.52666667 1.         0.50666667\n",
      " 1.         0.54078431 1.         0.54745098 1.         0.5\n",
      " 1.         0.56078431 1.         0.62901961 1.         0.79019608\n",
      " 1.         0.75215686 1.         0.7254902  1.         0.77529412\n",
      " 0.69921569 1.         0.67803922 1.         0.78941176 0.67803922\n",
      " 0.72117647 1.         0.68352941 1.         0.67137255 1.\n",
      " 0.59803922 1.         0.71372549 1.         0.6654902  1.\n",
      " 1.         1.         1.         1.         0.71372549 1.\n",
      " 0.59803922 1.         0.67137255 1.         0.68352941 1.\n",
      " 0.72117647 1.         0.6654902  0.67803922 0.67803922 1.\n",
      " 0.69921569 1.         0.77529412 1.         0.5        0.7254902\n",
      " 1.         0.75215686 1.         1.         0.78941176 1.\n",
      " 1.         0.62078431 1.         0.54156863 1.         0.52666667\n",
      " 1.         0.50666667 1.         0.54078431 1.         0.54745098\n",
      " 0.62901961 1.         1.         0.5        1.         1.\n",
      " 0.57411765 1.         0.60901961 1.         0.6972549  1.\n",
      " 0.56078431 0.5        1.         0.79019608 1.         1.\n",
      " 0.60901961 1.         0.57411765 1.         0.53333333 1.\n",
      " 0.62078431 1.         0.54156863 1.         0.6972549  0.52666667\n",
      " 0.50666667 0.53333333 0.54078431 1.         0.54745098 1.\n",
      " 0.5        1.         0.5        1.         0.79019608 1.\n",
      " 1.         0.56078431 1.         0.75215686 1.         0.7254902\n",
      " 1.         0.77529412 1.         0.69921569 1.         0.67803922\n",
      " 1.         0.67803922 1.         0.72117647 1.         0.68352941\n",
      " 1.         0.67137255 1.         0.59803922 1.         0.71372549\n",
      " 1.         0.6654902  1.         0.62901961 0.78941176 1.\n",
      " 1.         1.         1.         1.         1.         1.\n",
      " 1.         1.         1.         1.         1.         1.\n",
      " 1.         1.         1.         1.         1.         1.\n",
      " 1.         1.         0.84729064 1.         0.84729064 1.\n",
      " 1.         1.         1.         1.         1.         1.\n",
      " 0.84729064 1.         1.         0.85014778 0.85014778 0.85014778\n",
      " 0.84955665 0.84955665 1.         1.         0.84955665 1.\n",
      " 1.         1.         1.         1.         1.         1.\n",
      " 0.82610837 0.82610837 0.82610837 1.         1.         1.\n",
      " 1.         1.         1.         1.         1.         1.\n",
      " 1.         1.         1.         1.         1.         1.\n",
      " 1.         1.         1.         1.         1.         1.\n",
      " 1.         1.         1.         1.         1.         1.\n",
      " 0.91330049 0.91330049 0.91330049 1.         1.         1.\n",
      " 1.         1.         1.         1.         1.         1.\n",
      " 1.         1.         1.         1.         1.         1.\n",
      " 1.         1.         1.         1.         1.         1.\n",
      " 1.         1.         1.         1.         1.         1.\n",
      " 0.85931174 0.85931174 0.85931174 1.         1.         1.\n",
      " 1.         1.         1.         1.         1.         1.\n",
      " 1.         1.         1.         1.         0.86619433 0.86619433\n",
      " 0.86619433 1.         1.         1.         1.         1.\n",
      " 1.         1.         1.         1.         1.         1.\n",
      " 1.         1.         1.         1.         1.         1.\n",
      " 1.         1.         1.         1.         1.         1.\n",
      " 1.         1.         1.         1.         0.89156102 0.89156102\n",
      " 0.89156102 1.        ]\n",
      "  warnings.warn(\n",
      "E:\\New folder\\lib\\site-packages\\sklearn\\model_selection\\_search.py:969: UserWarning: One or more of the test scores are non-finite: [0.83333333 0.83333333 0.9        0.9        0.73333333 0.83333333\n",
      " 0.73333333 0.9        0.7        0.8        0.83333333 0.83333333\n",
      " 0.83333333 0.9        0.86666667 0.93333333 1.         1.\n",
      " 0.96666667 0.96666667 0.93333333 0.96666667 0.93333333 0.96666667\n",
      " 0.9        0.9        0.76666667 0.76666667 0.9        1.\n",
      " 0.93333333 0.96666667 0.76666667 0.9        0.86666667 0.86666667\n",
      " 0.73333333 0.8        0.86666667 0.86666667 0.66666667 0.86666667\n",
      " 0.6        0.7        0.7        0.8        0.63333333 0.66666667\n",
      " 0.53333333 0.76666667 0.53333333 0.53333333 0.7        0.8\n",
      " 0.8        0.86666667 0.5        0.9        0.5        0.6\n",
      " 0.5        0.6        0.5        0.6               nan        nan\n",
      "        nan        nan        nan        nan        nan        nan\n",
      "        nan        nan        nan        nan        nan        nan\n",
      "        nan        nan        nan        nan        nan        nan\n",
      "        nan        nan        nan        nan        nan        nan\n",
      "        nan        nan        nan        nan        nan        nan\n",
      "        nan        nan        nan        nan        nan        nan\n",
      "        nan        nan        nan        nan        nan        nan\n",
      "        nan        nan        nan        nan        nan        nan\n",
      "        nan        nan        nan        nan        nan        nan\n",
      " 0.83333333 0.83333333 0.9        0.9        0.73333333 0.83333333\n",
      " 0.73333333 0.9        0.7        0.8        0.83333333 0.83333333\n",
      " 0.83333333 0.9        0.86666667 0.93333333 1.         1.\n",
      " 0.96666667 0.96666667 0.93333333 0.96666667 0.93333333 0.96666667\n",
      " 0.9        0.9        0.76666667 0.76666667 0.9        1.\n",
      " 0.93333333 0.96666667 0.76666667 0.9        0.86666667 0.86666667\n",
      " 0.73333333 0.8        0.86666667 0.86666667 0.66666667 0.86666667\n",
      " 0.6        0.7        0.7        0.8        0.63333333 0.66666667\n",
      " 0.53333333 0.76666667 0.53333333 0.53333333 0.7        0.8\n",
      " 0.8        0.86666667 0.5        0.9        0.5        0.6\n",
      " 0.5        0.6        0.5        0.6               nan        nan\n",
      "        nan        nan        nan        nan        nan        nan\n",
      "        nan        nan        nan        nan        nan        nan\n",
      "        nan        nan        nan        nan        nan        nan\n",
      "        nan        nan        nan        nan        nan        nan\n",
      "        nan        nan        nan        nan        nan        nan\n",
      "        nan        nan        nan        nan        nan        nan\n",
      "        nan        nan        nan        nan        nan        nan\n",
      "        nan        nan        nan        nan        nan        nan\n",
      "        nan        nan        nan        nan        nan        nan\n",
      " 0.83333333 0.83333333 0.9        0.9        0.73333333 0.83333333\n",
      " 0.73333333 0.9        0.7        0.8        0.83333333 0.83333333\n",
      " 0.83333333 0.9        0.86666667 0.93333333 1.         1.\n",
      " 0.96666667 0.96666667 0.93333333 0.96666667 0.93333333 0.96666667\n",
      " 0.9        0.9        0.76666667 0.76666667 0.9        1.\n",
      " 0.93333333 0.96666667 0.76666667 0.9        0.86666667 0.86666667\n",
      " 0.73333333 0.8        0.86666667 0.86666667 0.66666667 0.86666667\n",
      " 0.6        0.7        0.7        0.8        0.63333333 0.66666667\n",
      " 0.53333333 0.76666667 0.53333333 0.53333333 0.7        0.8\n",
      " 0.8        0.86666667 0.5        0.9        0.5        0.6\n",
      " 0.5        0.6        0.5        0.6               nan        nan\n",
      "        nan        nan        nan        nan        nan        nan\n",
      "        nan        nan        nan        nan        nan        nan\n",
      "        nan        nan        nan        nan        nan        nan\n",
      "        nan        nan        nan        nan        nan        nan\n",
      "        nan        nan        nan        nan        nan        nan\n",
      "        nan        nan        nan        nan        nan        nan\n",
      "        nan        nan        nan        nan        nan        nan\n",
      "        nan        nan        nan        nan        nan        nan\n",
      "        nan        nan        nan        nan        nan        nan\n",
      " 0.88       0.9        0.92       0.92       0.86       0.88\n",
      " 0.86       0.92       0.92       0.88       0.86       0.88\n",
      " 0.74       0.8        0.76666667 0.64666667 0.7        0.62666667\n",
      " 0.74666667 0.62       0.72       0.56       0.74       0.62666667\n",
      " 0.7        0.56666667 0.68666667 0.56       0.74       0.50666667\n",
      " 0.66666667 0.6        0.74       0.52666667 0.70666667 0.5\n",
      " 0.78       0.56666667 0.74       0.64       0.74666667 0.76666667\n",
      " 0.80666667 0.68       0.8        0.72       0.82       0.76\n",
      " 0.74666667 0.74666667 0.62       0.8        0.74666667 0.64666667\n",
      " 0.70666667 0.8        0.68666667 0.74666667 0.66       0.76\n",
      " 0.58666667 0.76666667 0.72       0.76       0.64666667 0.72666667\n",
      " 0.78       0.66666667 0.8        0.76       0.72       0.76666667\n",
      " 0.58666667 0.76       0.66       0.74666667 0.68666667 0.8\n",
      " 0.70666667 0.72666667 0.64666667 0.64666667 0.62       0.74666667\n",
      " 0.74666667 0.78       0.76       0.82       0.5        0.72\n",
      " 0.8        0.68       0.80666667 0.8        0.74666667 0.74666667\n",
      " 0.74       0.62666667 0.7        0.56666667 0.68666667 0.56\n",
      " 0.74       0.50666667 0.66666667 0.6        0.74       0.52666667\n",
      " 0.64       0.70666667 0.78       0.5        0.74       0.72\n",
      " 0.62       0.74666667 0.62666667 0.7        0.64666667 0.76666667\n",
      " 0.56666667 0.5        0.8        0.76666667 0.80666667 0.7\n",
      " 0.62666667 0.74666667 0.62       0.72       0.56       0.74\n",
      " 0.62666667 0.7        0.56666667 0.68666667 0.64666667 0.56\n",
      " 0.50666667 0.56       0.6        0.74       0.52666667 0.70666667\n",
      " 0.5        0.78       0.5        0.74       0.76666667 0.74\n",
      " 0.76666667 0.56666667 0.74       0.68       0.8        0.72\n",
      " 0.82       0.76       0.78       0.74666667 0.74666667 0.62\n",
      " 0.8        0.64666667 0.72666667 0.70666667 0.8        0.68666667\n",
      " 0.74666667 0.66       0.76       0.58666667 0.76666667 0.72\n",
      " 0.76       0.64666667 0.74666667 0.64       0.74666667 0.74\n",
      " 0.83809524 0.83809524 0.83809524 0.80952381 0.80952381 0.79206349\n",
      " 0.80952381 0.79206349 0.79206349 0.83174603 0.83174603 0.83174603\n",
      " 0.83174603 0.83174603 0.83492063 0.83492063 0.83174603 0.83492063\n",
      " 0.83492063 0.86349206 0.85238095 0.82063492 0.85238095 0.86349206\n",
      " 0.83492063 0.83492063 0.82063492 0.83492063 0.83492063 0.86349206\n",
      " 0.85238095 0.82063492 0.83492063 0.84126984 0.84126984 0.84126984\n",
      " 0.82380952 0.82380952 0.84603175 0.84603175 0.82380952 0.84603175\n",
      " 0.84603175 0.84603175 0.84603175 0.81746032 0.81746032 0.81746032\n",
      " 0.8047619  0.8047619  0.8047619  0.82380952 0.82380952 0.82380952\n",
      " 0.85238095 0.85238095 0.85238095 0.83492063 0.83492063 0.83492063\n",
      " 0.83809524 0.83492063 0.83492063 0.85238095 0.85238095 0.85238095\n",
      " 0.87777778 0.83492063 0.83809524 0.87777778 0.87777778 0.83809524\n",
      " 0.82698413 0.82698413 0.82698413 0.85238095 0.85238095 0.85238095\n",
      " 0.78571429 0.78571429 0.78571429 0.78571429 0.78571429 0.78571429\n",
      " 0.8015873  0.8047619  0.81111111 0.81111111 0.8047619  0.81111111\n",
      " 0.82627451 0.8145098  0.82627451 0.85568627 0.85568627 0.84039216\n",
      " 0.84627451 0.84039216 0.84627451 0.84627451 0.85568627 0.84039216\n",
      " 0.84470588 0.84470588 0.84470588 0.81372549 0.81372549 0.81372549\n",
      " 0.86666667 0.86666667 0.86666667 0.84392157 0.84392157 0.84392157\n",
      " 0.84392157 0.84392157 0.84392157 0.81960784 0.81960784 0.81960784\n",
      " 0.86666667 0.86666667 0.86666667 0.84980392 0.8372549  0.8372549\n",
      " 0.8372549  0.84980392 0.84980392 0.8372549  0.8372549  0.8372549\n",
      " 0.86235294 0.86235294 0.86235294 0.8547619  0.8547619  0.86587302\n",
      " 0.86587302 0.86587302 0.8484127  0.8484127  0.8484127  0.85753968\n",
      " 0.85753968 0.85753968 0.85753968 0.85753968 0.85753968 0.86587302\n",
      " 0.86587302 0.86587302 0.85873016 0.85873016 0.8531746  0.8531746\n",
      " 0.8531746  0.85873016 0.88245657 0.88245657 0.88245657 0.87768534\n",
      " 0.87768534 0.87768534 0.88096403 0.88230976 0.88230976 0.88230976\n",
      " 0.88096403 0.88096403]\n",
      "  warnings.warn(\n",
      "E:\\New folder\\lib\\site-packages\\sklearn\\model_selection\\_search.py:969: UserWarning: One or more of the train scores are non-finite: [1.         1.         1.         1.         0.9        1.\n",
      " 0.93333333 1.         0.86349206 1.         0.88095238 1.\n",
      " 0.82380952 1.         0.82380952 1.         0.82063492 1.\n",
      " 0.81269841 1.         0.85714286 1.         0.82539683 1.\n",
      " 0.6984127  1.         0.72380952 1.         0.79047619 1.\n",
      " 0.76190476 1.         0.67777778 1.         0.72380952 1.\n",
      " 0.72539683 1.         0.77301587 1.         0.66984127 1.\n",
      " 0.66349206 1.         0.68253968 1.         0.71269841 1.\n",
      " 0.62380952 1.         0.60634921 1.         0.71904762 1.\n",
      " 0.66984127 1.         0.5        1.         0.5        1.\n",
      " 0.5        1.         0.5        1.                nan        nan\n",
      "        nan        nan        nan        nan        nan        nan\n",
      "        nan        nan        nan        nan        nan        nan\n",
      "        nan        nan        nan        nan        nan        nan\n",
      "        nan        nan        nan        nan        nan        nan\n",
      "        nan        nan        nan        nan        nan        nan\n",
      "        nan        nan        nan        nan        nan        nan\n",
      "        nan        nan        nan        nan        nan        nan\n",
      "        nan        nan        nan        nan        nan        nan\n",
      "        nan        nan        nan        nan        nan        nan\n",
      " 1.         1.         1.         1.         0.9        1.\n",
      " 0.93333333 1.         0.86349206 1.         0.88095238 1.\n",
      " 0.82380952 1.         0.82380952 1.         0.82063492 1.\n",
      " 0.81269841 1.         0.85714286 1.         0.82539683 1.\n",
      " 0.6984127  1.         0.72380952 1.         0.79047619 1.\n",
      " 0.76190476 1.         0.67777778 1.         0.72380952 1.\n",
      " 0.72539683 1.         0.77301587 1.         0.66984127 1.\n",
      " 0.66349206 1.         0.68253968 1.         0.71269841 1.\n",
      " 0.62380952 1.         0.60634921 1.         0.71904762 1.\n",
      " 0.66984127 1.         0.5        1.         0.5        1.\n",
      " 0.5        1.         0.5        1.                nan        nan\n",
      "        nan        nan        nan        nan        nan        nan\n",
      "        nan        nan        nan        nan        nan        nan\n",
      "        nan        nan        nan        nan        nan        nan\n",
      "        nan        nan        nan        nan        nan        nan\n",
      "        nan        nan        nan        nan        nan        nan\n",
      "        nan        nan        nan        nan        nan        nan\n",
      "        nan        nan        nan        nan        nan        nan\n",
      "        nan        nan        nan        nan        nan        nan\n",
      "        nan        nan        nan        nan        nan        nan\n",
      " 1.         1.         1.         1.         0.9        1.\n",
      " 0.93333333 1.         0.86349206 1.         0.88095238 1.\n",
      " 0.82380952 1.         0.82380952 1.         0.82063492 1.\n",
      " 0.81269841 1.         0.85714286 1.         0.82539683 1.\n",
      " 0.6984127  1.         0.72380952 1.         0.79047619 1.\n",
      " 0.76190476 1.         0.67777778 1.         0.72380952 1.\n",
      " 0.72539683 1.         0.77301587 1.         0.66984127 1.\n",
      " 0.66349206 1.         0.68253968 1.         0.71269841 1.\n",
      " 0.62380952 1.         0.60634921 1.         0.71904762 1.\n",
      " 0.66984127 1.         0.5        1.         0.5        1.\n",
      " 0.5        1.         0.5        1.                nan        nan\n",
      "        nan        nan        nan        nan        nan        nan\n",
      "        nan        nan        nan        nan        nan        nan\n",
      "        nan        nan        nan        nan        nan        nan\n",
      "        nan        nan        nan        nan        nan        nan\n",
      "        nan        nan        nan        nan        nan        nan\n",
      "        nan        nan        nan        nan        nan        nan\n",
      "        nan        nan        nan        nan        nan        nan\n",
      "        nan        nan        nan        nan        nan        nan\n",
      "        nan        nan        nan        nan        nan        nan\n",
      " 1.         1.         1.         1.         0.81882353 1.\n",
      " 0.81882353 1.         1.         1.         0.81882353 1.\n",
      " 1.         1.         1.         0.6972549  1.         0.60901961\n",
      " 1.         0.57411765 1.         0.53333333 1.         0.62078431\n",
      " 1.         0.54156863 1.         0.52666667 1.         0.50666667\n",
      " 1.         0.54078431 1.         0.54745098 1.         0.5\n",
      " 1.         0.56078431 1.         0.62901961 1.         0.79019608\n",
      " 1.         0.75215686 1.         0.7254902  1.         0.77529412\n",
      " 0.69921569 1.         0.67803922 1.         0.78941176 0.67803922\n",
      " 0.72117647 1.         0.68352941 1.         0.67137255 1.\n",
      " 0.59803922 1.         0.71372549 1.         0.6654902  1.\n",
      " 1.         1.         1.         1.         0.71372549 1.\n",
      " 0.59803922 1.         0.67137255 1.         0.68352941 1.\n",
      " 0.72117647 1.         0.6654902  0.67803922 0.67803922 1.\n",
      " 0.69921569 1.         0.77529412 1.         0.5        0.7254902\n",
      " 1.         0.75215686 1.         1.         0.78941176 1.\n",
      " 1.         0.62078431 1.         0.54156863 1.         0.52666667\n",
      " 1.         0.50666667 1.         0.54078431 1.         0.54745098\n",
      " 0.62901961 1.         1.         0.5        1.         1.\n",
      " 0.57411765 1.         0.60901961 1.         0.6972549  1.\n",
      " 0.56078431 0.5        1.         0.79019608 1.         1.\n",
      " 0.60901961 1.         0.57411765 1.         0.53333333 1.\n",
      " 0.62078431 1.         0.54156863 1.         0.6972549  0.52666667\n",
      " 0.50666667 0.53333333 0.54078431 1.         0.54745098 1.\n",
      " 0.5        1.         0.5        1.         0.79019608 1.\n",
      " 1.         0.56078431 1.         0.75215686 1.         0.7254902\n",
      " 1.         0.77529412 1.         0.69921569 1.         0.67803922\n",
      " 1.         0.67803922 1.         0.72117647 1.         0.68352941\n",
      " 1.         0.67137255 1.         0.59803922 1.         0.71372549\n",
      " 1.         0.6654902  1.         0.62901961 0.78941176 1.\n",
      " 1.         1.         1.         1.         1.         1.\n",
      " 1.         1.         1.         1.         1.         1.\n",
      " 1.         1.         1.         1.         1.         1.\n",
      " 1.         1.         0.84729064 1.         0.84729064 1.\n",
      " 1.         1.         1.         1.         1.         1.\n",
      " 0.84729064 1.         1.         0.85014778 0.85014778 0.85014778\n",
      " 0.84955665 0.84955665 1.         1.         0.84955665 1.\n",
      " 1.         1.         1.         1.         1.         1.\n",
      " 0.82610837 0.82610837 0.82610837 1.         1.         1.\n",
      " 1.         1.         1.         1.         1.         1.\n",
      " 1.         1.         1.         1.         1.         1.\n",
      " 1.         1.         1.         1.         1.         1.\n",
      " 1.         1.         1.         1.         1.         1.\n",
      " 0.91330049 0.91330049 0.91330049 1.         1.         1.\n",
      " 1.         1.         1.         1.         1.         1.\n",
      " 1.         1.         1.         1.         1.         1.\n",
      " 1.         1.         1.         1.         1.         1.\n",
      " 1.         1.         1.         1.         1.         1.\n",
      " 0.85931174 0.85931174 0.85931174 1.         1.         1.\n",
      " 1.         1.         1.         1.         1.         1.\n",
      " 1.         1.         1.         1.         0.86619433 0.86619433\n",
      " 0.86619433 1.         1.         1.         1.         1.\n",
      " 1.         1.         1.         1.         1.         1.\n",
      " 1.         1.         1.         1.         1.         1.\n",
      " 1.         1.         1.         1.         1.         1.\n",
      " 1.         1.         1.         1.         0.89156102 0.89156102\n",
      " 0.89156102 1.         1.         1.         1.         1.\n",
      " 1.         1.         1.         1.         1.         1.\n",
      " 1.         1.        ]\n",
      "  warnings.warn(\n",
      "E:\\New folder\\lib\\site-packages\\sklearn\\model_selection\\_search.py:969: UserWarning: One or more of the test scores are non-finite: [0.83333333 0.83333333 0.9        0.9        0.73333333 0.83333333\n",
      " 0.73333333 0.9        0.7        0.8        0.83333333 0.83333333\n",
      " 0.83333333 0.9        0.86666667 0.93333333 1.         1.\n",
      " 0.96666667 0.96666667 0.93333333 0.96666667 0.93333333 0.96666667\n",
      " 0.9        0.9        0.76666667 0.76666667 0.9        1.\n",
      " 0.93333333 0.96666667 0.76666667 0.9        0.86666667 0.86666667\n",
      " 0.73333333 0.8        0.86666667 0.86666667 0.66666667 0.86666667\n",
      " 0.6        0.7        0.7        0.8        0.63333333 0.66666667\n",
      " 0.53333333 0.76666667 0.53333333 0.53333333 0.7        0.8\n",
      " 0.8        0.86666667 0.5        0.9        0.5        0.6\n",
      " 0.5        0.6        0.5        0.6               nan        nan\n",
      "        nan        nan        nan        nan        nan        nan\n",
      "        nan        nan        nan        nan        nan        nan\n",
      "        nan        nan        nan        nan        nan        nan\n",
      "        nan        nan        nan        nan        nan        nan\n",
      "        nan        nan        nan        nan        nan        nan\n",
      "        nan        nan        nan        nan        nan        nan\n",
      "        nan        nan        nan        nan        nan        nan\n",
      "        nan        nan        nan        nan        nan        nan\n",
      "        nan        nan        nan        nan        nan        nan\n",
      " 0.83333333 0.83333333 0.9        0.9        0.73333333 0.83333333\n",
      " 0.73333333 0.9        0.7        0.8        0.83333333 0.83333333\n",
      " 0.83333333 0.9        0.86666667 0.93333333 1.         1.\n",
      " 0.96666667 0.96666667 0.93333333 0.96666667 0.93333333 0.96666667\n",
      " 0.9        0.9        0.76666667 0.76666667 0.9        1.\n",
      " 0.93333333 0.96666667 0.76666667 0.9        0.86666667 0.86666667\n",
      " 0.73333333 0.8        0.86666667 0.86666667 0.66666667 0.86666667\n",
      " 0.6        0.7        0.7        0.8        0.63333333 0.66666667\n",
      " 0.53333333 0.76666667 0.53333333 0.53333333 0.7        0.8\n",
      " 0.8        0.86666667 0.5        0.9        0.5        0.6\n",
      " 0.5        0.6        0.5        0.6               nan        nan\n",
      "        nan        nan        nan        nan        nan        nan\n",
      "        nan        nan        nan        nan        nan        nan\n",
      "        nan        nan        nan        nan        nan        nan\n",
      "        nan        nan        nan        nan        nan        nan\n",
      "        nan        nan        nan        nan        nan        nan\n",
      "        nan        nan        nan        nan        nan        nan\n",
      "        nan        nan        nan        nan        nan        nan\n",
      "        nan        nan        nan        nan        nan        nan\n",
      "        nan        nan        nan        nan        nan        nan\n",
      " 0.83333333 0.83333333 0.9        0.9        0.73333333 0.83333333\n",
      " 0.73333333 0.9        0.7        0.8        0.83333333 0.83333333\n",
      " 0.83333333 0.9        0.86666667 0.93333333 1.         1.\n",
      " 0.96666667 0.96666667 0.93333333 0.96666667 0.93333333 0.96666667\n",
      " 0.9        0.9        0.76666667 0.76666667 0.9        1.\n",
      " 0.93333333 0.96666667 0.76666667 0.9        0.86666667 0.86666667\n",
      " 0.73333333 0.8        0.86666667 0.86666667 0.66666667 0.86666667\n",
      " 0.6        0.7        0.7        0.8        0.63333333 0.66666667\n",
      " 0.53333333 0.76666667 0.53333333 0.53333333 0.7        0.8\n",
      " 0.8        0.86666667 0.5        0.9        0.5        0.6\n",
      " 0.5        0.6        0.5        0.6               nan        nan\n",
      "        nan        nan        nan        nan        nan        nan\n",
      "        nan        nan        nan        nan        nan        nan\n",
      "        nan        nan        nan        nan        nan        nan\n",
      "        nan        nan        nan        nan        nan        nan\n",
      "        nan        nan        nan        nan        nan        nan\n",
      "        nan        nan        nan        nan        nan        nan\n",
      "        nan        nan        nan        nan        nan        nan\n",
      "        nan        nan        nan        nan        nan        nan\n",
      "        nan        nan        nan        nan        nan        nan\n",
      " 0.88       0.9        0.92       0.92       0.86       0.88\n",
      " 0.86       0.92       0.92       0.88       0.86       0.88\n",
      " 0.74       0.8        0.76666667 0.64666667 0.7        0.62666667\n",
      " 0.74666667 0.62       0.72       0.56       0.74       0.62666667\n",
      " 0.7        0.56666667 0.68666667 0.56       0.74       0.50666667\n",
      " 0.66666667 0.6        0.74       0.52666667 0.70666667 0.5\n",
      " 0.78       0.56666667 0.74       0.64       0.74666667 0.76666667\n",
      " 0.80666667 0.68       0.8        0.72       0.82       0.76\n",
      " 0.74666667 0.74666667 0.62       0.8        0.74666667 0.64666667\n",
      " 0.70666667 0.8        0.68666667 0.74666667 0.66       0.76\n",
      " 0.58666667 0.76666667 0.72       0.76       0.64666667 0.72666667\n",
      " 0.78       0.66666667 0.8        0.76       0.72       0.76666667\n",
      " 0.58666667 0.76       0.66       0.74666667 0.68666667 0.8\n",
      " 0.70666667 0.72666667 0.64666667 0.64666667 0.62       0.74666667\n",
      " 0.74666667 0.78       0.76       0.82       0.5        0.72\n",
      " 0.8        0.68       0.80666667 0.8        0.74666667 0.74666667\n",
      " 0.74       0.62666667 0.7        0.56666667 0.68666667 0.56\n",
      " 0.74       0.50666667 0.66666667 0.6        0.74       0.52666667\n",
      " 0.64       0.70666667 0.78       0.5        0.74       0.72\n",
      " 0.62       0.74666667 0.62666667 0.7        0.64666667 0.76666667\n",
      " 0.56666667 0.5        0.8        0.76666667 0.80666667 0.7\n",
      " 0.62666667 0.74666667 0.62       0.72       0.56       0.74\n",
      " 0.62666667 0.7        0.56666667 0.68666667 0.64666667 0.56\n",
      " 0.50666667 0.56       0.6        0.74       0.52666667 0.70666667\n",
      " 0.5        0.78       0.5        0.74       0.76666667 0.74\n",
      " 0.76666667 0.56666667 0.74       0.68       0.8        0.72\n",
      " 0.82       0.76       0.78       0.74666667 0.74666667 0.62\n",
      " 0.8        0.64666667 0.72666667 0.70666667 0.8        0.68666667\n",
      " 0.74666667 0.66       0.76       0.58666667 0.76666667 0.72\n",
      " 0.76       0.64666667 0.74666667 0.64       0.74666667 0.74\n",
      " 0.83809524 0.83809524 0.83809524 0.80952381 0.80952381 0.79206349\n",
      " 0.80952381 0.79206349 0.79206349 0.83174603 0.83174603 0.83174603\n",
      " 0.83174603 0.83174603 0.83492063 0.83492063 0.83174603 0.83492063\n",
      " 0.83492063 0.86349206 0.85238095 0.82063492 0.85238095 0.86349206\n",
      " 0.83492063 0.83492063 0.82063492 0.83492063 0.83492063 0.86349206\n",
      " 0.85238095 0.82063492 0.83492063 0.84126984 0.84126984 0.84126984\n",
      " 0.82380952 0.82380952 0.84603175 0.84603175 0.82380952 0.84603175\n",
      " 0.84603175 0.84603175 0.84603175 0.81746032 0.81746032 0.81746032\n",
      " 0.8047619  0.8047619  0.8047619  0.82380952 0.82380952 0.82380952\n",
      " 0.85238095 0.85238095 0.85238095 0.83492063 0.83492063 0.83492063\n",
      " 0.83809524 0.83492063 0.83492063 0.85238095 0.85238095 0.85238095\n",
      " 0.87777778 0.83492063 0.83809524 0.87777778 0.87777778 0.83809524\n",
      " 0.82698413 0.82698413 0.82698413 0.85238095 0.85238095 0.85238095\n",
      " 0.78571429 0.78571429 0.78571429 0.78571429 0.78571429 0.78571429\n",
      " 0.8015873  0.8047619  0.81111111 0.81111111 0.8047619  0.81111111\n",
      " 0.82627451 0.8145098  0.82627451 0.85568627 0.85568627 0.84039216\n",
      " 0.84627451 0.84039216 0.84627451 0.84627451 0.85568627 0.84039216\n",
      " 0.84470588 0.84470588 0.84470588 0.81372549 0.81372549 0.81372549\n",
      " 0.86666667 0.86666667 0.86666667 0.84392157 0.84392157 0.84392157\n",
      " 0.84392157 0.84392157 0.84392157 0.81960784 0.81960784 0.81960784\n",
      " 0.86666667 0.86666667 0.86666667 0.84980392 0.8372549  0.8372549\n",
      " 0.8372549  0.84980392 0.84980392 0.8372549  0.8372549  0.8372549\n",
      " 0.86235294 0.86235294 0.86235294 0.8547619  0.8547619  0.86587302\n",
      " 0.86587302 0.86587302 0.8484127  0.8484127  0.8484127  0.85753968\n",
      " 0.85753968 0.85753968 0.85753968 0.85753968 0.85753968 0.86587302\n",
      " 0.86587302 0.86587302 0.85873016 0.85873016 0.8531746  0.8531746\n",
      " 0.8531746  0.85873016 0.88245657 0.88245657 0.88245657 0.87768534\n",
      " 0.87768534 0.87768534 0.88096403 0.88230976 0.88230976 0.88230976\n",
      " 0.88096403 0.88096403 0.89305786 0.89305786 0.89305786 0.89719609\n",
      " 0.89719609 0.89719609]\n",
      "  warnings.warn(\n",
      "E:\\New folder\\lib\\site-packages\\sklearn\\model_selection\\_search.py:969: UserWarning: One or more of the train scores are non-finite: [1.         1.         1.         1.         0.9        1.\n",
      " 0.93333333 1.         0.86349206 1.         0.88095238 1.\n",
      " 0.82380952 1.         0.82380952 1.         0.82063492 1.\n",
      " 0.81269841 1.         0.85714286 1.         0.82539683 1.\n",
      " 0.6984127  1.         0.72380952 1.         0.79047619 1.\n",
      " 0.76190476 1.         0.67777778 1.         0.72380952 1.\n",
      " 0.72539683 1.         0.77301587 1.         0.66984127 1.\n",
      " 0.66349206 1.         0.68253968 1.         0.71269841 1.\n",
      " 0.62380952 1.         0.60634921 1.         0.71904762 1.\n",
      " 0.66984127 1.         0.5        1.         0.5        1.\n",
      " 0.5        1.         0.5        1.                nan        nan\n",
      "        nan        nan        nan        nan        nan        nan\n",
      "        nan        nan        nan        nan        nan        nan\n",
      "        nan        nan        nan        nan        nan        nan\n",
      "        nan        nan        nan        nan        nan        nan\n",
      "        nan        nan        nan        nan        nan        nan\n",
      "        nan        nan        nan        nan        nan        nan\n",
      "        nan        nan        nan        nan        nan        nan\n",
      "        nan        nan        nan        nan        nan        nan\n",
      "        nan        nan        nan        nan        nan        nan\n",
      " 1.         1.         1.         1.         0.9        1.\n",
      " 0.93333333 1.         0.86349206 1.         0.88095238 1.\n",
      " 0.82380952 1.         0.82380952 1.         0.82063492 1.\n",
      " 0.81269841 1.         0.85714286 1.         0.82539683 1.\n",
      " 0.6984127  1.         0.72380952 1.         0.79047619 1.\n",
      " 0.76190476 1.         0.67777778 1.         0.72380952 1.\n",
      " 0.72539683 1.         0.77301587 1.         0.66984127 1.\n",
      " 0.66349206 1.         0.68253968 1.         0.71269841 1.\n",
      " 0.62380952 1.         0.60634921 1.         0.71904762 1.\n",
      " 0.66984127 1.         0.5        1.         0.5        1.\n",
      " 0.5        1.         0.5        1.                nan        nan\n",
      "        nan        nan        nan        nan        nan        nan\n",
      "        nan        nan        nan        nan        nan        nan\n",
      "        nan        nan        nan        nan        nan        nan\n",
      "        nan        nan        nan        nan        nan        nan\n",
      "        nan        nan        nan        nan        nan        nan\n",
      "        nan        nan        nan        nan        nan        nan\n",
      "        nan        nan        nan        nan        nan        nan\n",
      "        nan        nan        nan        nan        nan        nan\n",
      "        nan        nan        nan        nan        nan        nan\n",
      " 1.         1.         1.         1.         0.9        1.\n",
      " 0.93333333 1.         0.86349206 1.         0.88095238 1.\n",
      " 0.82380952 1.         0.82380952 1.         0.82063492 1.\n",
      " 0.81269841 1.         0.85714286 1.         0.82539683 1.\n",
      " 0.6984127  1.         0.72380952 1.         0.79047619 1.\n",
      " 0.76190476 1.         0.67777778 1.         0.72380952 1.\n",
      " 0.72539683 1.         0.77301587 1.         0.66984127 1.\n",
      " 0.66349206 1.         0.68253968 1.         0.71269841 1.\n",
      " 0.62380952 1.         0.60634921 1.         0.71904762 1.\n",
      " 0.66984127 1.         0.5        1.         0.5        1.\n",
      " 0.5        1.         0.5        1.                nan        nan\n",
      "        nan        nan        nan        nan        nan        nan\n",
      "        nan        nan        nan        nan        nan        nan\n",
      "        nan        nan        nan        nan        nan        nan\n",
      "        nan        nan        nan        nan        nan        nan\n",
      "        nan        nan        nan        nan        nan        nan\n",
      "        nan        nan        nan        nan        nan        nan\n",
      "        nan        nan        nan        nan        nan        nan\n",
      "        nan        nan        nan        nan        nan        nan\n",
      "        nan        nan        nan        nan        nan        nan\n",
      " 1.         1.         1.         1.         0.81882353 1.\n",
      " 0.81882353 1.         1.         1.         0.81882353 1.\n",
      " 1.         1.         1.         0.6972549  1.         0.60901961\n",
      " 1.         0.57411765 1.         0.53333333 1.         0.62078431\n",
      " 1.         0.54156863 1.         0.52666667 1.         0.50666667\n",
      " 1.         0.54078431 1.         0.54745098 1.         0.5\n",
      " 1.         0.56078431 1.         0.62901961 1.         0.79019608\n",
      " 1.         0.75215686 1.         0.7254902  1.         0.77529412\n",
      " 0.69921569 1.         0.67803922 1.         0.78941176 0.67803922\n",
      " 0.72117647 1.         0.68352941 1.         0.67137255 1.\n",
      " 0.59803922 1.         0.71372549 1.         0.6654902  1.\n",
      " 1.         1.         1.         1.         0.71372549 1.\n",
      " 0.59803922 1.         0.67137255 1.         0.68352941 1.\n",
      " 0.72117647 1.         0.6654902  0.67803922 0.67803922 1.\n",
      " 0.69921569 1.         0.77529412 1.         0.5        0.7254902\n",
      " 1.         0.75215686 1.         1.         0.78941176 1.\n",
      " 1.         0.62078431 1.         0.54156863 1.         0.52666667\n",
      " 1.         0.50666667 1.         0.54078431 1.         0.54745098\n",
      " 0.62901961 1.         1.         0.5        1.         1.\n",
      " 0.57411765 1.         0.60901961 1.         0.6972549  1.\n",
      " 0.56078431 0.5        1.         0.79019608 1.         1.\n",
      " 0.60901961 1.         0.57411765 1.         0.53333333 1.\n",
      " 0.62078431 1.         0.54156863 1.         0.6972549  0.52666667\n",
      " 0.50666667 0.53333333 0.54078431 1.         0.54745098 1.\n",
      " 0.5        1.         0.5        1.         0.79019608 1.\n",
      " 1.         0.56078431 1.         0.75215686 1.         0.7254902\n",
      " 1.         0.77529412 1.         0.69921569 1.         0.67803922\n",
      " 1.         0.67803922 1.         0.72117647 1.         0.68352941\n",
      " 1.         0.67137255 1.         0.59803922 1.         0.71372549\n",
      " 1.         0.6654902  1.         0.62901961 0.78941176 1.\n",
      " 1.         1.         1.         1.         1.         1.\n",
      " 1.         1.         1.         1.         1.         1.\n",
      " 1.         1.         1.         1.         1.         1.\n",
      " 1.         1.         0.84729064 1.         0.84729064 1.\n",
      " 1.         1.         1.         1.         1.         1.\n",
      " 0.84729064 1.         1.         0.85014778 0.85014778 0.85014778\n",
      " 0.84955665 0.84955665 1.         1.         0.84955665 1.\n",
      " 1.         1.         1.         1.         1.         1.\n",
      " 0.82610837 0.82610837 0.82610837 1.         1.         1.\n",
      " 1.         1.         1.         1.         1.         1.\n",
      " 1.         1.         1.         1.         1.         1.\n",
      " 1.         1.         1.         1.         1.         1.\n",
      " 1.         1.         1.         1.         1.         1.\n",
      " 0.91330049 0.91330049 0.91330049 1.         1.         1.\n",
      " 1.         1.         1.         1.         1.         1.\n",
      " 1.         1.         1.         1.         1.         1.\n",
      " 1.         1.         1.         1.         1.         1.\n",
      " 1.         1.         1.         1.         1.         1.\n",
      " 0.85931174 0.85931174 0.85931174 1.         1.         1.\n",
      " 1.         1.         1.         1.         1.         1.\n",
      " 1.         1.         1.         1.         0.86619433 0.86619433\n",
      " 0.86619433 1.         1.         1.         1.         1.\n",
      " 1.         1.         1.         1.         1.         1.\n",
      " 1.         1.         1.         1.         1.         1.\n",
      " 1.         1.         1.         1.         1.         1.\n",
      " 1.         1.         1.         1.         0.89156102 0.89156102\n",
      " 0.89156102 1.         1.         1.         1.         1.\n",
      " 1.         1.         1.         1.         1.         1.\n",
      " 1.         1.         1.         1.         1.         1.\n",
      " 1.         1.        ]\n",
      "  warnings.warn(\n",
      "E:\\New folder\\lib\\site-packages\\sklearn\\model_selection\\_search.py:969: UserWarning: One or more of the test scores are non-finite: [0.83333333 0.83333333 0.9        0.9        0.73333333 0.83333333\n",
      " 0.73333333 0.9        0.7        0.8        0.83333333 0.83333333\n",
      " 0.83333333 0.9        0.86666667 0.93333333 1.         1.\n",
      " 0.96666667 0.96666667 0.93333333 0.96666667 0.93333333 0.96666667\n",
      " 0.9        0.9        0.76666667 0.76666667 0.9        1.\n",
      " 0.93333333 0.96666667 0.76666667 0.9        0.86666667 0.86666667\n",
      " 0.73333333 0.8        0.86666667 0.86666667 0.66666667 0.86666667\n",
      " 0.6        0.7        0.7        0.8        0.63333333 0.66666667\n",
      " 0.53333333 0.76666667 0.53333333 0.53333333 0.7        0.8\n",
      " 0.8        0.86666667 0.5        0.9        0.5        0.6\n",
      " 0.5        0.6        0.5        0.6               nan        nan\n",
      "        nan        nan        nan        nan        nan        nan\n",
      "        nan        nan        nan        nan        nan        nan\n",
      "        nan        nan        nan        nan        nan        nan\n",
      "        nan        nan        nan        nan        nan        nan\n",
      "        nan        nan        nan        nan        nan        nan\n",
      "        nan        nan        nan        nan        nan        nan\n",
      "        nan        nan        nan        nan        nan        nan\n",
      "        nan        nan        nan        nan        nan        nan\n",
      "        nan        nan        nan        nan        nan        nan\n",
      " 0.83333333 0.83333333 0.9        0.9        0.73333333 0.83333333\n",
      " 0.73333333 0.9        0.7        0.8        0.83333333 0.83333333\n",
      " 0.83333333 0.9        0.86666667 0.93333333 1.         1.\n",
      " 0.96666667 0.96666667 0.93333333 0.96666667 0.93333333 0.96666667\n",
      " 0.9        0.9        0.76666667 0.76666667 0.9        1.\n",
      " 0.93333333 0.96666667 0.76666667 0.9        0.86666667 0.86666667\n",
      " 0.73333333 0.8        0.86666667 0.86666667 0.66666667 0.86666667\n",
      " 0.6        0.7        0.7        0.8        0.63333333 0.66666667\n",
      " 0.53333333 0.76666667 0.53333333 0.53333333 0.7        0.8\n",
      " 0.8        0.86666667 0.5        0.9        0.5        0.6\n",
      " 0.5        0.6        0.5        0.6               nan        nan\n",
      "        nan        nan        nan        nan        nan        nan\n",
      "        nan        nan        nan        nan        nan        nan\n",
      "        nan        nan        nan        nan        nan        nan\n",
      "        nan        nan        nan        nan        nan        nan\n",
      "        nan        nan        nan        nan        nan        nan\n",
      "        nan        nan        nan        nan        nan        nan\n",
      "        nan        nan        nan        nan        nan        nan\n",
      "        nan        nan        nan        nan        nan        nan\n",
      "        nan        nan        nan        nan        nan        nan\n",
      " 0.83333333 0.83333333 0.9        0.9        0.73333333 0.83333333\n",
      " 0.73333333 0.9        0.7        0.8        0.83333333 0.83333333\n",
      " 0.83333333 0.9        0.86666667 0.93333333 1.         1.\n",
      " 0.96666667 0.96666667 0.93333333 0.96666667 0.93333333 0.96666667\n",
      " 0.9        0.9        0.76666667 0.76666667 0.9        1.\n",
      " 0.93333333 0.96666667 0.76666667 0.9        0.86666667 0.86666667\n",
      " 0.73333333 0.8        0.86666667 0.86666667 0.66666667 0.86666667\n",
      " 0.6        0.7        0.7        0.8        0.63333333 0.66666667\n",
      " 0.53333333 0.76666667 0.53333333 0.53333333 0.7        0.8\n",
      " 0.8        0.86666667 0.5        0.9        0.5        0.6\n",
      " 0.5        0.6        0.5        0.6               nan        nan\n",
      "        nan        nan        nan        nan        nan        nan\n",
      "        nan        nan        nan        nan        nan        nan\n",
      "        nan        nan        nan        nan        nan        nan\n",
      "        nan        nan        nan        nan        nan        nan\n",
      "        nan        nan        nan        nan        nan        nan\n",
      "        nan        nan        nan        nan        nan        nan\n",
      "        nan        nan        nan        nan        nan        nan\n",
      "        nan        nan        nan        nan        nan        nan\n",
      "        nan        nan        nan        nan        nan        nan\n",
      " 0.88       0.9        0.92       0.92       0.86       0.88\n",
      " 0.86       0.92       0.92       0.88       0.86       0.88\n",
      " 0.74       0.8        0.76666667 0.64666667 0.7        0.62666667\n",
      " 0.74666667 0.62       0.72       0.56       0.74       0.62666667\n",
      " 0.7        0.56666667 0.68666667 0.56       0.74       0.50666667\n",
      " 0.66666667 0.6        0.74       0.52666667 0.70666667 0.5\n",
      " 0.78       0.56666667 0.74       0.64       0.74666667 0.76666667\n",
      " 0.80666667 0.68       0.8        0.72       0.82       0.76\n",
      " 0.74666667 0.74666667 0.62       0.8        0.74666667 0.64666667\n",
      " 0.70666667 0.8        0.68666667 0.74666667 0.66       0.76\n",
      " 0.58666667 0.76666667 0.72       0.76       0.64666667 0.72666667\n",
      " 0.78       0.66666667 0.8        0.76       0.72       0.76666667\n",
      " 0.58666667 0.76       0.66       0.74666667 0.68666667 0.8\n",
      " 0.70666667 0.72666667 0.64666667 0.64666667 0.62       0.74666667\n",
      " 0.74666667 0.78       0.76       0.82       0.5        0.72\n",
      " 0.8        0.68       0.80666667 0.8        0.74666667 0.74666667\n",
      " 0.74       0.62666667 0.7        0.56666667 0.68666667 0.56\n",
      " 0.74       0.50666667 0.66666667 0.6        0.74       0.52666667\n",
      " 0.64       0.70666667 0.78       0.5        0.74       0.72\n",
      " 0.62       0.74666667 0.62666667 0.7        0.64666667 0.76666667\n",
      " 0.56666667 0.5        0.8        0.76666667 0.80666667 0.7\n",
      " 0.62666667 0.74666667 0.62       0.72       0.56       0.74\n",
      " 0.62666667 0.7        0.56666667 0.68666667 0.64666667 0.56\n",
      " 0.50666667 0.56       0.6        0.74       0.52666667 0.70666667\n",
      " 0.5        0.78       0.5        0.74       0.76666667 0.74\n",
      " 0.76666667 0.56666667 0.74       0.68       0.8        0.72\n",
      " 0.82       0.76       0.78       0.74666667 0.74666667 0.62\n",
      " 0.8        0.64666667 0.72666667 0.70666667 0.8        0.68666667\n",
      " 0.74666667 0.66       0.76       0.58666667 0.76666667 0.72\n",
      " 0.76       0.64666667 0.74666667 0.64       0.74666667 0.74\n",
      " 0.83809524 0.83809524 0.83809524 0.80952381 0.80952381 0.79206349\n",
      " 0.80952381 0.79206349 0.79206349 0.83174603 0.83174603 0.83174603\n",
      " 0.83174603 0.83174603 0.83492063 0.83492063 0.83174603 0.83492063\n",
      " 0.83492063 0.86349206 0.85238095 0.82063492 0.85238095 0.86349206\n",
      " 0.83492063 0.83492063 0.82063492 0.83492063 0.83492063 0.86349206\n",
      " 0.85238095 0.82063492 0.83492063 0.84126984 0.84126984 0.84126984\n",
      " 0.82380952 0.82380952 0.84603175 0.84603175 0.82380952 0.84603175\n",
      " 0.84603175 0.84603175 0.84603175 0.81746032 0.81746032 0.81746032\n",
      " 0.8047619  0.8047619  0.8047619  0.82380952 0.82380952 0.82380952\n",
      " 0.85238095 0.85238095 0.85238095 0.83492063 0.83492063 0.83492063\n",
      " 0.83809524 0.83492063 0.83492063 0.85238095 0.85238095 0.85238095\n",
      " 0.87777778 0.83492063 0.83809524 0.87777778 0.87777778 0.83809524\n",
      " 0.82698413 0.82698413 0.82698413 0.85238095 0.85238095 0.85238095\n",
      " 0.78571429 0.78571429 0.78571429 0.78571429 0.78571429 0.78571429\n",
      " 0.8015873  0.8047619  0.81111111 0.81111111 0.8047619  0.81111111\n",
      " 0.82627451 0.8145098  0.82627451 0.85568627 0.85568627 0.84039216\n",
      " 0.84627451 0.84039216 0.84627451 0.84627451 0.85568627 0.84039216\n",
      " 0.84470588 0.84470588 0.84470588 0.81372549 0.81372549 0.81372549\n",
      " 0.86666667 0.86666667 0.86666667 0.84392157 0.84392157 0.84392157\n",
      " 0.84392157 0.84392157 0.84392157 0.81960784 0.81960784 0.81960784\n",
      " 0.86666667 0.86666667 0.86666667 0.84980392 0.8372549  0.8372549\n",
      " 0.8372549  0.84980392 0.84980392 0.8372549  0.8372549  0.8372549\n",
      " 0.86235294 0.86235294 0.86235294 0.8547619  0.8547619  0.86587302\n",
      " 0.86587302 0.86587302 0.8484127  0.8484127  0.8484127  0.85753968\n",
      " 0.85753968 0.85753968 0.85753968 0.85753968 0.85753968 0.86587302\n",
      " 0.86587302 0.86587302 0.85873016 0.85873016 0.8531746  0.8531746\n",
      " 0.8531746  0.85873016 0.88245657 0.88245657 0.88245657 0.87768534\n",
      " 0.87768534 0.87768534 0.88096403 0.88230976 0.88230976 0.88230976\n",
      " 0.88096403 0.88096403 0.89305786 0.89305786 0.89305786 0.89719609\n",
      " 0.89719609 0.89719609 0.90492395 0.90492395 0.90492395]\n",
      "  warnings.warn(\n",
      "E:\\New folder\\lib\\site-packages\\sklearn\\model_selection\\_search.py:969: UserWarning: One or more of the train scores are non-finite: [1.         1.         1.         1.         0.9        1.\n",
      " 0.93333333 1.         0.86349206 1.         0.88095238 1.\n",
      " 0.82380952 1.         0.82380952 1.         0.82063492 1.\n",
      " 0.81269841 1.         0.85714286 1.         0.82539683 1.\n",
      " 0.6984127  1.         0.72380952 1.         0.79047619 1.\n",
      " 0.76190476 1.         0.67777778 1.         0.72380952 1.\n",
      " 0.72539683 1.         0.77301587 1.         0.66984127 1.\n",
      " 0.66349206 1.         0.68253968 1.         0.71269841 1.\n",
      " 0.62380952 1.         0.60634921 1.         0.71904762 1.\n",
      " 0.66984127 1.         0.5        1.         0.5        1.\n",
      " 0.5        1.         0.5        1.                nan        nan\n",
      "        nan        nan        nan        nan        nan        nan\n",
      "        nan        nan        nan        nan        nan        nan\n",
      "        nan        nan        nan        nan        nan        nan\n",
      "        nan        nan        nan        nan        nan        nan\n",
      "        nan        nan        nan        nan        nan        nan\n",
      "        nan        nan        nan        nan        nan        nan\n",
      "        nan        nan        nan        nan        nan        nan\n",
      "        nan        nan        nan        nan        nan        nan\n",
      "        nan        nan        nan        nan        nan        nan\n",
      " 1.         1.         1.         1.         0.9        1.\n",
      " 0.93333333 1.         0.86349206 1.         0.88095238 1.\n",
      " 0.82380952 1.         0.82380952 1.         0.82063492 1.\n",
      " 0.81269841 1.         0.85714286 1.         0.82539683 1.\n",
      " 0.6984127  1.         0.72380952 1.         0.79047619 1.\n",
      " 0.76190476 1.         0.67777778 1.         0.72380952 1.\n",
      " 0.72539683 1.         0.77301587 1.         0.66984127 1.\n",
      " 0.66349206 1.         0.68253968 1.         0.71269841 1.\n",
      " 0.62380952 1.         0.60634921 1.         0.71904762 1.\n",
      " 0.66984127 1.         0.5        1.         0.5        1.\n",
      " 0.5        1.         0.5        1.                nan        nan\n",
      "        nan        nan        nan        nan        nan        nan\n",
      "        nan        nan        nan        nan        nan        nan\n",
      "        nan        nan        nan        nan        nan        nan\n",
      "        nan        nan        nan        nan        nan        nan\n",
      "        nan        nan        nan        nan        nan        nan\n",
      "        nan        nan        nan        nan        nan        nan\n",
      "        nan        nan        nan        nan        nan        nan\n",
      "        nan        nan        nan        nan        nan        nan\n",
      "        nan        nan        nan        nan        nan        nan\n",
      " 1.         1.         1.         1.         0.9        1.\n",
      " 0.93333333 1.         0.86349206 1.         0.88095238 1.\n",
      " 0.82380952 1.         0.82380952 1.         0.82063492 1.\n",
      " 0.81269841 1.         0.85714286 1.         0.82539683 1.\n",
      " 0.6984127  1.         0.72380952 1.         0.79047619 1.\n",
      " 0.76190476 1.         0.67777778 1.         0.72380952 1.\n",
      " 0.72539683 1.         0.77301587 1.         0.66984127 1.\n",
      " 0.66349206 1.         0.68253968 1.         0.71269841 1.\n",
      " 0.62380952 1.         0.60634921 1.         0.71904762 1.\n",
      " 0.66984127 1.         0.5        1.         0.5        1.\n",
      " 0.5        1.         0.5        1.                nan        nan\n",
      "        nan        nan        nan        nan        nan        nan\n",
      "        nan        nan        nan        nan        nan        nan\n",
      "        nan        nan        nan        nan        nan        nan\n",
      "        nan        nan        nan        nan        nan        nan\n",
      "        nan        nan        nan        nan        nan        nan\n",
      "        nan        nan        nan        nan        nan        nan\n",
      "        nan        nan        nan        nan        nan        nan\n",
      "        nan        nan        nan        nan        nan        nan\n",
      "        nan        nan        nan        nan        nan        nan\n",
      " 1.         1.         1.         1.         0.81882353 1.\n",
      " 0.81882353 1.         1.         1.         0.81882353 1.\n",
      " 1.         1.         1.         0.6972549  1.         0.60901961\n",
      " 1.         0.57411765 1.         0.53333333 1.         0.62078431\n",
      " 1.         0.54156863 1.         0.52666667 1.         0.50666667\n",
      " 1.         0.54078431 1.         0.54745098 1.         0.5\n",
      " 1.         0.56078431 1.         0.62901961 1.         0.79019608\n",
      " 1.         0.75215686 1.         0.7254902  1.         0.77529412\n",
      " 0.69921569 1.         0.67803922 1.         0.78941176 0.67803922\n",
      " 0.72117647 1.         0.68352941 1.         0.67137255 1.\n",
      " 0.59803922 1.         0.71372549 1.         0.6654902  1.\n",
      " 1.         1.         1.         1.         0.71372549 1.\n",
      " 0.59803922 1.         0.67137255 1.         0.68352941 1.\n",
      " 0.72117647 1.         0.6654902  0.67803922 0.67803922 1.\n",
      " 0.69921569 1.         0.77529412 1.         0.5        0.7254902\n",
      " 1.         0.75215686 1.         1.         0.78941176 1.\n",
      " 1.         0.62078431 1.         0.54156863 1.         0.52666667\n",
      " 1.         0.50666667 1.         0.54078431 1.         0.54745098\n",
      " 0.62901961 1.         1.         0.5        1.         1.\n",
      " 0.57411765 1.         0.60901961 1.         0.6972549  1.\n",
      " 0.56078431 0.5        1.         0.79019608 1.         1.\n",
      " 0.60901961 1.         0.57411765 1.         0.53333333 1.\n",
      " 0.62078431 1.         0.54156863 1.         0.6972549  0.52666667\n",
      " 0.50666667 0.53333333 0.54078431 1.         0.54745098 1.\n",
      " 0.5        1.         0.5        1.         0.79019608 1.\n",
      " 1.         0.56078431 1.         0.75215686 1.         0.7254902\n",
      " 1.         0.77529412 1.         0.69921569 1.         0.67803922\n",
      " 1.         0.67803922 1.         0.72117647 1.         0.68352941\n",
      " 1.         0.67137255 1.         0.59803922 1.         0.71372549\n",
      " 1.         0.6654902  1.         0.62901961 0.78941176 1.\n",
      " 1.         1.         1.         1.         1.         1.\n",
      " 1.         1.         1.         1.         1.         1.\n",
      " 1.         1.         1.         1.         1.         1.\n",
      " 1.         1.         0.84729064 1.         0.84729064 1.\n",
      " 1.         1.         1.         1.         1.         1.\n",
      " 0.84729064 1.         1.         0.85014778 0.85014778 0.85014778\n",
      " 0.84955665 0.84955665 1.         1.         0.84955665 1.\n",
      " 1.         1.         1.         1.         1.         1.\n",
      " 0.82610837 0.82610837 0.82610837 1.         1.         1.\n",
      " 1.         1.         1.         1.         1.         1.\n",
      " 1.         1.         1.         1.         1.         1.\n",
      " 1.         1.         1.         1.         1.         1.\n",
      " 1.         1.         1.         1.         1.         1.\n",
      " 0.91330049 0.91330049 0.91330049 1.         1.         1.\n",
      " 1.         1.         1.         1.         1.         1.\n",
      " 1.         1.         1.         1.         1.         1.\n",
      " 1.         1.         1.         1.         1.         1.\n",
      " 1.         1.         1.         1.         1.         1.\n",
      " 0.85931174 0.85931174 0.85931174 1.         1.         1.\n",
      " 1.         1.         1.         1.         1.         1.\n",
      " 1.         1.         1.         1.         0.86619433 0.86619433\n",
      " 0.86619433 1.         1.         1.         1.         1.\n",
      " 1.         1.         1.         1.         1.         1.\n",
      " 1.         1.         1.         1.         1.         1.\n",
      " 1.         1.         1.         1.         1.         1.\n",
      " 1.         1.         1.         1.         0.89156102 0.89156102\n",
      " 0.89156102 1.         1.         1.         1.         1.\n",
      " 1.         1.         1.         1.         1.         1.\n",
      " 1.         1.         1.         1.         1.         1.\n",
      " 1.         1.         1.         1.         1.        ]\n",
      "  warnings.warn(\n",
      "E:\\New folder\\lib\\site-packages\\sklearn\\model_selection\\_search.py:969: UserWarning: One or more of the test scores are non-finite: [0.83333333 0.83333333 0.9        0.9        0.73333333 0.83333333\n",
      " 0.73333333 0.9        0.7        0.8        0.83333333 0.83333333\n",
      " 0.83333333 0.9        0.86666667 0.93333333 1.         1.\n",
      " 0.96666667 0.96666667 0.93333333 0.96666667 0.93333333 0.96666667\n",
      " 0.9        0.9        0.76666667 0.76666667 0.9        1.\n",
      " 0.93333333 0.96666667 0.76666667 0.9        0.86666667 0.86666667\n",
      " 0.73333333 0.8        0.86666667 0.86666667 0.66666667 0.86666667\n",
      " 0.6        0.7        0.7        0.8        0.63333333 0.66666667\n",
      " 0.53333333 0.76666667 0.53333333 0.53333333 0.7        0.8\n",
      " 0.8        0.86666667 0.5        0.9        0.5        0.6\n",
      " 0.5        0.6        0.5        0.6               nan        nan\n",
      "        nan        nan        nan        nan        nan        nan\n",
      "        nan        nan        nan        nan        nan        nan\n",
      "        nan        nan        nan        nan        nan        nan\n",
      "        nan        nan        nan        nan        nan        nan\n",
      "        nan        nan        nan        nan        nan        nan\n",
      "        nan        nan        nan        nan        nan        nan\n",
      "        nan        nan        nan        nan        nan        nan\n",
      "        nan        nan        nan        nan        nan        nan\n",
      "        nan        nan        nan        nan        nan        nan\n",
      " 0.83333333 0.83333333 0.9        0.9        0.73333333 0.83333333\n",
      " 0.73333333 0.9        0.7        0.8        0.83333333 0.83333333\n",
      " 0.83333333 0.9        0.86666667 0.93333333 1.         1.\n",
      " 0.96666667 0.96666667 0.93333333 0.96666667 0.93333333 0.96666667\n",
      " 0.9        0.9        0.76666667 0.76666667 0.9        1.\n",
      " 0.93333333 0.96666667 0.76666667 0.9        0.86666667 0.86666667\n",
      " 0.73333333 0.8        0.86666667 0.86666667 0.66666667 0.86666667\n",
      " 0.6        0.7        0.7        0.8        0.63333333 0.66666667\n",
      " 0.53333333 0.76666667 0.53333333 0.53333333 0.7        0.8\n",
      " 0.8        0.86666667 0.5        0.9        0.5        0.6\n",
      " 0.5        0.6        0.5        0.6               nan        nan\n",
      "        nan        nan        nan        nan        nan        nan\n",
      "        nan        nan        nan        nan        nan        nan\n",
      "        nan        nan        nan        nan        nan        nan\n",
      "        nan        nan        nan        nan        nan        nan\n",
      "        nan        nan        nan        nan        nan        nan\n",
      "        nan        nan        nan        nan        nan        nan\n",
      "        nan        nan        nan        nan        nan        nan\n",
      "        nan        nan        nan        nan        nan        nan\n",
      "        nan        nan        nan        nan        nan        nan\n",
      " 0.83333333 0.83333333 0.9        0.9        0.73333333 0.83333333\n",
      " 0.73333333 0.9        0.7        0.8        0.83333333 0.83333333\n",
      " 0.83333333 0.9        0.86666667 0.93333333 1.         1.\n",
      " 0.96666667 0.96666667 0.93333333 0.96666667 0.93333333 0.96666667\n",
      " 0.9        0.9        0.76666667 0.76666667 0.9        1.\n",
      " 0.93333333 0.96666667 0.76666667 0.9        0.86666667 0.86666667\n",
      " 0.73333333 0.8        0.86666667 0.86666667 0.66666667 0.86666667\n",
      " 0.6        0.7        0.7        0.8        0.63333333 0.66666667\n",
      " 0.53333333 0.76666667 0.53333333 0.53333333 0.7        0.8\n",
      " 0.8        0.86666667 0.5        0.9        0.5        0.6\n",
      " 0.5        0.6        0.5        0.6               nan        nan\n",
      "        nan        nan        nan        nan        nan        nan\n",
      "        nan        nan        nan        nan        nan        nan\n",
      "        nan        nan        nan        nan        nan        nan\n",
      "        nan        nan        nan        nan        nan        nan\n",
      "        nan        nan        nan        nan        nan        nan\n",
      "        nan        nan        nan        nan        nan        nan\n",
      "        nan        nan        nan        nan        nan        nan\n",
      "        nan        nan        nan        nan        nan        nan\n",
      "        nan        nan        nan        nan        nan        nan\n",
      " 0.88       0.9        0.92       0.92       0.86       0.88\n",
      " 0.86       0.92       0.92       0.88       0.86       0.88\n",
      " 0.74       0.8        0.76666667 0.64666667 0.7        0.62666667\n",
      " 0.74666667 0.62       0.72       0.56       0.74       0.62666667\n",
      " 0.7        0.56666667 0.68666667 0.56       0.74       0.50666667\n",
      " 0.66666667 0.6        0.74       0.52666667 0.70666667 0.5\n",
      " 0.78       0.56666667 0.74       0.64       0.74666667 0.76666667\n",
      " 0.80666667 0.68       0.8        0.72       0.82       0.76\n",
      " 0.74666667 0.74666667 0.62       0.8        0.74666667 0.64666667\n",
      " 0.70666667 0.8        0.68666667 0.74666667 0.66       0.76\n",
      " 0.58666667 0.76666667 0.72       0.76       0.64666667 0.72666667\n",
      " 0.78       0.66666667 0.8        0.76       0.72       0.76666667\n",
      " 0.58666667 0.76       0.66       0.74666667 0.68666667 0.8\n",
      " 0.70666667 0.72666667 0.64666667 0.64666667 0.62       0.74666667\n",
      " 0.74666667 0.78       0.76       0.82       0.5        0.72\n",
      " 0.8        0.68       0.80666667 0.8        0.74666667 0.74666667\n",
      " 0.74       0.62666667 0.7        0.56666667 0.68666667 0.56\n",
      " 0.74       0.50666667 0.66666667 0.6        0.74       0.52666667\n",
      " 0.64       0.70666667 0.78       0.5        0.74       0.72\n",
      " 0.62       0.74666667 0.62666667 0.7        0.64666667 0.76666667\n",
      " 0.56666667 0.5        0.8        0.76666667 0.80666667 0.7\n",
      " 0.62666667 0.74666667 0.62       0.72       0.56       0.74\n",
      " 0.62666667 0.7        0.56666667 0.68666667 0.64666667 0.56\n",
      " 0.50666667 0.56       0.6        0.74       0.52666667 0.70666667\n",
      " 0.5        0.78       0.5        0.74       0.76666667 0.74\n",
      " 0.76666667 0.56666667 0.74       0.68       0.8        0.72\n",
      " 0.82       0.76       0.78       0.74666667 0.74666667 0.62\n",
      " 0.8        0.64666667 0.72666667 0.70666667 0.8        0.68666667\n",
      " 0.74666667 0.66       0.76       0.58666667 0.76666667 0.72\n",
      " 0.76       0.64666667 0.74666667 0.64       0.74666667 0.74\n",
      " 0.83809524 0.83809524 0.83809524 0.80952381 0.80952381 0.79206349\n",
      " 0.80952381 0.79206349 0.79206349 0.83174603 0.83174603 0.83174603\n",
      " 0.83174603 0.83174603 0.83492063 0.83492063 0.83174603 0.83492063\n",
      " 0.83492063 0.86349206 0.85238095 0.82063492 0.85238095 0.86349206\n",
      " 0.83492063 0.83492063 0.82063492 0.83492063 0.83492063 0.86349206\n",
      " 0.85238095 0.82063492 0.83492063 0.84126984 0.84126984 0.84126984\n",
      " 0.82380952 0.82380952 0.84603175 0.84603175 0.82380952 0.84603175\n",
      " 0.84603175 0.84603175 0.84603175 0.81746032 0.81746032 0.81746032\n",
      " 0.8047619  0.8047619  0.8047619  0.82380952 0.82380952 0.82380952\n",
      " 0.85238095 0.85238095 0.85238095 0.83492063 0.83492063 0.83492063\n",
      " 0.83809524 0.83492063 0.83492063 0.85238095 0.85238095 0.85238095\n",
      " 0.87777778 0.83492063 0.83809524 0.87777778 0.87777778 0.83809524\n",
      " 0.82698413 0.82698413 0.82698413 0.85238095 0.85238095 0.85238095\n",
      " 0.78571429 0.78571429 0.78571429 0.78571429 0.78571429 0.78571429\n",
      " 0.8015873  0.8047619  0.81111111 0.81111111 0.8047619  0.81111111\n",
      " 0.82627451 0.8145098  0.82627451 0.85568627 0.85568627 0.84039216\n",
      " 0.84627451 0.84039216 0.84627451 0.84627451 0.85568627 0.84039216\n",
      " 0.84470588 0.84470588 0.84470588 0.81372549 0.81372549 0.81372549\n",
      " 0.86666667 0.86666667 0.86666667 0.84392157 0.84392157 0.84392157\n",
      " 0.84392157 0.84392157 0.84392157 0.81960784 0.81960784 0.81960784\n",
      " 0.86666667 0.86666667 0.86666667 0.84980392 0.8372549  0.8372549\n",
      " 0.8372549  0.84980392 0.84980392 0.8372549  0.8372549  0.8372549\n",
      " 0.86235294 0.86235294 0.86235294 0.8547619  0.8547619  0.86587302\n",
      " 0.86587302 0.86587302 0.8484127  0.8484127  0.8484127  0.85753968\n",
      " 0.85753968 0.85753968 0.85753968 0.85753968 0.85753968 0.86587302\n",
      " 0.86587302 0.86587302 0.85873016 0.85873016 0.8531746  0.8531746\n",
      " 0.8531746  0.85873016 0.88245657 0.88245657 0.88245657 0.87768534\n",
      " 0.87768534 0.87768534 0.88096403 0.88230976 0.88230976 0.88230976\n",
      " 0.88096403 0.88096403 0.89305786 0.89305786 0.89305786 0.89719609\n",
      " 0.89719609 0.89719609 0.90492395 0.90492395 0.90492395 0.90358369\n",
      " 0.90358369]\n",
      "  warnings.warn(\n",
      "E:\\New folder\\lib\\site-packages\\sklearn\\model_selection\\_search.py:969: UserWarning: One or more of the train scores are non-finite: [1.         1.         1.         1.         0.9        1.\n",
      " 0.93333333 1.         0.86349206 1.         0.88095238 1.\n",
      " 0.82380952 1.         0.82380952 1.         0.82063492 1.\n",
      " 0.81269841 1.         0.85714286 1.         0.82539683 1.\n",
      " 0.6984127  1.         0.72380952 1.         0.79047619 1.\n",
      " 0.76190476 1.         0.67777778 1.         0.72380952 1.\n",
      " 0.72539683 1.         0.77301587 1.         0.66984127 1.\n",
      " 0.66349206 1.         0.68253968 1.         0.71269841 1.\n",
      " 0.62380952 1.         0.60634921 1.         0.71904762 1.\n",
      " 0.66984127 1.         0.5        1.         0.5        1.\n",
      " 0.5        1.         0.5        1.                nan        nan\n",
      "        nan        nan        nan        nan        nan        nan\n",
      "        nan        nan        nan        nan        nan        nan\n",
      "        nan        nan        nan        nan        nan        nan\n",
      "        nan        nan        nan        nan        nan        nan\n",
      "        nan        nan        nan        nan        nan        nan\n",
      "        nan        nan        nan        nan        nan        nan\n",
      "        nan        nan        nan        nan        nan        nan\n",
      "        nan        nan        nan        nan        nan        nan\n",
      "        nan        nan        nan        nan        nan        nan\n",
      " 1.         1.         1.         1.         0.9        1.\n",
      " 0.93333333 1.         0.86349206 1.         0.88095238 1.\n",
      " 0.82380952 1.         0.82380952 1.         0.82063492 1.\n",
      " 0.81269841 1.         0.85714286 1.         0.82539683 1.\n",
      " 0.6984127  1.         0.72380952 1.         0.79047619 1.\n",
      " 0.76190476 1.         0.67777778 1.         0.72380952 1.\n",
      " 0.72539683 1.         0.77301587 1.         0.66984127 1.\n",
      " 0.66349206 1.         0.68253968 1.         0.71269841 1.\n",
      " 0.62380952 1.         0.60634921 1.         0.71904762 1.\n",
      " 0.66984127 1.         0.5        1.         0.5        1.\n",
      " 0.5        1.         0.5        1.                nan        nan\n",
      "        nan        nan        nan        nan        nan        nan\n",
      "        nan        nan        nan        nan        nan        nan\n",
      "        nan        nan        nan        nan        nan        nan\n",
      "        nan        nan        nan        nan        nan        nan\n",
      "        nan        nan        nan        nan        nan        nan\n",
      "        nan        nan        nan        nan        nan        nan\n",
      "        nan        nan        nan        nan        nan        nan\n",
      "        nan        nan        nan        nan        nan        nan\n",
      "        nan        nan        nan        nan        nan        nan\n",
      " 1.         1.         1.         1.         0.9        1.\n",
      " 0.93333333 1.         0.86349206 1.         0.88095238 1.\n",
      " 0.82380952 1.         0.82380952 1.         0.82063492 1.\n",
      " 0.81269841 1.         0.85714286 1.         0.82539683 1.\n",
      " 0.6984127  1.         0.72380952 1.         0.79047619 1.\n",
      " 0.76190476 1.         0.67777778 1.         0.72380952 1.\n",
      " 0.72539683 1.         0.77301587 1.         0.66984127 1.\n",
      " 0.66349206 1.         0.68253968 1.         0.71269841 1.\n",
      " 0.62380952 1.         0.60634921 1.         0.71904762 1.\n",
      " 0.66984127 1.         0.5        1.         0.5        1.\n",
      " 0.5        1.         0.5        1.                nan        nan\n",
      "        nan        nan        nan        nan        nan        nan\n",
      "        nan        nan        nan        nan        nan        nan\n",
      "        nan        nan        nan        nan        nan        nan\n",
      "        nan        nan        nan        nan        nan        nan\n",
      "        nan        nan        nan        nan        nan        nan\n",
      "        nan        nan        nan        nan        nan        nan\n",
      "        nan        nan        nan        nan        nan        nan\n",
      "        nan        nan        nan        nan        nan        nan\n",
      "        nan        nan        nan        nan        nan        nan\n",
      " 1.         1.         1.         1.         0.81882353 1.\n",
      " 0.81882353 1.         1.         1.         0.81882353 1.\n",
      " 1.         1.         1.         0.6972549  1.         0.60901961\n",
      " 1.         0.57411765 1.         0.53333333 1.         0.62078431\n",
      " 1.         0.54156863 1.         0.52666667 1.         0.50666667\n",
      " 1.         0.54078431 1.         0.54745098 1.         0.5\n",
      " 1.         0.56078431 1.         0.62901961 1.         0.79019608\n",
      " 1.         0.75215686 1.         0.7254902  1.         0.77529412\n",
      " 0.69921569 1.         0.67803922 1.         0.78941176 0.67803922\n",
      " 0.72117647 1.         0.68352941 1.         0.67137255 1.\n",
      " 0.59803922 1.         0.71372549 1.         0.6654902  1.\n",
      " 1.         1.         1.         1.         0.71372549 1.\n",
      " 0.59803922 1.         0.67137255 1.         0.68352941 1.\n",
      " 0.72117647 1.         0.6654902  0.67803922 0.67803922 1.\n",
      " 0.69921569 1.         0.77529412 1.         0.5        0.7254902\n",
      " 1.         0.75215686 1.         1.         0.78941176 1.\n",
      " 1.         0.62078431 1.         0.54156863 1.         0.52666667\n",
      " 1.         0.50666667 1.         0.54078431 1.         0.54745098\n",
      " 0.62901961 1.         1.         0.5        1.         1.\n",
      " 0.57411765 1.         0.60901961 1.         0.6972549  1.\n",
      " 0.56078431 0.5        1.         0.79019608 1.         1.\n",
      " 0.60901961 1.         0.57411765 1.         0.53333333 1.\n",
      " 0.62078431 1.         0.54156863 1.         0.6972549  0.52666667\n",
      " 0.50666667 0.53333333 0.54078431 1.         0.54745098 1.\n",
      " 0.5        1.         0.5        1.         0.79019608 1.\n",
      " 1.         0.56078431 1.         0.75215686 1.         0.7254902\n",
      " 1.         0.77529412 1.         0.69921569 1.         0.67803922\n",
      " 1.         0.67803922 1.         0.72117647 1.         0.68352941\n",
      " 1.         0.67137255 1.         0.59803922 1.         0.71372549\n",
      " 1.         0.6654902  1.         0.62901961 0.78941176 1.\n",
      " 1.         1.         1.         1.         1.         1.\n",
      " 1.         1.         1.         1.         1.         1.\n",
      " 1.         1.         1.         1.         1.         1.\n",
      " 1.         1.         0.84729064 1.         0.84729064 1.\n",
      " 1.         1.         1.         1.         1.         1.\n",
      " 0.84729064 1.         1.         0.85014778 0.85014778 0.85014778\n",
      " 0.84955665 0.84955665 1.         1.         0.84955665 1.\n",
      " 1.         1.         1.         1.         1.         1.\n",
      " 0.82610837 0.82610837 0.82610837 1.         1.         1.\n",
      " 1.         1.         1.         1.         1.         1.\n",
      " 1.         1.         1.         1.         1.         1.\n",
      " 1.         1.         1.         1.         1.         1.\n",
      " 1.         1.         1.         1.         1.         1.\n",
      " 0.91330049 0.91330049 0.91330049 1.         1.         1.\n",
      " 1.         1.         1.         1.         1.         1.\n",
      " 1.         1.         1.         1.         1.         1.\n",
      " 1.         1.         1.         1.         1.         1.\n",
      " 1.         1.         1.         1.         1.         1.\n",
      " 0.85931174 0.85931174 0.85931174 1.         1.         1.\n",
      " 1.         1.         1.         1.         1.         1.\n",
      " 1.         1.         1.         1.         0.86619433 0.86619433\n",
      " 0.86619433 1.         1.         1.         1.         1.\n",
      " 1.         1.         1.         1.         1.         1.\n",
      " 1.         1.         1.         1.         1.         1.\n",
      " 1.         1.         1.         1.         1.         1.\n",
      " 1.         1.         1.         1.         0.89156102 0.89156102\n",
      " 0.89156102 1.         1.         1.         1.         1.\n",
      " 1.         1.         1.         1.         1.         1.\n",
      " 1.         1.         1.         1.         1.         1.\n",
      " 1.         1.         1.         1.         1.         1.\n",
      " 1.        ]\n",
      "  warnings.warn(\n",
      "E:\\New folder\\lib\\site-packages\\sklearn\\neighbors\\_classification.py:198: DataConversionWarning: A column-vector y was passed when a 1d array was expected. Please change the shape of y to (n_samples,), for example using ravel().\n",
      "  return self._fit(X, y)\n"
     ]
    },
    {
     "name": "stdout",
     "output_type": "stream",
     "text": [
      "Best score: 0.904\n",
      "Test score: 0.827\n",
      "Best parameters: {'weights': 'distance', 'p': 1, 'n_neighbors': 19, 'algorithm': 'ball_tree'}\n"
     ]
    }
   ],
   "source": [
    "import numpy as np\n",
    "from sklearn.model_selection import train_test_split\n",
    "from sklearn.neighbors import KNeighborsClassifier\n",
    "from sklearn.model_selection import HalvingRandomSearchCV\n",
    "from sklearn.metrics import make_scorer, accuracy_score\n",
    "\n",
    "\n",
    "# Define the hyperparameter space for KNN\n",
    "param_distributions = {\n",
    "    'n_neighbors': np.arange(1, 31),\n",
    "    'weights': ['uniform', 'distance'],\n",
    "    'algorithm': ['ball_tree', 'kd_tree', 'brute'],\n",
    "    'p': [1, 2],\n",
    "}\n",
    "\n",
    "# Define the scoring metric\n",
    "scoring = make_scorer(roc_auc_score, greater_is_better=True)\n",
    "\n",
    "# Define the HalvingRandomSearchCV object\n",
    "halving_search = HalvingRandomSearchCV(\n",
    "    KNeighborsClassifier(),\n",
    "    param_distributions=param_distributions,\n",
    "    scoring=scoring,\n",
    "    n_jobs=-1,\n",
    "    factor=2,\n",
    "    max_resources='auto',\n",
    "    cv=5,\n",
    "    random_state=42,\n",
    ")\n",
    "\n",
    "# Fit the HalvingRandomSearchCV object to the training data\n",
    "halving_search.fit(X_train_scaled, yt_smt)\n",
    "\n",
    "# Get the best hyperparameters and score\n",
    "best_params = halving_search.best_params_\n",
    "best_score = halving_search.best_score_\n",
    "\n",
    "# Get the final predicted output on the test data\n",
    "y_pred = halving_search.predict(X_test_scaled)\n",
    "\n",
    "# Compute the test score\n",
    "test_score = roc_auc_score(y_test, y_pred)\n",
    "\n",
    "print(\"Best score: {:.3f}\".format(best_score))\n",
    "print(\"Test score: {:.3f}\".format(test_score))\n",
    "print(\"Best parameters:\", best_params)"
   ]
  },
  {
   "cell_type": "code",
   "execution_count": 214,
   "id": "fb9c445c",
   "metadata": {},
   "outputs": [
    {
     "name": "stdout",
     "output_type": "stream",
     "text": [
      "k Value:  1 Train Score:  1.0 CV Score:  0.9414355528116145\n",
      "k Value:  2 Train Score:  0.9841177497236605 CV Score:  0.9305953983626314\n",
      "k Value:  3 Train Score:  0.965287877906413 CV Score:  0.9339694906544285\n",
      "k Value:  4 Train Score:  0.9619718036728916 CV Score:  0.9304401603460495\n",
      "k Value:  5 Train Score:  0.9521399344542052 CV Score:  0.9295286536500962\n",
      "k Value:  6 Train Score:  0.9506467314367716 CV Score:  0.9271240044751515\n",
      "k Value:  7 Train Score:  0.9444799968972405 CV Score:  0.9258247167715729\n",
      "k Value:  8 Train Score:  0.9433940310663796 CV Score:  0.9245642526754555\n",
      "k Value:  9 Train Score:  0.9392246979657533 CV Score:  0.9233424805558528\n",
      "k Value:  10 Train Score:  0.9378672406771773 CV Score:  0.9208215410809654\n",
      "k Value:  15 Train Score:  0.9287528845967382 CV Score:  0.9170593969978815\n",
      "k Value:  20 Train Score:  0.9239048228518238 CV Score:  0.9148100347310134\n"
     ]
    }
   ],
   "source": [
    "from sklearn.neighbors import KNeighborsClassifier\n",
    "from sklearn.model_selection import cross_val_score\n",
    "from sklearn.metrics import accuracy_score\n",
    "\n",
    "for i in [1,2,3,4,5,6,7,8,9,10,15,20]:\n",
    "    model_knn = KNeighborsClassifier(i)\n",
    "    model_knn.fit(X_train_scaled, yt_smt.values.ravel())\n",
    "    accu_score = accuracy_score(yt_smt.values.ravel(), model_knn.predict(X_train_scaled))\n",
    "    model_knn = KNeighborsClassifier(i)\n",
    "    val_score = cross_val_score(model_knn, X_train_scaled, yt_smt.values.ravel(), cv = 10)\n",
    "    print(\"k Value: \",i, \"Train Score: \", accu_score, \"CV Score: \", np.mean(val_score))"
   ]
  },
  {
   "cell_type": "code",
   "execution_count": 158,
   "id": "64480eeb",
   "metadata": {},
   "outputs": [
    {
     "data": {
      "text/plain": [
       "KNeighborsClassifier(algorithm='ball_tree', n_neighbors=20, p=1,\n",
       "                     weights='distance')"
      ]
     },
     "execution_count": 158,
     "metadata": {},
     "output_type": "execute_result"
    }
   ],
   "source": [
    "from sklearn.neighbors import KNeighborsClassifier\n",
    "from sklearn.model_selection import cross_val_score\n",
    "from sklearn.metrics import accuracy_score\n",
    "\n",
    "model_knn = KNeighborsClassifier(weights = 'distance', p = 1, n_neighbors = 20, algorithm= 'ball_tree')\n",
    "model_knn.fit(X_train_scaled, yt_smt.values.ravel())"
   ]
  },
  {
   "cell_type": "code",
   "execution_count": 159,
   "id": "d539ac42",
   "metadata": {},
   "outputs": [
    {
     "data": {
      "text/plain": [
       "0.806405945850292"
      ]
     },
     "execution_count": 159,
     "metadata": {},
     "output_type": "execute_result"
    }
   ],
   "source": [
    "model_knn.score(X_test_scaled, y_test)"
   ]
  },
  {
   "cell_type": "code",
   "execution_count": 160,
   "id": "b45d43fd",
   "metadata": {},
   "outputs": [],
   "source": [
    "y_predict = model_knn.predict(X_test_scaled)"
   ]
  },
  {
   "cell_type": "code",
   "execution_count": 161,
   "id": "3734b917",
   "metadata": {},
   "outputs": [
    {
     "name": "stdout",
     "output_type": "stream",
     "text": [
      "              precision    recall  f1-score   support\n",
      "\n",
      "           0       0.98      0.80      0.88      9978\n",
      "           1       0.36      0.85      0.51      1324\n",
      "\n",
      "    accuracy                           0.81     11302\n",
      "   macro avg       0.67      0.83      0.69     11302\n",
      "weighted avg       0.90      0.81      0.84     11302\n",
      "\n"
     ]
    }
   ],
   "source": [
    "print(classification_report(y_test, y_predict))"
   ]
  },
  {
   "cell_type": "code",
   "execution_count": 162,
   "id": "3ec45793",
   "metadata": {},
   "outputs": [
    {
     "data": {
      "text/plain": [
       "<AxesSubplot:>"
      ]
     },
     "execution_count": 162,
     "metadata": {},
     "output_type": "execute_result"
    },
    {
     "data": {
      "image/png": "[encoded data removed]",
      "text/plain": [
       "<Figure size 504x360 with 2 Axes>"
      ]
     },
     "metadata": {
      "needs_background": "light"
     },
     "output_type": "display_data"
    }
   ],
   "source": [
    "cm = confusion_matrix(y_test,y_predict)\n",
    "fig, ax = plt.subplots(figsize=(7,5))  \n",
    "sns.heatmap(cm, annot = True, fmt=\".1f\")"
   ]
  },
  {
   "cell_type": "code",
   "execution_count": 163,
   "id": "84203b1a",
   "metadata": {},
   "outputs": [
    {
     "name": "stdout",
     "output_type": "stream",
     "text": [
      "The AUCROC Score for Decision Tree is:  89.409 %\n"
     ]
    }
   ],
   "source": [
    "from sklearn.metrics import roc_auc_score\n",
    "auc_score_5 = (roc_auc_score(y_test, model_knn.predict_proba(X_test_scaled)[:, 1]))*100\n",
    "print(\"The AUCROC Score for Decision Tree is: \", round(auc_score_5,3),\"%\")"
   ]
  },
  {
   "cell_type": "markdown",
   "id": "8589813a",
   "metadata": {},
   "source": [
    "# XG Boost"
   ]
  },
  {
   "cell_type": "code",
   "execution_count": 165,
   "id": "99e5b750",
   "metadata": {},
   "outputs": [
    {
     "name": "stderr",
     "output_type": "stream",
     "text": [
      "E:\\New folder\\lib\\site-packages\\sklearn\\utils\\validation.py:993: DataConversionWarning: A column-vector y was passed when a 1d array was expected. Please change the shape of y to (n_samples, ), for example using ravel().\n",
      "  y = column_or_1d(y, warn=True)\n"
     ]
    },
    {
     "name": "stdout",
     "output_type": "stream",
     "text": [
      "Best score: 0.962\n",
      "Test score: 0.844\n",
      "Best parameters: {'subsample': 0.8, 'max_depth': 9, 'learning_rate': 0.08111308307896872, 'gamma': 0.521400828799969, 'colsample_bytree': 0.5}\n"
     ]
    }
   ],
   "source": [
    "import numpy as np\n",
    "from xgboost import XGBClassifier\n",
    "from sklearn.model_selection import train_test_split\n",
    "from sklearn.model_selection import HalvingRandomSearchCV\n",
    "from sklearn.metrics import make_scorer, roc_auc_score\n",
    "\n",
    "# Define the hyperparameter space for XGBoost\n",
    "param_distributions = {\n",
    "    'learning_rate': np.logspace(-4, 0, 100),\n",
    "    'max_depth': np.arange(2, 10),\n",
    "    'subsample': np.linspace(0.5, 1.0, 6),\n",
    "    'colsample_bytree': np.linspace(0.5, 1.0, 6),\n",
    "    'gamma': np.logspace(-4, 0, 100),\n",
    "}\n",
    "\n",
    "# Define the scoring metric\n",
    "scoring = make_scorer(roc_auc_score, greater_is_better=True)\n",
    "\n",
    "# Define the HalvingRandomSearchCV object\n",
    "halving_search = HalvingRandomSearchCV(\n",
    "    XGBClassifier(),\n",
    "    param_distributions=param_distributions,\n",
    "    scoring=scoring,\n",
    "    n_jobs=-1,\n",
    "    factor=2,\n",
    "    max_resources='auto',\n",
    "    cv=5,\n",
    "    random_state=42,\n",
    ")\n",
    "\n",
    "# Fit the HalvingRandomSearchCV object to the training data\n",
    "halving_search.fit(X_train_scaled, yt_smt)\n",
    "\n",
    "# Get the best hyperparameters and score\n",
    "best_params = halving_search.best_params_\n",
    "best_score = halving_search.best_score_\n",
    "\n",
    "# Get the final predicted output on the test data\n",
    "y_pred = halving_search.predict(X_test_scaled)\n",
    "\n",
    "# Compute the test score\n",
    "test_score = roc_auc_score(y_test, y_pred)\n",
    "\n",
    "print(\"Best score: {:.3f}\".format(best_score))\n",
    "print(\"Test score: {:.3f}\".format(test_score))\n",
    "print(\"Best parameters:\", best_params)\n"
   ]
  },
  {
   "cell_type": "code",
   "execution_count": 226,
   "id": "db064c1e",
   "metadata": {},
   "outputs": [
    {
     "name": "stdout",
     "output_type": "stream",
     "text": [
      "Learning rate :  0.01  Train score :  0.9196967052572381  Cross-Val score :  0.9152947262023661\n",
      "Learning rate :  0.04  Train score :  0.9474857951790874  Cross-Val score :  0.9421532573845338\n",
      "Learning rate :  0.08  Train score :  0.9614094285104815  Cross-Val score :  0.9549329261348806\n",
      "Learning rate :  0.1  Train score :  0.9656757228460061  Cross-Val score :  0.9573376430057408\n",
      "Learning rate :  0.15  Train score :  0.9751197471250994  Cross-Val score :  0.9615071735857159\n",
      "Learning rate :  0.2  Train score :  0.9801035545988713  Cross-Val score :  0.965327449655676\n",
      "Learning rate :  0.5  Train score :  0.9926309461477302  Cross-Val score :  0.9676547111167075\n",
      "Learning rate :  0.6  Train score :  0.9952101149960246  Cross-Val score :  0.9682945917131475\n",
      "Learning rate :  0.7  Train score :  0.9969360249772141  Cross-Val score :  0.9677516667110451\n",
      "Learning rate :  1  Train score :  0.9993018791087324  Cross-Val score :  0.9677516215804347\n"
     ]
    }
   ],
   "source": [
    "import xgboost as xgb\n",
    "from sklearn.model_selection import cross_val_score\n",
    "import numpy as np\n",
    "for lr in [0.01,0.04,0.08,0.1,0.15,0.2,0.5,0.6,0.7,1]:\n",
    "    model = xgb.XGBClassifier(learning_rate = lr, n_estimators=100, verbosity = 0) \n",
    "    model.fit(X_train_scaled,yt_smt) \n",
    "    model.score(X_test_scaled, y_test) # scoring the model - r2 squared\n",
    "    print(\"Learning rate : \", lr, \" Train score : \", model.score(X_train_scaled,yt_smt), \" Cross-Val score : \", np.mean(cross_val_score(model, X_train_scaled, yt_smt, cv=10)))"
   ]
  },
  {
   "cell_type": "code",
   "execution_count": 180,
   "id": "c67f6468",
   "metadata": {},
   "outputs": [
    {
     "data": {
      "text/plain": [
       "0.8585206158202088"
      ]
     },
     "execution_count": 180,
     "metadata": {},
     "output_type": "execute_result"
    }
   ],
   "source": [
    "import xgboost as xgb\n",
    "\n",
    "model_XGB = xgb.XGBClassifier(learning_rate = 0.08, max_depth = 9, verbosity = 0, gamma = 0.5, colsample_bytree = 0.5, subsample = 0.8)\n",
    "model_XGB.fit(X_train_scaled,yt_smt) #train the model\n",
    "model_XGB.score(X_test_scaled, y_test) # scoring the model - r2 squared"
   ]
  },
  {
   "cell_type": "code",
   "execution_count": 181,
   "id": "2bf7ab56",
   "metadata": {},
   "outputs": [],
   "source": [
    "y_predict = model_XGB.predict(X_test_scaled)"
   ]
  },
  {
   "cell_type": "code",
   "execution_count": 184,
   "id": "1345931f",
   "metadata": {},
   "outputs": [
    {
     "name": "stdout",
     "output_type": "stream",
     "text": [
      "              precision    recall  f1-score   support\n",
      "\n",
      "           0       0.97      0.86      0.92      9978\n",
      "           1       0.44      0.83      0.58      1324\n",
      "\n",
      "    accuracy                           0.86     11302\n",
      "   macro avg       0.71      0.84      0.75     11302\n",
      "weighted avg       0.91      0.86      0.88     11302\n",
      "\n"
     ]
    }
   ],
   "source": [
    "print(classification_report(y_test, y_predict))"
   ]
  },
  {
   "cell_type": "code",
   "execution_count": 182,
   "id": "ba3ca1cc",
   "metadata": {},
   "outputs": [
    {
     "data": {
      "text/plain": [
       "<AxesSubplot:>"
      ]
     },
     "execution_count": 182,
     "metadata": {},
     "output_type": "execute_result"
    },
    {
     "data": {
      "image/png": "[encoded data removed]",
      "text/plain": [
       "<Figure size 504x432 with 2 Axes>"
      ]
     },
     "metadata": {
      "needs_background": "light"
     },
     "output_type": "display_data"
    }
   ],
   "source": [
    "cm = confusion_matrix(y_test, y_predict)\n",
    "fig, ax = plt.subplots(figsize=(7,6))\n",
    "sns.heatmap(cm, annot = True, fmt=\".1f\")"
   ]
  },
  {
   "cell_type": "code",
   "execution_count": 183,
   "id": "c725c074",
   "metadata": {},
   "outputs": [
    {
     "name": "stdout",
     "output_type": "stream",
     "text": [
      "The AUCROC Score for XGBoost Classifier is:  0.9174856890597378\n"
     ]
    }
   ],
   "source": [
    "from sklearn.metrics import roc_auc_score\n",
    "auc_score_6 = roc_auc_score(y_test, model_XGB.predict_proba(X_test_scaled)[:, 1])\n",
    "print(\"The AUCROC Score for XGBoost Classifier is: \", auc_score_6)"
   ]
  },
  {
   "cell_type": "markdown",
   "id": "78a2771d",
   "metadata": {},
   "source": [
    "# Evaluation Metrics & Graphs"
   ]
  },
  {
   "cell_type": "code",
   "execution_count": 185,
   "id": "023d594c",
   "metadata": {},
   "outputs": [],
   "source": [
    "# ROC curve\n",
    "from sklearn.metrics import roc_curve\n",
    "\n",
    "fpr1, tpr1, thresh1 = roc_curve(y_test, model_LR.predict_proba(X_test_scaled)[:, 1], pos_label = 1)\n",
    "fpr2, tpr2, thresh2 = roc_curve(y_test, model_svm.predict_proba(X_test_scaled)[:, 1], pos_label = 1)\n",
    "fpr3, tpr3, thresh3 = roc_curve(y_test, model_RF.predict_proba(X_test_scaled)[:, 1], pos_label = 1)\n",
    "fpr4, tpr4, thresh4 = roc_curve(y_test, model_DT.predict_proba(X_test_scaled)[:, 1], pos_label = 1)\n",
    "fpr5, tpr5, thresh5 = roc_curve(y_test, model_knn.predict_proba(X_test_scaled)[:, 1], pos_label = 1)\n",
    "fpr6, tpr6, thresh6 = roc_curve(y_test, model_XGB.predict_proba(X_test_scaled)[:, 1], pos_label = 1)\n"
   ]
  },
  {
   "cell_type": "code",
   "execution_count": 186,
   "id": "79846a98",
   "metadata": {},
   "outputs": [
    {
     "name": "stdout",
     "output_type": "stream",
     "text": [
      "Logistic Regression:  87.78377\n",
      "Support Vector Machine:  87.80088\n",
      "Random Forest:  91.13308\n",
      "Decision Tree  83.872\n",
      "K-Nearest Neighbors:  89.40853\n",
      "XGBoost :  91.74857\n"
     ]
    }
   ],
   "source": [
    "# AUC score\n",
    "\n",
    "from sklearn.metrics import roc_auc_score\n",
    "\n",
    "auc_score1 = roc_auc_score(y_test, model_LR.predict_proba(X_test_scaled)[:, 1])*100\n",
    "auc_score2 = roc_auc_score(y_test, model_svm.predict_proba(X_test_scaled)[:, 1])*100\n",
    "auc_score3 = roc_auc_score(y_test, model_RF.predict_proba(X_test_scaled)[:, 1])*100\n",
    "auc_score4 = roc_auc_score(y_test, model_DT.predict_proba(X_test_scaled)[:, 1])*100\n",
    "auc_score5 = roc_auc_score(y_test, model_knn.predict_proba(X_test_scaled)[:, 1])*100\n",
    "auc_score6 = roc_auc_score(y_test, model_XGB.predict_proba(X_test_scaled)[:, 1])*100\n",
    "\n",
    "print(\"Logistic Regression: \", round(auc_score1,5)) # Logistic Regression\n",
    "print(\"Support Vector Machine: \", round(auc_score2,5)) # Support Vector Machine\n",
    "print(\"Random Forest: \", round(auc_score3,5)) # Random Forest\n",
    "print(\"Decision Tree \", round(auc_score4,5)) # Descision Tree \n",
    "print(\"K-Nearest Neighbors: \", round(auc_score5,5)) # K-Nearest Neighbors\n",
    "print(\"XGBoost : \", round(auc_score6,5)) # XGBoost"
   ]
  },
  {
   "cell_type": "code",
   "execution_count": 187,
   "id": "2145f5ab",
   "metadata": {
    "scrolled": false
   },
   "outputs": [
    {
     "data": {
      "image/png": "[encoded data removed]",
      "text/plain": [
       "<Figure size 720x432 with 1 Axes>"
      ]
     },
     "metadata": {
      "needs_background": "light"
     },
     "output_type": "display_data"
    }
   ],
   "source": [
    "plt.figure(figsize=(10,6))\n",
    "\n",
    "plt.plot(fpr1, tpr1, linestyle = \"--\", color = \"purple\", label = \"Logistic Regression\")\n",
    "plt.plot(fpr2, tpr2, linestyle = \"--\", color = \"red\", label = \"SVM\")\n",
    "plt.plot(fpr3, tpr3, linestyle = \"--\", color = \"green\", label = \"Random Forest\")\n",
    "plt.plot(fpr4, tpr4, linestyle = \"--\", color = \"blue\", label = \"Decision Tree\")\n",
    "plt.plot(fpr5, tpr5, linestyle = \"--\", color = \"black\", label = \"KNN\")\n",
    "plt.plot(fpr6, tpr6, linestyle = \"--\", color = \"brown\", label = \"XGBoost\")\n",
    "\n",
    "plt.title('Receiver Operator Characteristics (ROC)')\n",
    "plt.xlabel('False Positive Rate')\n",
    "plt.ylabel('True Positive rate')\n",
    "\n",
    "plt.legend(loc = 'best')\n",
    "plt.savefig('ROC', dpi = 300)\n",
    "plt.show()"
   ]
  },
  {
   "cell_type": "markdown",
   "id": "b3920ba9",
   "metadata": {},
   "source": [
    "# Data Inference\n",
    "\n",
    "From the EDA & Analysis of feature importance we can discuss on major areas where the Insurance company could focus on to increase their conversion rate.\n",
    "\n",
    "These are some of the few suggestions to the company:\n",
    "\n",
    "1) The Top Features are:\n",
    "    \n",
    "    - Duration\n",
    "    - Age\n",
    "    - Day\n",
    "    - Month\n",
    "    - Previous Outcome\n",
    "    - Job\n",
    "    - Num of Calls, etc\n",
    "  \n",
    "  Focusing on these values would help to narrow down and enhance the process of conversion within the organization\n",
    "  \n",
    "2) The Num of calls should be made more on the months with max conversion as per the dataset\n",
    "    - march, december, september, october\n",
    "\n",
    "3) Database helps to narrow down a few job entities to which max efforts can be put to maximize conversion\n",
    "    - Student, retired, unemployed, management, admin\n",
    "\n",
    "4) Success on prev_outcome has a massive impact on conversion again, we can focus on strategies to make people convert again with feedback based on success customers\n",
    "\n",
    "5) Taget mean with repect to dates show that many people have been converted at month start, month end, mid week or 10 days from start of the week. With this pattern we can focus on contacts with clients to make sure they are converted"
   ]
  },
  {
   "cell_type": "markdown",
   "id": "b3dd5db8",
   "metadata": {},
   "source": [
    "# Model Inference\n",
    "\n",
    "We have choosen 6 models to find out which models does better with the imbalanced dataset\n",
    "\n",
    "The respective models are:\n",
    "    \n",
    "    - Logistic Regression\n",
    "    - SVM Classifier\n",
    "    - Random Forest Classifier\n",
    "    - Decision Tree Classifier\n",
    "    - KNN Classifier\n",
    "    - XGBoost Classifier\n",
    " \n",
    "Using Halving Random Search Cross Validation Technique, we have fed the model to get the best parameters that give in the maximum AUROC values for the same to fit the model \n",
    "\n",
    "This is faster in computation with respect to Grid Search CV & Random Search CV\n",
    "\n",
    "After Fitting the models, we have seen from the classification report for the values of precicion, F1-score, Re-call & Accuracy values in predicting \n",
    "    \n",
    "    - class \"0\" : no ( Customer not Converted )\n",
    "    \n",
    "    - class \"1\" : yes ( Customer Converted )\n",
    "    \n",
    "With the Confusion Matrix, we can identify how much True Positives & False positives are identified corretly by the model to understand the accuracy of it\n",
    "\n",
    "Lastly, we have calculated the AUROC Values for the respective models as it is the best evaluation metric when you have a imbalanced dataset\n",
    "\n",
    "From the Classification Report, Graph of ROC & AUROC Values, we can find that\n",
    "     \n",
    "     - \"XGBOOST CLASSIFIER\" & \"RANDOM FOREST CLASSIFIER\" have good AUROC values, accuracy of identifying the TP, TN, FP & FN are high than that of the other models\n",
    "    \n",
    "     - Overall, \"XGBOOST CLASSIFIER\" has AUROC around 92% for this model which has identified the TP, TN, FP & FN better than random forest classifier"
   ]
  }
 ],
 "metadata": {
  "kernelspec": {
   "display_name": "Python 3 (ipykernel)",
   "language": "python",
   "name": "python3"
  },
  "language_info": {
   "codemirror_mode": {
    "name": "ipython",
    "version": 3
   },
   "file_extension": ".py",
   "mimetype": "text/x-python",
   "name": "python",
   "nbconvert_exporter": "python",
   "pygments_lexer": "ipython3",
   "version": "3.9.12"
  }
 },
 "nbformat": 4,
 "nbformat_minor": 5
}
